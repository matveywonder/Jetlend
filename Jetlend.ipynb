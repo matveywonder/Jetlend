{
 "cells": [
  {
   "cell_type": "markdown",
   "id": "e6ffe306-6035-4ff7-8077-57a8a18699be",
   "metadata": {},
   "source": [
    "# Тестовое задание: \"Анализ данных о займах\"ент взятия займа.\n",
    " "
   ]
  },
  {
   "cell_type": "markdown",
   "id": "21c8fd2c-f1ed-46ef-bc2e-3d368b5b0a6e",
   "metadata": {},
   "source": [
    "Данное тестовое задание ориентировано на проведение разведочного анализа данных о займах за 2023 год и включает в себя три основных задачи:\n",
    "\n",
    "1. Проведение разведочного анализа займов в разрезе рейтингов.\n",
    "2. Иллюстрация изменения отношения Non-performing займов к общей выдаче займов до текущего дня.\n",
    "3. Когортный анализ дефолтности в разрезе месяца выдачи займа."
   ]
  },
  {
   "cell_type": "markdown",
   "id": "94384516-2acb-4171-97c8-a6bf76b759d0",
   "metadata": {},
   "source": [
    "***Описание***\n",
    "\n",
    "Первоначально, я проверю данные на ошибки и оценю их влияние на исследование. Затем, на этапе предобработки я поищу возможность исправить все ошибки данных, которые не приведут к искажению конечного результата. Далее приступлю к разведочный анализу займов в разрезе рейтингов и после, посмотрю на отношение займов к общей выдаче. Завершу исследование когортным анализом дефолтности в разрезе месяца выдачи займа. По итогам исследования напишу общий вывод и предоставлю рекомендации.\n",
    "\n",
    "Таким образом, моё исследование пройдёт в 6 этапов."
   ]
  },
  {
   "cell_type": "markdown",
   "id": "f72dd9b5-e3fc-47b0-b9b0-2c7aff0c65bd",
   "metadata": {},
   "source": [
    "***Декомпозиция***\n",
    "\n",
    "1. Загрузка и обзор данных.\n",
    "2. Предобработка данных.\n",
    "3. Разведочный анализ займов в разрезе рейтингов.\n",
    "4. Отношение займов к общей выдаче.\n",
    "5. Когортный анализ дефолтности в разрезе месяца выдачи займа.\n",
    "6. Общий вывод."
   ]
  },
  {
   "cell_type": "markdown",
   "id": "8efa4efd-d3b7-4873-8f75-407c59d3349f",
   "metadata": {},
   "source": [
    "***Использование данных***\n",
    "\n",
    "Для выполнения задания предоставлен файл loan_data.csv, содержащий информацию о займах за 2023 год. Файл содержит следующие поля:\n",
    "\n",
    "\n",
    "id: Идентификатор займа.\n",
    "\n",
    "number: Порядковый номер платежа.\n",
    "\n",
    "payment_date: Дата платежа.\n",
    "\n",
    "status: Статус платежа.\n",
    "\n",
    "amount: Сумма платежа.\n",
    "\n",
    "start_date: Дата взятия займа.\n",
    "\n",
    "loan_rating_int: Рейтинг займа.\n",
    "\n",
    "loan_status_str: Статус займа.\n",
    "\n",
    "restruct_status: Статус реструктуризации.\n",
    "\n",
    "auto_approval: Был ли займ одобрен автоматически.\n",
    "\n",
    "borrower_issue_class: Класс заемщика на момент взятия займа.\n"
   ]
  },
  {
   "cell_type": "markdown",
   "id": "178ea4fb-5d2a-469f-a125-77ec9b89ebf9",
   "metadata": {},
   "source": [
    "## 1. Загрузка и обзор данных"
   ]
  },
  {
   "cell_type": "code",
   "execution_count": 1,
   "id": "3328cf94-fcde-4bd6-9c13-14e4175ab900",
   "metadata": {},
   "outputs": [],
   "source": [
    "try:\n",
    "    import pandas as pd\n",
    "    import numpy as np\n",
    "    import matplotlib.pyplot as plt\n",
    "    import plotly.express as px\n",
    "    import datetime as dt\n",
    "    import calendar\n",
    "    import plotly.graph_objects as go\n",
    "except ImportError as e:\n",
    "    print(\"Ошибка импорта: \", e)"
   ]
  },
  {
   "cell_type": "code",
   "execution_count": 2,
   "id": "38eb9195-69f4-4495-86fb-c2a902f5116d",
   "metadata": {},
   "outputs": [],
   "source": [
    "url = 'https://drive.google.com/uc?export=download&id=1f8lS-prMgZnBHOrSg0JFHFF3NVno1Cle'\n",
    "\n",
    "df = pd.read_csv(url)"
   ]
  },
  {
   "cell_type": "code",
   "execution_count": 3,
   "id": "0f080ce8-de5e-432c-aca0-6c040f08e8d4",
   "metadata": {},
   "outputs": [],
   "source": [
    "#уберем пропуски в названиях столбцов и приведем к нижнему регистру\n",
    "df.columns = df.columns.str.lower().str.strip()"
   ]
  },
  {
   "cell_type": "code",
   "execution_count": 4,
   "id": "872498a0-47bc-428f-9829-41582e94c9a4",
   "metadata": {},
   "outputs": [
    {
     "name": "stdout",
     "output_type": "stream",
     "text": [
      "      id  number         payment_date status    amount  \\\n",
      "0  12436       1  2023-02-20T03:00:00   paid  532362.0   \n",
      "1  12436       2  2023-03-20T03:00:00   paid  521224.0   \n",
      "2  12436       3  2023-04-20T03:00:00   paid  522177.0   \n",
      "3  12436       4  2023-05-20T03:00:00   paid  521007.0   \n",
      "4  12436       5  2023-06-20T03:00:00   paid  520816.0   \n",
      "\n",
      "                   start_date  loan_rating_int loan_status_str  \\\n",
      "0  2023-01-04T15:22:07.106088               10          active   \n",
      "1  2023-01-04T15:22:07.106088               10          active   \n",
      "2  2023-01-04T15:22:07.106088               10          active   \n",
      "3  2023-01-04T15:22:07.106088               10          active   \n",
      "4  2023-01-04T15:22:07.106088               10          active   \n",
      "\n",
      "  restruct_status    auto_approval borrower_issue_class  \n",
      "0     no restruct  No auto-approve          4. platinum  \n",
      "1     no restruct  No auto-approve          4. platinum  \n",
      "2     no restruct  No auto-approve          4. platinum  \n",
      "3     no restruct  No auto-approve          4. platinum  \n",
      "4     no restruct  No auto-approve          4. platinum  \n"
     ]
    }
   ],
   "source": [
    "print(df.head())"
   ]
  },
  {
   "cell_type": "markdown",
   "id": "3ee69e61-3e23-4799-a5d1-e63e39b03b57",
   "metadata": {},
   "source": [
    "Можем заметить, что нужно привести колонки payment_date и start_date к корректному типу."
   ]
  },
  {
   "cell_type": "code",
   "execution_count": 5,
   "id": "b527f6ab-4e0a-4c93-be5f-65f36414b262",
   "metadata": {},
   "outputs": [
    {
     "name": "stdout",
     "output_type": "stream",
     "text": [
      "<class 'pandas.core.frame.DataFrame'>\n",
      "RangeIndex: 71025 entries, 0 to 71024\n",
      "Data columns (total 11 columns):\n",
      " #   Column                Non-Null Count  Dtype  \n",
      "---  ------                --------------  -----  \n",
      " 0   id                    71025 non-null  int64  \n",
      " 1   number                71025 non-null  int64  \n",
      " 2   payment_date          70981 non-null  object \n",
      " 3   status                71025 non-null  object \n",
      " 4   amount                71025 non-null  float64\n",
      " 5   start_date            71025 non-null  object \n",
      " 6   loan_rating_int       71025 non-null  int64  \n",
      " 7   loan_status_str       71025 non-null  object \n",
      " 8   restruct_status       71025 non-null  object \n",
      " 9   auto_approval         71025 non-null  object \n",
      " 10  borrower_issue_class  71025 non-null  object \n",
      "dtypes: float64(1), int64(3), object(7)\n",
      "memory usage: 6.0+ MB\n"
     ]
    }
   ],
   "source": [
    "df.info()"
   ]
  },
  {
   "cell_type": "markdown",
   "id": "e8310398-df59-423c-985b-03b0067943b0",
   "metadata": {},
   "source": [
    "Имеются пропуски в payment_date          "
   ]
  },
  {
   "cell_type": "code",
   "execution_count": 6,
   "id": "b41b2f2f-9a57-491b-ae5a-5b06dfaa4d50",
   "metadata": {},
   "outputs": [
    {
     "name": "stdout",
     "output_type": "stream",
     "text": [
      "id: 4712; number: 59; payment_date: 1420; status: 6; amount: 66880; start_date: 4712; loan_rating_int: 18; loan_status_str: 4; restruct_status: 2; auto_approval: 2; borrower_issue_class: 5; "
     ]
    }
   ],
   "source": [
    "for col in df.columns:\n",
    "    print(f'{col}: {df[col].nunique()}', end='; ')"
   ]
  },
  {
   "cell_type": "markdown",
   "id": "73ac211e-b0c2-4321-823e-3b6592b9ff23",
   "metadata": {},
   "source": [
    "### Промежуточный вывод"
   ]
  },
  {
   "cell_type": "markdown",
   "id": "628383be-f2b0-46b1-8d62-272f214cdcaa",
   "metadata": {},
   "source": [
    "Из обзора данных можно заметить:\n",
    "\n",
    "В нашем распоряжении датафрейм с 11 столбцами и 71025 строками. Названия столбцов корректны. В payment_date имеются пропущеные значения, нужно обратить на это внимание. Также, стоит изменить тип данных времени событий и провести привычную перобработку на дубликаты, выбросы и прочее. При необходимости можно будет добавить дополнительные столбцы, чтобы облегчить ход исследования.\n",
    "\n",
    "По первым наблюдениям: всего в 4712 уникальных айди с 59 порядковыми номерами. Имеется 6 статусов платежа, 2 статуса реструктуризации, 5 классов заемщика и отметка одобрен займ или нет."
   ]
  },
  {
   "cell_type": "markdown",
   "id": "b7646a04-89be-48a8-aac5-cc864029e3ca",
   "metadata": {},
   "source": [
    "## 2. Предобработка"
   ]
  },
  {
   "cell_type": "markdown",
   "id": "3263d607-1bcd-4f6e-9eb3-f695c277e7d0",
   "metadata": {},
   "source": [
    "### 2.1 Пропуски"
   ]
  },
  {
   "cell_type": "code",
   "execution_count": 7,
   "id": "399630d9-8689-4e38-991d-fbd3d48ca164",
   "metadata": {},
   "outputs": [
    {
     "data": {
      "text/html": [
       "<style type=\"text/css\">\n",
       "#T_fece8_row0_col0, #T_fece8_row1_col0, #T_fece8_row3_col0, #T_fece8_row4_col0, #T_fece8_row5_col0, #T_fece8_row6_col0, #T_fece8_row7_col0, #T_fece8_row8_col0, #T_fece8_row9_col0, #T_fece8_row10_col0 {\n",
       "  background-color: #3b4cc0;\n",
       "  color: #f1f1f1;\n",
       "}\n",
       "#T_fece8_row2_col0 {\n",
       "  background-color: #b40426;\n",
       "  color: #f1f1f1;\n",
       "}\n",
       "</style>\n",
       "<table id=\"T_fece8\">\n",
       "  <thead>\n",
       "    <tr>\n",
       "      <th class=\"blank level0\" >&nbsp;</th>\n",
       "      <th id=\"T_fece8_level0_col0\" class=\"col_heading level0 col0\" >0</th>\n",
       "    </tr>\n",
       "  </thead>\n",
       "  <tbody>\n",
       "    <tr>\n",
       "      <th id=\"T_fece8_level0_row0\" class=\"row_heading level0 row0\" >id</th>\n",
       "      <td id=\"T_fece8_row0_col0\" class=\"data row0 col0\" >0.000000</td>\n",
       "    </tr>\n",
       "    <tr>\n",
       "      <th id=\"T_fece8_level0_row1\" class=\"row_heading level0 row1\" >number</th>\n",
       "      <td id=\"T_fece8_row1_col0\" class=\"data row1 col0\" >0.000000</td>\n",
       "    </tr>\n",
       "    <tr>\n",
       "      <th id=\"T_fece8_level0_row2\" class=\"row_heading level0 row2\" >payment_date</th>\n",
       "      <td id=\"T_fece8_row2_col0\" class=\"data row2 col0\" >0.060000</td>\n",
       "    </tr>\n",
       "    <tr>\n",
       "      <th id=\"T_fece8_level0_row3\" class=\"row_heading level0 row3\" >status</th>\n",
       "      <td id=\"T_fece8_row3_col0\" class=\"data row3 col0\" >0.000000</td>\n",
       "    </tr>\n",
       "    <tr>\n",
       "      <th id=\"T_fece8_level0_row4\" class=\"row_heading level0 row4\" >amount</th>\n",
       "      <td id=\"T_fece8_row4_col0\" class=\"data row4 col0\" >0.000000</td>\n",
       "    </tr>\n",
       "    <tr>\n",
       "      <th id=\"T_fece8_level0_row5\" class=\"row_heading level0 row5\" >start_date</th>\n",
       "      <td id=\"T_fece8_row5_col0\" class=\"data row5 col0\" >0.000000</td>\n",
       "    </tr>\n",
       "    <tr>\n",
       "      <th id=\"T_fece8_level0_row6\" class=\"row_heading level0 row6\" >loan_rating_int</th>\n",
       "      <td id=\"T_fece8_row6_col0\" class=\"data row6 col0\" >0.000000</td>\n",
       "    </tr>\n",
       "    <tr>\n",
       "      <th id=\"T_fece8_level0_row7\" class=\"row_heading level0 row7\" >loan_status_str</th>\n",
       "      <td id=\"T_fece8_row7_col0\" class=\"data row7 col0\" >0.000000</td>\n",
       "    </tr>\n",
       "    <tr>\n",
       "      <th id=\"T_fece8_level0_row8\" class=\"row_heading level0 row8\" >restruct_status</th>\n",
       "      <td id=\"T_fece8_row8_col0\" class=\"data row8 col0\" >0.000000</td>\n",
       "    </tr>\n",
       "    <tr>\n",
       "      <th id=\"T_fece8_level0_row9\" class=\"row_heading level0 row9\" >auto_approval</th>\n",
       "      <td id=\"T_fece8_row9_col0\" class=\"data row9 col0\" >0.000000</td>\n",
       "    </tr>\n",
       "    <tr>\n",
       "      <th id=\"T_fece8_level0_row10\" class=\"row_heading level0 row10\" >borrower_issue_class</th>\n",
       "      <td id=\"T_fece8_row10_col0\" class=\"data row10 col0\" >0.000000</td>\n",
       "    </tr>\n",
       "  </tbody>\n",
       "</table>\n"
      ],
      "text/plain": [
       "<pandas.io.formats.style.Styler at 0x1fa1b84fb10>"
      ]
     },
     "execution_count": 7,
     "metadata": {},
     "output_type": "execute_result"
    }
   ],
   "source": [
    "pd.DataFrame((df.isna().mean() * 100).round(2)).style.background_gradient('coolwarm')"
   ]
  },
  {
   "cell_type": "code",
   "execution_count": 8,
   "id": "9f348722-c653-4147-9a95-8dee8adb7ca0",
   "metadata": {},
   "outputs": [
    {
     "data": {
      "text/html": [
       "<div>\n",
       "<style scoped>\n",
       "    .dataframe tbody tr th:only-of-type {\n",
       "        vertical-align: middle;\n",
       "    }\n",
       "\n",
       "    .dataframe tbody tr th {\n",
       "        vertical-align: top;\n",
       "    }\n",
       "\n",
       "    .dataframe thead th {\n",
       "        text-align: right;\n",
       "    }\n",
       "</style>\n",
       "<table border=\"1\" class=\"dataframe\">\n",
       "  <thead>\n",
       "    <tr style=\"text-align: right;\">\n",
       "      <th></th>\n",
       "      <th>id</th>\n",
       "      <th>number</th>\n",
       "      <th>payment_date</th>\n",
       "      <th>status</th>\n",
       "      <th>amount</th>\n",
       "      <th>start_date</th>\n",
       "      <th>loan_rating_int</th>\n",
       "      <th>loan_status_str</th>\n",
       "      <th>restruct_status</th>\n",
       "      <th>auto_approval</th>\n",
       "      <th>borrower_issue_class</th>\n",
       "    </tr>\n",
       "  </thead>\n",
       "  <tbody>\n",
       "    <tr>\n",
       "      <th>1070</th>\n",
       "      <td>12566</td>\n",
       "      <td>7</td>\n",
       "      <td>NaN</td>\n",
       "      <td>paid</td>\n",
       "      <td>3158.210</td>\n",
       "      <td>2023-01-17T08:36:05.306626</td>\n",
       "      <td>16</td>\n",
       "      <td>closed</td>\n",
       "      <td>no restruct</td>\n",
       "      <td>No auto-approve</td>\n",
       "      <td>2. silver</td>\n",
       "    </tr>\n",
       "    <tr>\n",
       "      <th>2745</th>\n",
       "      <td>12713</td>\n",
       "      <td>13</td>\n",
       "      <td>NaN</td>\n",
       "      <td>paid</td>\n",
       "      <td>705.333</td>\n",
       "      <td>2023-02-02T20:37:34.901188</td>\n",
       "      <td>14</td>\n",
       "      <td>closed</td>\n",
       "      <td>no restruct</td>\n",
       "      <td>No auto-approve</td>\n",
       "      <td>2. silver</td>\n",
       "    </tr>\n",
       "    <tr>\n",
       "      <th>3227</th>\n",
       "      <td>12751</td>\n",
       "      <td>9</td>\n",
       "      <td>NaN</td>\n",
       "      <td>paid</td>\n",
       "      <td>373.116</td>\n",
       "      <td>2023-02-01T05:09:56.449434</td>\n",
       "      <td>17</td>\n",
       "      <td>closed</td>\n",
       "      <td>no restruct</td>\n",
       "      <td>No auto-approve</td>\n",
       "      <td>3. gold</td>\n",
       "    </tr>\n",
       "    <tr>\n",
       "      <th>4076</th>\n",
       "      <td>12820</td>\n",
       "      <td>7</td>\n",
       "      <td>NaN</td>\n",
       "      <td>potential default</td>\n",
       "      <td>148505.000</td>\n",
       "      <td>2023-02-08T19:44:17.51937</td>\n",
       "      <td>18</td>\n",
       "      <td>default</td>\n",
       "      <td>no restruct</td>\n",
       "      <td>No auto-approve</td>\n",
       "      <td>2. silver</td>\n",
       "    </tr>\n",
       "    <tr>\n",
       "      <th>4760</th>\n",
       "      <td>12878</td>\n",
       "      <td>13</td>\n",
       "      <td>NaN</td>\n",
       "      <td>paid</td>\n",
       "      <td>872.680</td>\n",
       "      <td>2023-02-14T10:29:25.249524</td>\n",
       "      <td>16</td>\n",
       "      <td>closed</td>\n",
       "      <td>no restruct</td>\n",
       "      <td>No auto-approve</td>\n",
       "      <td>2. silver</td>\n",
       "    </tr>\n",
       "    <tr>\n",
       "      <th>5785</th>\n",
       "      <td>12973</td>\n",
       "      <td>11</td>\n",
       "      <td>NaN</td>\n",
       "      <td>paid</td>\n",
       "      <td>4602.920</td>\n",
       "      <td>2023-02-21T10:55:16.721167</td>\n",
       "      <td>15</td>\n",
       "      <td>closed</td>\n",
       "      <td>no restruct</td>\n",
       "      <td>No auto-approve</td>\n",
       "      <td>2. silver</td>\n",
       "    </tr>\n",
       "    <tr>\n",
       "      <th>5938</th>\n",
       "      <td>12986</td>\n",
       "      <td>9</td>\n",
       "      <td>NaN</td>\n",
       "      <td>paid</td>\n",
       "      <td>5224.080</td>\n",
       "      <td>2023-02-23T17:19:33.111559</td>\n",
       "      <td>14</td>\n",
       "      <td>closed</td>\n",
       "      <td>no restruct</td>\n",
       "      <td>No auto-approve</td>\n",
       "      <td>2. silver</td>\n",
       "    </tr>\n",
       "    <tr>\n",
       "      <th>6033</th>\n",
       "      <td>12994</td>\n",
       "      <td>13</td>\n",
       "      <td>NaN</td>\n",
       "      <td>paid</td>\n",
       "      <td>3296.010</td>\n",
       "      <td>2023-02-27T16:10:00.355529</td>\n",
       "      <td>16</td>\n",
       "      <td>closed</td>\n",
       "      <td>no restruct</td>\n",
       "      <td>No auto-approve</td>\n",
       "      <td>2. silver</td>\n",
       "    </tr>\n",
       "    <tr>\n",
       "      <th>6071</th>\n",
       "      <td>12997</td>\n",
       "      <td>2</td>\n",
       "      <td>NaN</td>\n",
       "      <td>paid</td>\n",
       "      <td>9927.180</td>\n",
       "      <td>2023-02-28T13:08:05.109576</td>\n",
       "      <td>18</td>\n",
       "      <td>closed</td>\n",
       "      <td>no restruct</td>\n",
       "      <td>No auto-approve</td>\n",
       "      <td>2. silver</td>\n",
       "    </tr>\n",
       "    <tr>\n",
       "      <th>6584</th>\n",
       "      <td>13038</td>\n",
       "      <td>13</td>\n",
       "      <td>NaN</td>\n",
       "      <td>paid</td>\n",
       "      <td>5044.220</td>\n",
       "      <td>2023-02-28T14:27:49.993586</td>\n",
       "      <td>18</td>\n",
       "      <td>closed</td>\n",
       "      <td>no restruct</td>\n",
       "      <td>No auto-approve</td>\n",
       "      <td>1. bronze</td>\n",
       "    </tr>\n",
       "    <tr>\n",
       "      <th>7128</th>\n",
       "      <td>13080</td>\n",
       "      <td>13</td>\n",
       "      <td>NaN</td>\n",
       "      <td>potential default</td>\n",
       "      <td>6054.080</td>\n",
       "      <td>2023-03-03T10:36:46.931441</td>\n",
       "      <td>16</td>\n",
       "      <td>delayed</td>\n",
       "      <td>no restruct</td>\n",
       "      <td>No auto-approve</td>\n",
       "      <td>3. gold</td>\n",
       "    </tr>\n",
       "    <tr>\n",
       "      <th>7674</th>\n",
       "      <td>13128</td>\n",
       "      <td>13</td>\n",
       "      <td>NaN</td>\n",
       "      <td>paid</td>\n",
       "      <td>6731.730</td>\n",
       "      <td>2023-03-07T11:39:02.375954</td>\n",
       "      <td>18</td>\n",
       "      <td>closed</td>\n",
       "      <td>no restruct</td>\n",
       "      <td>No auto-approve</td>\n",
       "      <td>1. bronze</td>\n",
       "    </tr>\n",
       "    <tr>\n",
       "      <th>10225</th>\n",
       "      <td>13354</td>\n",
       "      <td>3</td>\n",
       "      <td>NaN</td>\n",
       "      <td>paid</td>\n",
       "      <td>31711.400</td>\n",
       "      <td>2023-03-23T15:19:18.126532</td>\n",
       "      <td>16</td>\n",
       "      <td>closed</td>\n",
       "      <td>no restruct</td>\n",
       "      <td>No auto-approve</td>\n",
       "      <td>1. bronze</td>\n",
       "    </tr>\n",
       "    <tr>\n",
       "      <th>11677</th>\n",
       "      <td>13476</td>\n",
       "      <td>8</td>\n",
       "      <td>NaN</td>\n",
       "      <td>paid</td>\n",
       "      <td>522.417</td>\n",
       "      <td>2023-03-31T15:09:39.777048</td>\n",
       "      <td>15</td>\n",
       "      <td>closed</td>\n",
       "      <td>no restruct</td>\n",
       "      <td>No auto-approve</td>\n",
       "      <td>3. gold</td>\n",
       "    </tr>\n",
       "    <tr>\n",
       "      <th>12186</th>\n",
       "      <td>13519</td>\n",
       "      <td>5</td>\n",
       "      <td>NaN</td>\n",
       "      <td>paid</td>\n",
       "      <td>27934.400</td>\n",
       "      <td>2023-04-05T08:49:51.934564</td>\n",
       "      <td>8</td>\n",
       "      <td>closed</td>\n",
       "      <td>no restruct</td>\n",
       "      <td>No auto-approve</td>\n",
       "      <td>4. platinum</td>\n",
       "    </tr>\n",
       "    <tr>\n",
       "      <th>14107</th>\n",
       "      <td>13717</td>\n",
       "      <td>4</td>\n",
       "      <td>NaN</td>\n",
       "      <td>paid</td>\n",
       "      <td>858.192</td>\n",
       "      <td>2023-04-17T16:36:59.885395</td>\n",
       "      <td>13</td>\n",
       "      <td>closed</td>\n",
       "      <td>no restruct</td>\n",
       "      <td>No auto-approve</td>\n",
       "      <td>3. gold</td>\n",
       "    </tr>\n",
       "    <tr>\n",
       "      <th>14470</th>\n",
       "      <td>13752</td>\n",
       "      <td>4</td>\n",
       "      <td>NaN</td>\n",
       "      <td>paid</td>\n",
       "      <td>3129.060</td>\n",
       "      <td>2023-05-05T13:24:10.912192</td>\n",
       "      <td>13</td>\n",
       "      <td>closed</td>\n",
       "      <td>no restruct</td>\n",
       "      <td>No auto-approve</td>\n",
       "      <td>3. gold</td>\n",
       "    </tr>\n",
       "    <tr>\n",
       "      <th>16116</th>\n",
       "      <td>13887</td>\n",
       "      <td>7</td>\n",
       "      <td>NaN</td>\n",
       "      <td>paid</td>\n",
       "      <td>53555.600</td>\n",
       "      <td>2023-05-02T18:20:13.186897</td>\n",
       "      <td>14</td>\n",
       "      <td>closed</td>\n",
       "      <td>no restruct</td>\n",
       "      <td>No auto-approve</td>\n",
       "      <td>2. silver</td>\n",
       "    </tr>\n",
       "    <tr>\n",
       "      <th>19406</th>\n",
       "      <td>14190</td>\n",
       "      <td>4</td>\n",
       "      <td>NaN</td>\n",
       "      <td>paid</td>\n",
       "      <td>860.187</td>\n",
       "      <td>2023-05-25T06:22:24.890044</td>\n",
       "      <td>15</td>\n",
       "      <td>closed</td>\n",
       "      <td>no restruct</td>\n",
       "      <td>No auto-approve</td>\n",
       "      <td>3. gold</td>\n",
       "    </tr>\n",
       "    <tr>\n",
       "      <th>19822</th>\n",
       "      <td>14231</td>\n",
       "      <td>7</td>\n",
       "      <td>NaN</td>\n",
       "      <td>paid</td>\n",
       "      <td>3232.750</td>\n",
       "      <td>2023-06-02T15:38:46.075454</td>\n",
       "      <td>16</td>\n",
       "      <td>closed</td>\n",
       "      <td>no restruct</td>\n",
       "      <td>No auto-approve</td>\n",
       "      <td>4. platinum</td>\n",
       "    </tr>\n",
       "    <tr>\n",
       "      <th>20710</th>\n",
       "      <td>14308</td>\n",
       "      <td>8</td>\n",
       "      <td>NaN</td>\n",
       "      <td>next</td>\n",
       "      <td>0.000</td>\n",
       "      <td>2023-06-16T20:19:38</td>\n",
       "      <td>12</td>\n",
       "      <td>active</td>\n",
       "      <td>no restruct</td>\n",
       "      <td>No auto-approve</td>\n",
       "      <td>2. silver</td>\n",
       "    </tr>\n",
       "    <tr>\n",
       "      <th>21496</th>\n",
       "      <td>14375</td>\n",
       "      <td>4</td>\n",
       "      <td>NaN</td>\n",
       "      <td>potential default</td>\n",
       "      <td>453535.000</td>\n",
       "      <td>2023-06-10T16:52:30.53125</td>\n",
       "      <td>17</td>\n",
       "      <td>default</td>\n",
       "      <td>no restruct</td>\n",
       "      <td>No auto-approve</td>\n",
       "      <td>2. silver</td>\n",
       "    </tr>\n",
       "    <tr>\n",
       "      <th>22155</th>\n",
       "      <td>14423</td>\n",
       "      <td>7</td>\n",
       "      <td>NaN</td>\n",
       "      <td>paid</td>\n",
       "      <td>9116.840</td>\n",
       "      <td>2023-06-21T21:22:07.186007</td>\n",
       "      <td>9</td>\n",
       "      <td>closed</td>\n",
       "      <td>no restruct</td>\n",
       "      <td>No auto-approve</td>\n",
       "      <td>2. silver</td>\n",
       "    </tr>\n",
       "    <tr>\n",
       "      <th>22753</th>\n",
       "      <td>14476</td>\n",
       "      <td>7</td>\n",
       "      <td>NaN</td>\n",
       "      <td>paid</td>\n",
       "      <td>21825.200</td>\n",
       "      <td>2023-06-09T06:35:16.963782</td>\n",
       "      <td>16</td>\n",
       "      <td>closed</td>\n",
       "      <td>no restruct</td>\n",
       "      <td>No auto-approve</td>\n",
       "      <td>1. bronze</td>\n",
       "    </tr>\n",
       "    <tr>\n",
       "      <th>24929</th>\n",
       "      <td>14680</td>\n",
       "      <td>6</td>\n",
       "      <td>NaN</td>\n",
       "      <td>next</td>\n",
       "      <td>14833.400</td>\n",
       "      <td>2023-06-22T11:40:40</td>\n",
       "      <td>13</td>\n",
       "      <td>active</td>\n",
       "      <td>no restruct</td>\n",
       "      <td>No auto-approve</td>\n",
       "      <td>2. silver</td>\n",
       "    </tr>\n",
       "    <tr>\n",
       "      <th>25406</th>\n",
       "      <td>14731</td>\n",
       "      <td>6</td>\n",
       "      <td>NaN</td>\n",
       "      <td>next</td>\n",
       "      <td>14833.300</td>\n",
       "      <td>2023-06-23T10:38:28.667192</td>\n",
       "      <td>13</td>\n",
       "      <td>active</td>\n",
       "      <td>no restruct</td>\n",
       "      <td>No auto-approve</td>\n",
       "      <td>2. silver</td>\n",
       "    </tr>\n",
       "    <tr>\n",
       "      <th>25504</th>\n",
       "      <td>14740</td>\n",
       "      <td>6</td>\n",
       "      <td>NaN</td>\n",
       "      <td>next</td>\n",
       "      <td>15349.700</td>\n",
       "      <td>2023-06-23T14:07:05.394017</td>\n",
       "      <td>13</td>\n",
       "      <td>active</td>\n",
       "      <td>no restruct</td>\n",
       "      <td>No auto-approve</td>\n",
       "      <td>2. silver</td>\n",
       "    </tr>\n",
       "    <tr>\n",
       "      <th>27924</th>\n",
       "      <td>14956</td>\n",
       "      <td>4</td>\n",
       "      <td>NaN</td>\n",
       "      <td>paid</td>\n",
       "      <td>11100.000</td>\n",
       "      <td>2023-07-12T14:52:44.657089</td>\n",
       "      <td>17</td>\n",
       "      <td>closed</td>\n",
       "      <td>no restruct</td>\n",
       "      <td>No auto-approve</td>\n",
       "      <td>2. silver</td>\n",
       "    </tr>\n",
       "    <tr>\n",
       "      <th>28793</th>\n",
       "      <td>15034</td>\n",
       "      <td>6</td>\n",
       "      <td>NaN</td>\n",
       "      <td>paid</td>\n",
       "      <td>20456.600</td>\n",
       "      <td>2023-07-10T16:42:52.555516</td>\n",
       "      <td>13</td>\n",
       "      <td>closed</td>\n",
       "      <td>no restruct</td>\n",
       "      <td>No auto-approve</td>\n",
       "      <td>2. silver</td>\n",
       "    </tr>\n",
       "    <tr>\n",
       "      <th>29750</th>\n",
       "      <td>15116</td>\n",
       "      <td>6</td>\n",
       "      <td>NaN</td>\n",
       "      <td>paid</td>\n",
       "      <td>20457.600</td>\n",
       "      <td>2023-07-14T08:06:32.295619</td>\n",
       "      <td>13</td>\n",
       "      <td>closed</td>\n",
       "      <td>no restruct</td>\n",
       "      <td>No auto-approve</td>\n",
       "      <td>2. silver</td>\n",
       "    </tr>\n",
       "    <tr>\n",
       "      <th>30104</th>\n",
       "      <td>15146</td>\n",
       "      <td>7</td>\n",
       "      <td>NaN</td>\n",
       "      <td>paid</td>\n",
       "      <td>1151.150</td>\n",
       "      <td>2023-07-21T15:12:26.140618</td>\n",
       "      <td>16</td>\n",
       "      <td>closed</td>\n",
       "      <td>no restruct</td>\n",
       "      <td>No auto-approve</td>\n",
       "      <td>4. platinum</td>\n",
       "    </tr>\n",
       "    <tr>\n",
       "      <th>32204</th>\n",
       "      <td>15330</td>\n",
       "      <td>7</td>\n",
       "      <td>NaN</td>\n",
       "      <td>paid</td>\n",
       "      <td>2014.870</td>\n",
       "      <td>2023-08-03T15:09:19.014074</td>\n",
       "      <td>17</td>\n",
       "      <td>closed</td>\n",
       "      <td>no restruct</td>\n",
       "      <td>No auto-approve</td>\n",
       "      <td>2. silver</td>\n",
       "    </tr>\n",
       "    <tr>\n",
       "      <th>32332</th>\n",
       "      <td>15341</td>\n",
       "      <td>7</td>\n",
       "      <td>NaN</td>\n",
       "      <td>paid</td>\n",
       "      <td>22590.300</td>\n",
       "      <td>2023-07-26T14:32:19.579311</td>\n",
       "      <td>13</td>\n",
       "      <td>closed</td>\n",
       "      <td>no restruct</td>\n",
       "      <td>No auto-approve</td>\n",
       "      <td>2. silver</td>\n",
       "    </tr>\n",
       "    <tr>\n",
       "      <th>32486</th>\n",
       "      <td>15354</td>\n",
       "      <td>7</td>\n",
       "      <td>NaN</td>\n",
       "      <td>paid</td>\n",
       "      <td>22588.500</td>\n",
       "      <td>2023-07-27T14:52:33.913935</td>\n",
       "      <td>13</td>\n",
       "      <td>closed</td>\n",
       "      <td>no restruct</td>\n",
       "      <td>No auto-approve</td>\n",
       "      <td>2. silver</td>\n",
       "    </tr>\n",
       "    <tr>\n",
       "      <th>34600</th>\n",
       "      <td>15524</td>\n",
       "      <td>7</td>\n",
       "      <td>NaN</td>\n",
       "      <td>potential default</td>\n",
       "      <td>19887.700</td>\n",
       "      <td>2023-08-09T14:06:56.567803</td>\n",
       "      <td>13</td>\n",
       "      <td>delayed</td>\n",
       "      <td>no restruct</td>\n",
       "      <td>No auto-approve</td>\n",
       "      <td>2. silver</td>\n",
       "    </tr>\n",
       "    <tr>\n",
       "      <th>35951</th>\n",
       "      <td>15622</td>\n",
       "      <td>5</td>\n",
       "      <td>NaN</td>\n",
       "      <td>paid</td>\n",
       "      <td>6476.500</td>\n",
       "      <td>2023-08-17T18:02:47.645745</td>\n",
       "      <td>16</td>\n",
       "      <td>closed</td>\n",
       "      <td>no restruct</td>\n",
       "      <td>No auto-approve</td>\n",
       "      <td>4. platinum</td>\n",
       "    </tr>\n",
       "    <tr>\n",
       "      <th>37979</th>\n",
       "      <td>15768</td>\n",
       "      <td>7</td>\n",
       "      <td>NaN</td>\n",
       "      <td>paid</td>\n",
       "      <td>3660.750</td>\n",
       "      <td>2023-08-24T07:14:30.191184</td>\n",
       "      <td>18</td>\n",
       "      <td>closed</td>\n",
       "      <td>no restruct</td>\n",
       "      <td>No auto-approve</td>\n",
       "      <td>1. bronze</td>\n",
       "    </tr>\n",
       "    <tr>\n",
       "      <th>38089</th>\n",
       "      <td>15775</td>\n",
       "      <td>4</td>\n",
       "      <td>NaN</td>\n",
       "      <td>paid</td>\n",
       "      <td>8503.980</td>\n",
       "      <td>2023-08-23T07:43:31.74524</td>\n",
       "      <td>17</td>\n",
       "      <td>closed</td>\n",
       "      <td>no restruct</td>\n",
       "      <td>No auto-approve</td>\n",
       "      <td>1. bronze</td>\n",
       "    </tr>\n",
       "    <tr>\n",
       "      <th>38591</th>\n",
       "      <td>15817</td>\n",
       "      <td>7</td>\n",
       "      <td>NaN</td>\n",
       "      <td>potential default</td>\n",
       "      <td>11316.000</td>\n",
       "      <td>2023-08-24T12:27:34.990076</td>\n",
       "      <td>13</td>\n",
       "      <td>delayed</td>\n",
       "      <td>no restruct</td>\n",
       "      <td>No auto-approve</td>\n",
       "      <td>2. silver</td>\n",
       "    </tr>\n",
       "    <tr>\n",
       "      <th>39565</th>\n",
       "      <td>15883</td>\n",
       "      <td>7</td>\n",
       "      <td>NaN</td>\n",
       "      <td>potential default</td>\n",
       "      <td>9943.990</td>\n",
       "      <td>2023-08-28T08:39:07.232148</td>\n",
       "      <td>13</td>\n",
       "      <td>delayed</td>\n",
       "      <td>no restruct</td>\n",
       "      <td>No auto-approve</td>\n",
       "      <td>2. silver</td>\n",
       "    </tr>\n",
       "    <tr>\n",
       "      <th>47290</th>\n",
       "      <td>16482</td>\n",
       "      <td>6</td>\n",
       "      <td>NaN</td>\n",
       "      <td>paid</td>\n",
       "      <td>4507.340</td>\n",
       "      <td>2023-09-28T12:12:25.867798</td>\n",
       "      <td>18</td>\n",
       "      <td>closed</td>\n",
       "      <td>no restruct</td>\n",
       "      <td>No auto-approve</td>\n",
       "      <td>1. bronze</td>\n",
       "    </tr>\n",
       "    <tr>\n",
       "      <th>54817</th>\n",
       "      <td>17069</td>\n",
       "      <td>4</td>\n",
       "      <td>NaN</td>\n",
       "      <td>paid</td>\n",
       "      <td>3436.880</td>\n",
       "      <td>2023-10-30T20:49:47.852285</td>\n",
       "      <td>15</td>\n",
       "      <td>closed</td>\n",
       "      <td>no restruct</td>\n",
       "      <td>Auto-approve</td>\n",
       "      <td>1. bronze</td>\n",
       "    </tr>\n",
       "    <tr>\n",
       "      <th>56625</th>\n",
       "      <td>17214</td>\n",
       "      <td>5</td>\n",
       "      <td>NaN</td>\n",
       "      <td>paid</td>\n",
       "      <td>2523.310</td>\n",
       "      <td>2023-11-08T02:39:15.999702</td>\n",
       "      <td>18</td>\n",
       "      <td>closed</td>\n",
       "      <td>no restruct</td>\n",
       "      <td>No auto-approve</td>\n",
       "      <td>2. silver</td>\n",
       "    </tr>\n",
       "    <tr>\n",
       "      <th>58833</th>\n",
       "      <td>17370</td>\n",
       "      <td>4</td>\n",
       "      <td>NaN</td>\n",
       "      <td>paid</td>\n",
       "      <td>4052.880</td>\n",
       "      <td>2023-11-16T21:57:10.829911</td>\n",
       "      <td>13</td>\n",
       "      <td>closed</td>\n",
       "      <td>no restruct</td>\n",
       "      <td>Auto-approve</td>\n",
       "      <td>1. bronze</td>\n",
       "    </tr>\n",
       "  </tbody>\n",
       "</table>\n",
       "</div>"
      ],
      "text/plain": [
       "          id  number payment_date             status      amount  \\\n",
       "1070   12566       7          NaN               paid    3158.210   \n",
       "2745   12713      13          NaN               paid     705.333   \n",
       "3227   12751       9          NaN               paid     373.116   \n",
       "4076   12820       7          NaN  potential default  148505.000   \n",
       "4760   12878      13          NaN               paid     872.680   \n",
       "5785   12973      11          NaN               paid    4602.920   \n",
       "5938   12986       9          NaN               paid    5224.080   \n",
       "6033   12994      13          NaN               paid    3296.010   \n",
       "6071   12997       2          NaN               paid    9927.180   \n",
       "6584   13038      13          NaN               paid    5044.220   \n",
       "7128   13080      13          NaN  potential default    6054.080   \n",
       "7674   13128      13          NaN               paid    6731.730   \n",
       "10225  13354       3          NaN               paid   31711.400   \n",
       "11677  13476       8          NaN               paid     522.417   \n",
       "12186  13519       5          NaN               paid   27934.400   \n",
       "14107  13717       4          NaN               paid     858.192   \n",
       "14470  13752       4          NaN               paid    3129.060   \n",
       "16116  13887       7          NaN               paid   53555.600   \n",
       "19406  14190       4          NaN               paid     860.187   \n",
       "19822  14231       7          NaN               paid    3232.750   \n",
       "20710  14308       8          NaN               next       0.000   \n",
       "21496  14375       4          NaN  potential default  453535.000   \n",
       "22155  14423       7          NaN               paid    9116.840   \n",
       "22753  14476       7          NaN               paid   21825.200   \n",
       "24929  14680       6          NaN               next   14833.400   \n",
       "25406  14731       6          NaN               next   14833.300   \n",
       "25504  14740       6          NaN               next   15349.700   \n",
       "27924  14956       4          NaN               paid   11100.000   \n",
       "28793  15034       6          NaN               paid   20456.600   \n",
       "29750  15116       6          NaN               paid   20457.600   \n",
       "30104  15146       7          NaN               paid    1151.150   \n",
       "32204  15330       7          NaN               paid    2014.870   \n",
       "32332  15341       7          NaN               paid   22590.300   \n",
       "32486  15354       7          NaN               paid   22588.500   \n",
       "34600  15524       7          NaN  potential default   19887.700   \n",
       "35951  15622       5          NaN               paid    6476.500   \n",
       "37979  15768       7          NaN               paid    3660.750   \n",
       "38089  15775       4          NaN               paid    8503.980   \n",
       "38591  15817       7          NaN  potential default   11316.000   \n",
       "39565  15883       7          NaN  potential default    9943.990   \n",
       "47290  16482       6          NaN               paid    4507.340   \n",
       "54817  17069       4          NaN               paid    3436.880   \n",
       "56625  17214       5          NaN               paid    2523.310   \n",
       "58833  17370       4          NaN               paid    4052.880   \n",
       "\n",
       "                       start_date  loan_rating_int loan_status_str  \\\n",
       "1070   2023-01-17T08:36:05.306626               16          closed   \n",
       "2745   2023-02-02T20:37:34.901188               14          closed   \n",
       "3227   2023-02-01T05:09:56.449434               17          closed   \n",
       "4076    2023-02-08T19:44:17.51937               18         default   \n",
       "4760   2023-02-14T10:29:25.249524               16          closed   \n",
       "5785   2023-02-21T10:55:16.721167               15          closed   \n",
       "5938   2023-02-23T17:19:33.111559               14          closed   \n",
       "6033   2023-02-27T16:10:00.355529               16          closed   \n",
       "6071   2023-02-28T13:08:05.109576               18          closed   \n",
       "6584   2023-02-28T14:27:49.993586               18          closed   \n",
       "7128   2023-03-03T10:36:46.931441               16         delayed   \n",
       "7674   2023-03-07T11:39:02.375954               18          closed   \n",
       "10225  2023-03-23T15:19:18.126532               16          closed   \n",
       "11677  2023-03-31T15:09:39.777048               15          closed   \n",
       "12186  2023-04-05T08:49:51.934564                8          closed   \n",
       "14107  2023-04-17T16:36:59.885395               13          closed   \n",
       "14470  2023-05-05T13:24:10.912192               13          closed   \n",
       "16116  2023-05-02T18:20:13.186897               14          closed   \n",
       "19406  2023-05-25T06:22:24.890044               15          closed   \n",
       "19822  2023-06-02T15:38:46.075454               16          closed   \n",
       "20710         2023-06-16T20:19:38               12          active   \n",
       "21496   2023-06-10T16:52:30.53125               17         default   \n",
       "22155  2023-06-21T21:22:07.186007                9          closed   \n",
       "22753  2023-06-09T06:35:16.963782               16          closed   \n",
       "24929         2023-06-22T11:40:40               13          active   \n",
       "25406  2023-06-23T10:38:28.667192               13          active   \n",
       "25504  2023-06-23T14:07:05.394017               13          active   \n",
       "27924  2023-07-12T14:52:44.657089               17          closed   \n",
       "28793  2023-07-10T16:42:52.555516               13          closed   \n",
       "29750  2023-07-14T08:06:32.295619               13          closed   \n",
       "30104  2023-07-21T15:12:26.140618               16          closed   \n",
       "32204  2023-08-03T15:09:19.014074               17          closed   \n",
       "32332  2023-07-26T14:32:19.579311               13          closed   \n",
       "32486  2023-07-27T14:52:33.913935               13          closed   \n",
       "34600  2023-08-09T14:06:56.567803               13         delayed   \n",
       "35951  2023-08-17T18:02:47.645745               16          closed   \n",
       "37979  2023-08-24T07:14:30.191184               18          closed   \n",
       "38089   2023-08-23T07:43:31.74524               17          closed   \n",
       "38591  2023-08-24T12:27:34.990076               13         delayed   \n",
       "39565  2023-08-28T08:39:07.232148               13         delayed   \n",
       "47290  2023-09-28T12:12:25.867798               18          closed   \n",
       "54817  2023-10-30T20:49:47.852285               15          closed   \n",
       "56625  2023-11-08T02:39:15.999702               18          closed   \n",
       "58833  2023-11-16T21:57:10.829911               13          closed   \n",
       "\n",
       "      restruct_status    auto_approval borrower_issue_class  \n",
       "1070      no restruct  No auto-approve            2. silver  \n",
       "2745      no restruct  No auto-approve            2. silver  \n",
       "3227      no restruct  No auto-approve              3. gold  \n",
       "4076      no restruct  No auto-approve            2. silver  \n",
       "4760      no restruct  No auto-approve            2. silver  \n",
       "5785      no restruct  No auto-approve            2. silver  \n",
       "5938      no restruct  No auto-approve            2. silver  \n",
       "6033      no restruct  No auto-approve            2. silver  \n",
       "6071      no restruct  No auto-approve            2. silver  \n",
       "6584      no restruct  No auto-approve            1. bronze  \n",
       "7128      no restruct  No auto-approve              3. gold  \n",
       "7674      no restruct  No auto-approve            1. bronze  \n",
       "10225     no restruct  No auto-approve            1. bronze  \n",
       "11677     no restruct  No auto-approve              3. gold  \n",
       "12186     no restruct  No auto-approve          4. platinum  \n",
       "14107     no restruct  No auto-approve              3. gold  \n",
       "14470     no restruct  No auto-approve              3. gold  \n",
       "16116     no restruct  No auto-approve            2. silver  \n",
       "19406     no restruct  No auto-approve              3. gold  \n",
       "19822     no restruct  No auto-approve          4. platinum  \n",
       "20710     no restruct  No auto-approve            2. silver  \n",
       "21496     no restruct  No auto-approve            2. silver  \n",
       "22155     no restruct  No auto-approve            2. silver  \n",
       "22753     no restruct  No auto-approve            1. bronze  \n",
       "24929     no restruct  No auto-approve            2. silver  \n",
       "25406     no restruct  No auto-approve            2. silver  \n",
       "25504     no restruct  No auto-approve            2. silver  \n",
       "27924     no restruct  No auto-approve            2. silver  \n",
       "28793     no restruct  No auto-approve            2. silver  \n",
       "29750     no restruct  No auto-approve            2. silver  \n",
       "30104     no restruct  No auto-approve          4. platinum  \n",
       "32204     no restruct  No auto-approve            2. silver  \n",
       "32332     no restruct  No auto-approve            2. silver  \n",
       "32486     no restruct  No auto-approve            2. silver  \n",
       "34600     no restruct  No auto-approve            2. silver  \n",
       "35951     no restruct  No auto-approve          4. platinum  \n",
       "37979     no restruct  No auto-approve            1. bronze  \n",
       "38089     no restruct  No auto-approve            1. bronze  \n",
       "38591     no restruct  No auto-approve            2. silver  \n",
       "39565     no restruct  No auto-approve            2. silver  \n",
       "47290     no restruct  No auto-approve            1. bronze  \n",
       "54817     no restruct     Auto-approve            1. bronze  \n",
       "56625     no restruct  No auto-approve            2. silver  \n",
       "58833     no restruct     Auto-approve            1. bronze  "
      ]
     },
     "execution_count": 8,
     "metadata": {},
     "output_type": "execute_result"
    }
   ],
   "source": [
    "df[df['payment_date'].isna() == True]"
   ]
  },
  {
   "cell_type": "code",
   "execution_count": 9,
   "id": "9c80ea10-71b8-4707-b871-f5f36ea6ab00",
   "metadata": {},
   "outputs": [],
   "source": [
    "df = df.dropna()"
   ]
  },
  {
   "cell_type": "markdown",
   "id": "3875a803-4d5d-47dc-ac21-e3fb56eecca4",
   "metadata": {},
   "source": [
    "Удаляем пропуски в колонке даты платежа, т.к. их количество слишком мало и не повлияет на исследование. "
   ]
  },
  {
   "cell_type": "markdown",
   "id": "e61b0237-fe81-4e4a-9694-240087e519bc",
   "metadata": {},
   "source": [
    "### 2.2 Типы данных"
   ]
  },
  {
   "cell_type": "code",
   "execution_count": 10,
   "id": "fcea8874-6323-4b42-a5a5-1dba1c76c12b",
   "metadata": {},
   "outputs": [],
   "source": [
    "df['payment_date'] = pd.to_datetime(df['payment_date'])"
   ]
  },
  {
   "cell_type": "code",
   "execution_count": 11,
   "id": "1c933294-87c6-4cd4-bac9-bb750243b90f",
   "metadata": {},
   "outputs": [],
   "source": [
    "# Если в строке не указаны миллисекунды, то добавляем их\n",
    "def add_milliseconds(date_str):\n",
    "    if '.' not in date_str:\n",
    "        return date_str + '.000'\n",
    "    return date_str\n",
    "\n",
    "df['start_date'] = df['start_date'].apply(add_milliseconds)\n",
    "\n",
    "df['start_date'] = pd.to_datetime(df['start_date'], format='%Y-%m-%dT%H:%M:%S.%f')"
   ]
  },
  {
   "cell_type": "markdown",
   "id": "465468fd-2666-490e-bd5c-42a796dab0cd",
   "metadata": {},
   "source": [
    "В колонке даты взятия займа не везде указаны миллисекунды, скорее всего это связано с тем, что их значение равно нулю, поэтому добавляем для преобразования к типу даты."
   ]
  },
  {
   "cell_type": "code",
   "execution_count": 12,
   "id": "8bb8e027-2aa2-467b-bf2f-05990d41807e",
   "metadata": {},
   "outputs": [
    {
     "name": "stdout",
     "output_type": "stream",
     "text": [
      "<class 'pandas.core.frame.DataFrame'>\n",
      "Index: 70981 entries, 0 to 71024\n",
      "Data columns (total 11 columns):\n",
      " #   Column                Non-Null Count  Dtype         \n",
      "---  ------                --------------  -----         \n",
      " 0   id                    70981 non-null  int64         \n",
      " 1   number                70981 non-null  int64         \n",
      " 2   payment_date          70981 non-null  datetime64[ns]\n",
      " 3   status                70981 non-null  object        \n",
      " 4   amount                70981 non-null  float64       \n",
      " 5   start_date            70981 non-null  datetime64[ns]\n",
      " 6   loan_rating_int       70981 non-null  int64         \n",
      " 7   loan_status_str       70981 non-null  object        \n",
      " 8   restruct_status       70981 non-null  object        \n",
      " 9   auto_approval         70981 non-null  object        \n",
      " 10  borrower_issue_class  70981 non-null  object        \n",
      "dtypes: datetime64[ns](2), float64(1), int64(3), object(5)\n",
      "memory usage: 6.5+ MB\n"
     ]
    }
   ],
   "source": [
    "df.info()"
   ]
  },
  {
   "cell_type": "markdown",
   "id": "548069b6-0f46-4045-a234-657d39d2ba7a",
   "metadata": {},
   "source": [
    "### 2.3 Дубликаты"
   ]
  },
  {
   "cell_type": "code",
   "execution_count": 13,
   "id": "dfc14ab8-3f6a-422b-8278-809a3262d076",
   "metadata": {},
   "outputs": [
    {
     "data": {
      "text/plain": [
       "0"
      ]
     },
     "execution_count": 13,
     "metadata": {},
     "output_type": "execute_result"
    }
   ],
   "source": [
    "df.duplicated().sum()"
   ]
  },
  {
   "cell_type": "markdown",
   "id": "54a3e59a-2700-4794-a7e1-6703f9bf41a1",
   "metadata": {},
   "source": [
    "Явных дубликатов в датафрейме не обнаружено."
   ]
  },
  {
   "cell_type": "markdown",
   "id": "25913edf-fcb1-4892-bbee-dfcdb62cfd0e",
   "metadata": {},
   "source": [
    "### 2.4 Выбросы"
   ]
  },
  {
   "cell_type": "code",
   "execution_count": 14,
   "id": "479874db-f4e8-4e23-9aa7-0870a22147d9",
   "metadata": {},
   "outputs": [
    {
     "data": {
      "image/png": "[encoded data removed]",
      "text/plain": [
       "<Figure size 640x480 with 1 Axes>"
      ]
     },
     "metadata": {},
     "output_type": "display_data"
    }
   ],
   "source": [
    "plt.boxplot(df['amount']);"
   ]
  },
  {
   "cell_type": "code",
   "execution_count": 15,
   "id": "ef71ccd8-b17d-469c-b133-e6f356411340",
   "metadata": {},
   "outputs": [
    {
     "data": {
      "text/plain": [
       "array([368408.        , 503465.        , 938154.39999999])"
      ]
     },
     "execution_count": 15,
     "metadata": {},
     "output_type": "execute_result"
    }
   ],
   "source": [
    "np.percentile(df['amount'], [90,95,99])"
   ]
  },
  {
   "cell_type": "code",
   "execution_count": 16,
   "id": "dc52b381-4388-4fa3-b879-2a44574df8da",
   "metadata": {},
   "outputs": [
    {
     "data": {
      "text/html": [
       "<div>\n",
       "<style scoped>\n",
       "    .dataframe tbody tr th:only-of-type {\n",
       "        vertical-align: middle;\n",
       "    }\n",
       "\n",
       "    .dataframe tbody tr th {\n",
       "        vertical-align: top;\n",
       "    }\n",
       "\n",
       "    .dataframe thead th {\n",
       "        text-align: right;\n",
       "    }\n",
       "</style>\n",
       "<table border=\"1\" class=\"dataframe\">\n",
       "  <thead>\n",
       "    <tr style=\"text-align: right;\">\n",
       "      <th></th>\n",
       "      <th>id</th>\n",
       "      <th>number</th>\n",
       "      <th>payment_date</th>\n",
       "      <th>status</th>\n",
       "      <th>amount</th>\n",
       "      <th>start_date</th>\n",
       "      <th>loan_rating_int</th>\n",
       "      <th>loan_status_str</th>\n",
       "      <th>restruct_status</th>\n",
       "      <th>auto_approval</th>\n",
       "      <th>borrower_issue_class</th>\n",
       "    </tr>\n",
       "  </thead>\n",
       "  <tbody>\n",
       "    <tr>\n",
       "      <th>76</th>\n",
       "      <td>12483</td>\n",
       "      <td>5</td>\n",
       "      <td>2023-05-03 03:00:00</td>\n",
       "      <td>paid</td>\n",
       "      <td>6979590.0</td>\n",
       "      <td>2023-01-09 16:36:02.772381</td>\n",
       "      <td>13</td>\n",
       "      <td>closed</td>\n",
       "      <td>no restruct</td>\n",
       "      <td>No auto-approve</td>\n",
       "      <td>2. silver</td>\n",
       "    </tr>\n",
       "    <tr>\n",
       "      <th>414</th>\n",
       "      <td>12509</td>\n",
       "      <td>2</td>\n",
       "      <td>2023-03-11 03:00:00</td>\n",
       "      <td>paid</td>\n",
       "      <td>1082020.0</td>\n",
       "      <td>2023-01-10 23:13:43.974060</td>\n",
       "      <td>8</td>\n",
       "      <td>closed</td>\n",
       "      <td>no restruct</td>\n",
       "      <td>No auto-approve</td>\n",
       "      <td>2. silver</td>\n",
       "    </tr>\n",
       "    <tr>\n",
       "      <th>415</th>\n",
       "      <td>12509</td>\n",
       "      <td>3</td>\n",
       "      <td>2023-04-11 03:00:00</td>\n",
       "      <td>paid</td>\n",
       "      <td>2141580.0</td>\n",
       "      <td>2023-01-10 23:13:43.974060</td>\n",
       "      <td>8</td>\n",
       "      <td>closed</td>\n",
       "      <td>no restruct</td>\n",
       "      <td>No auto-approve</td>\n",
       "      <td>2. silver</td>\n",
       "    </tr>\n",
       "    <tr>\n",
       "      <th>637</th>\n",
       "      <td>12523</td>\n",
       "      <td>10</td>\n",
       "      <td>2023-10-12 03:00:00</td>\n",
       "      <td>paid</td>\n",
       "      <td>1122550.0</td>\n",
       "      <td>2023-01-13 11:59:25.508074</td>\n",
       "      <td>12</td>\n",
       "      <td>closed</td>\n",
       "      <td>no restruct</td>\n",
       "      <td>No auto-approve</td>\n",
       "      <td>3. gold</td>\n",
       "    </tr>\n",
       "    <tr>\n",
       "      <th>716</th>\n",
       "      <td>12528</td>\n",
       "      <td>4</td>\n",
       "      <td>2023-05-18 03:00:00</td>\n",
       "      <td>paid</td>\n",
       "      <td>2023620.0</td>\n",
       "      <td>2023-01-12 14:23:25.603894</td>\n",
       "      <td>12</td>\n",
       "      <td>closed</td>\n",
       "      <td>no restruct</td>\n",
       "      <td>No auto-approve</td>\n",
       "      <td>2. silver</td>\n",
       "    </tr>\n",
       "    <tr>\n",
       "      <th>...</th>\n",
       "      <td>...</td>\n",
       "      <td>...</td>\n",
       "      <td>...</td>\n",
       "      <td>...</td>\n",
       "      <td>...</td>\n",
       "      <td>...</td>\n",
       "      <td>...</td>\n",
       "      <td>...</td>\n",
       "      <td>...</td>\n",
       "      <td>...</td>\n",
       "      <td>...</td>\n",
       "    </tr>\n",
       "    <tr>\n",
       "      <th>68981</th>\n",
       "      <td>18206</td>\n",
       "      <td>6</td>\n",
       "      <td>2024-06-26 03:00:00</td>\n",
       "      <td>unscheduled</td>\n",
       "      <td>2530330.0</td>\n",
       "      <td>2023-12-29 18:10:04.288257</td>\n",
       "      <td>9</td>\n",
       "      <td>active</td>\n",
       "      <td>no restruct</td>\n",
       "      <td>No auto-approve</td>\n",
       "      <td>5. diamond</td>\n",
       "    </tr>\n",
       "    <tr>\n",
       "      <th>68982</th>\n",
       "      <td>18206</td>\n",
       "      <td>7</td>\n",
       "      <td>2024-07-26 03:00:00</td>\n",
       "      <td>unscheduled</td>\n",
       "      <td>2524090.0</td>\n",
       "      <td>2023-12-29 18:10:04.288257</td>\n",
       "      <td>9</td>\n",
       "      <td>active</td>\n",
       "      <td>no restruct</td>\n",
       "      <td>No auto-approve</td>\n",
       "      <td>5. diamond</td>\n",
       "    </tr>\n",
       "    <tr>\n",
       "      <th>68983</th>\n",
       "      <td>18206</td>\n",
       "      <td>8</td>\n",
       "      <td>2024-08-26 03:00:00</td>\n",
       "      <td>unscheduled</td>\n",
       "      <td>2529610.0</td>\n",
       "      <td>2023-12-29 18:10:04.288257</td>\n",
       "      <td>9</td>\n",
       "      <td>active</td>\n",
       "      <td>no restruct</td>\n",
       "      <td>No auto-approve</td>\n",
       "      <td>5. diamond</td>\n",
       "    </tr>\n",
       "    <tr>\n",
       "      <th>70494</th>\n",
       "      <td>18325</td>\n",
       "      <td>1</td>\n",
       "      <td>2024-01-31 03:00:00</td>\n",
       "      <td>paid</td>\n",
       "      <td>1286000.0</td>\n",
       "      <td>2023-12-30 16:20:22.149601</td>\n",
       "      <td>9</td>\n",
       "      <td>closed</td>\n",
       "      <td>no restruct</td>\n",
       "      <td>No auto-approve</td>\n",
       "      <td>2. silver</td>\n",
       "    </tr>\n",
       "    <tr>\n",
       "      <th>70495</th>\n",
       "      <td>18325</td>\n",
       "      <td>2</td>\n",
       "      <td>2024-02-29 03:00:00</td>\n",
       "      <td>paid</td>\n",
       "      <td>1284370.0</td>\n",
       "      <td>2023-12-30 16:20:22.149601</td>\n",
       "      <td>9</td>\n",
       "      <td>closed</td>\n",
       "      <td>no restruct</td>\n",
       "      <td>No auto-approve</td>\n",
       "      <td>2. silver</td>\n",
       "    </tr>\n",
       "  </tbody>\n",
       "</table>\n",
       "<p>710 rows × 11 columns</p>\n",
       "</div>"
      ],
      "text/plain": [
       "          id  number        payment_date       status     amount  \\\n",
       "76     12483       5 2023-05-03 03:00:00         paid  6979590.0   \n",
       "414    12509       2 2023-03-11 03:00:00         paid  1082020.0   \n",
       "415    12509       3 2023-04-11 03:00:00         paid  2141580.0   \n",
       "637    12523      10 2023-10-12 03:00:00         paid  1122550.0   \n",
       "716    12528       4 2023-05-18 03:00:00         paid  2023620.0   \n",
       "...      ...     ...                 ...          ...        ...   \n",
       "68981  18206       6 2024-06-26 03:00:00  unscheduled  2530330.0   \n",
       "68982  18206       7 2024-07-26 03:00:00  unscheduled  2524090.0   \n",
       "68983  18206       8 2024-08-26 03:00:00  unscheduled  2529610.0   \n",
       "70494  18325       1 2024-01-31 03:00:00         paid  1286000.0   \n",
       "70495  18325       2 2024-02-29 03:00:00         paid  1284370.0   \n",
       "\n",
       "                      start_date  loan_rating_int loan_status_str  \\\n",
       "76    2023-01-09 16:36:02.772381               13          closed   \n",
       "414   2023-01-10 23:13:43.974060                8          closed   \n",
       "415   2023-01-10 23:13:43.974060                8          closed   \n",
       "637   2023-01-13 11:59:25.508074               12          closed   \n",
       "716   2023-01-12 14:23:25.603894               12          closed   \n",
       "...                          ...              ...             ...   \n",
       "68981 2023-12-29 18:10:04.288257                9          active   \n",
       "68982 2023-12-29 18:10:04.288257                9          active   \n",
       "68983 2023-12-29 18:10:04.288257                9          active   \n",
       "70494 2023-12-30 16:20:22.149601                9          closed   \n",
       "70495 2023-12-30 16:20:22.149601                9          closed   \n",
       "\n",
       "      restruct_status    auto_approval borrower_issue_class  \n",
       "76        no restruct  No auto-approve            2. silver  \n",
       "414       no restruct  No auto-approve            2. silver  \n",
       "415       no restruct  No auto-approve            2. silver  \n",
       "637       no restruct  No auto-approve              3. gold  \n",
       "716       no restruct  No auto-approve            2. silver  \n",
       "...               ...              ...                  ...  \n",
       "68981     no restruct  No auto-approve           5. diamond  \n",
       "68982     no restruct  No auto-approve           5. diamond  \n",
       "68983     no restruct  No auto-approve           5. diamond  \n",
       "70494     no restruct  No auto-approve            2. silver  \n",
       "70495     no restruct  No auto-approve            2. silver  \n",
       "\n",
       "[710 rows x 11 columns]"
      ]
     },
     "execution_count": 16,
     "metadata": {},
     "output_type": "execute_result"
    }
   ],
   "source": [
    "df[df['amount'] > 938154.39999999]"
   ]
  },
  {
   "cell_type": "markdown",
   "id": "3a4a98b8-16dd-4538-bca6-13d8169e7452",
   "metadata": {},
   "source": [
    "Не более 1% заказов с суммой платежа более 938154. Уберем эти значения, чтобы не исказить общую картину. Как мы можем видеть в основном это заказы со статусом closed, т.е. возможно завышенные суммы платежей в которых отказано или исключения в виде класса diamond."
   ]
  },
  {
   "cell_type": "code",
   "execution_count": 17,
   "id": "11d34ed3-7f76-4776-ba89-9bfb194f4ad9",
   "metadata": {},
   "outputs": [],
   "source": [
    "df = df[df['amount'] <= 938154.39999999]"
   ]
  },
  {
   "cell_type": "code",
   "execution_count": 18,
   "id": "af391d51-adf7-4400-8f0d-6de306be6bbf",
   "metadata": {},
   "outputs": [
    {
     "name": "stdout",
     "output_type": "stream",
     "text": [
      "<class 'pandas.core.frame.DataFrame'>\n",
      "Index: 70271 entries, 0 to 71024\n",
      "Data columns (total 11 columns):\n",
      " #   Column                Non-Null Count  Dtype         \n",
      "---  ------                --------------  -----         \n",
      " 0   id                    70271 non-null  int64         \n",
      " 1   number                70271 non-null  int64         \n",
      " 2   payment_date          70271 non-null  datetime64[ns]\n",
      " 3   status                70271 non-null  object        \n",
      " 4   amount                70271 non-null  float64       \n",
      " 5   start_date            70271 non-null  datetime64[ns]\n",
      " 6   loan_rating_int       70271 non-null  int64         \n",
      " 7   loan_status_str       70271 non-null  object        \n",
      " 8   restruct_status       70271 non-null  object        \n",
      " 9   auto_approval         70271 non-null  object        \n",
      " 10  borrower_issue_class  70271 non-null  object        \n",
      "dtypes: datetime64[ns](2), float64(1), int64(3), object(5)\n",
      "memory usage: 6.4+ MB\n"
     ]
    }
   ],
   "source": [
    "df.info()"
   ]
  },
  {
   "cell_type": "markdown",
   "id": "a10df417-7a78-4df1-8b5d-e6a3ae05c8ff",
   "metadata": {},
   "source": [
    "Потеряли 710 строк."
   ]
  },
  {
   "cell_type": "code",
   "execution_count": 19,
   "id": "19e489a2-5a06-4128-b8c8-a1a05e94fbaa",
   "metadata": {},
   "outputs": [
    {
     "name": "stdout",
     "output_type": "stream",
     "text": [
      "Минимальная дата взятия займа - 2023-01-01 09:24:53.918126 Максимальная дата взятия займа - 2023-12-31 13:48:46.261717\n"
     ]
    }
   ],
   "source": [
    "print(\"Минимальная дата взятия займа -\", df['start_date'].min(), \"Максимальная дата взятия займа -\", df['start_date'].max())"
   ]
  },
  {
   "cell_type": "markdown",
   "id": "102aca1e-f7f2-4ab2-8aca-002c2f8481cc",
   "metadata": {},
   "source": [
    "Даты действительно, исключительно за 2023 год."
   ]
  },
  {
   "cell_type": "markdown",
   "id": "a8e77ada-ed9f-44fa-8f23-e2627b64790f",
   "metadata": {},
   "source": [
    "### 2.5 Добавление новых столбцов"
   ]
  },
  {
   "cell_type": "code",
   "execution_count": 20,
   "id": "3be76db6-29ee-4905-b0d3-57bccef3e6c0",
   "metadata": {},
   "outputs": [],
   "source": [
    "intervals = [0, 11, 15, 18]  # Интервалы для низкого, среднего и высокого рейтинга\n",
    "labels = ['Низкий', 'Средний', 'Высокий']\n",
    "\n",
    "# Добавьте новый столбец с группами рейтингов\n",
    "df['rating_group'] = pd.cut(df['loan_rating_int'], bins=intervals, labels=labels, include_lowest=True)\n"
   ]
  },
  {
   "cell_type": "markdown",
   "id": "c4166a5e-d6e4-4142-8e8b-d8c6a2ca9e28",
   "metadata": {},
   "source": [
    "Для удобства добавим категоризацию для рейтинга, создав колонку с разбивкой по рейтингам. \n",
    "\n",
    "Низкий рейтинг: от 0 до 10 включительно, средний рейтинг: от 11 до 14 включительно, высокий рейтинг: от 15 до 18 включительно. Размер групп примерно равный. ный."
   ]
  },
  {
   "cell_type": "markdown",
   "id": "d688ce77-cf90-406b-947c-f459065518be",
   "metadata": {},
   "source": [
    "###  Промежуточный вывод"
   ]
  },
  {
   "cell_type": "markdown",
   "id": "3f1b667b-a7f4-4304-b156-e558a2aa562b",
   "metadata": {},
   "source": [
    "1. Решено удалить пропуски, так как они составляют менее 1% данных, чтобы сохранить качество данных без искажения общей картины.\n",
    "\n",
    "\n",
    "2. В колонке с датой взятия займа добавлены нулевые миллисекунды для преобразования к типу даты.\n",
    "\n",
    "\n",
    "3. Дубликатов не обнаружено, что свидетельствует о хорошем качестве данных и отсутствии повторяющейся информации.\n",
    "\n",
    "\n",
    "4. Обнаружено, что не более 1% заказов имеют сумму платежа более 938154. Удаление этих значений помогло избежать искажения общей картины. Это часто связано с заказами со статусом \"closed\" или классом \"diamond\", что может указывать на завышенные суммы платежей или исключительные случаи. Удаление привело к потере 710 строк.\n",
    "\n",
    "\n",
    "5. Подтверждено, что даты относятся исключительно к 2023 году, что устанавливает временной контекст данных.\n",
    "\n",
    "\n",
    "6. Добавлена категоризация для рейтинга, что упрощает классификацию данных и проведение анализа по различным уровням рейтинга: низкому, среднему и высокому. Этот подход поможет облегчить интерпретацию результатов и выявление закономерностей."
   ]
  },
  {
   "cell_type": "markdown",
   "id": "82c0bb5e-4b50-492f-b1b5-b45e1a1a0c36",
   "metadata": {},
   "source": [
    "## 3. Разведочный анализ займов в разрезе рейтингов"
   ]
  },
  {
   "cell_type": "markdown",
   "id": "91099fbf-ead4-4367-abaa-f16ebb681b17",
   "metadata": {},
   "source": [
    "### 3.1 По всем рейтингам"
   ]
  },
  {
   "cell_type": "code",
   "execution_count": 21,
   "id": "2872224b-73cd-4bdc-a3b0-572f83bc2b48",
   "metadata": {},
   "outputs": [
    {
     "data": {
      "text/plain": [
       "loan_rating_int\n",
       "16    843\n",
       "17    504\n",
       "18    494\n",
       "12    396\n",
       "11    395\n",
       "13    354\n",
       "14    307\n",
       "15    303\n",
       "9     272\n",
       "10    240\n",
       "7     196\n",
       "8     119\n",
       "6      73\n",
       "5      35\n",
       "3      32\n",
       "4      19\n",
       "2       4\n",
       "1       4\n",
       "Name: id, dtype: int64"
      ]
     },
     "execution_count": 21,
     "metadata": {},
     "output_type": "execute_result"
    }
   ],
   "source": [
    "loan_rating_cnt = df.groupby('loan_rating_int')['id'].nunique().sort_values(ascending=False)\n",
    "loan_rating_cnt"
   ]
  },
  {
   "cell_type": "markdown",
   "id": "b7d9bf9e-6531-4f29-98bc-3ebcbc64ed33",
   "metadata": {},
   "source": [
    "Больше всего займов с высокими рейтингами: 16 - 843, 17 - 504, 18 - 494. Меньше всего с низкими рейтингами 1 - 4, 2 - 4, 4 - 19."
   ]
  },
  {
   "cell_type": "code",
   "execution_count": 22,
   "id": "97ce2084-4c5e-4d77-81fd-e26d42e72edf",
   "metadata": {},
   "outputs": [
    {
     "data": {
      "text/html": [
       "<div>\n",
       "<style scoped>\n",
       "    .dataframe tbody tr th:only-of-type {\n",
       "        vertical-align: middle;\n",
       "    }\n",
       "\n",
       "    .dataframe tbody tr th {\n",
       "        vertical-align: top;\n",
       "    }\n",
       "\n",
       "    .dataframe thead th {\n",
       "        text-align: right;\n",
       "    }\n",
       "</style>\n",
       "<table border=\"1\" class=\"dataframe\">\n",
       "  <thead>\n",
       "    <tr style=\"text-align: right;\">\n",
       "      <th></th>\n",
       "      <th>loan_rating_int</th>\n",
       "      <th>amount</th>\n",
       "    </tr>\n",
       "  </thead>\n",
       "  <tbody>\n",
       "    <tr>\n",
       "      <th>15</th>\n",
       "      <td>16</td>\n",
       "      <td>1.533483e+09</td>\n",
       "    </tr>\n",
       "    <tr>\n",
       "      <th>10</th>\n",
       "      <td>11</td>\n",
       "      <td>1.222573e+09</td>\n",
       "    </tr>\n",
       "    <tr>\n",
       "      <th>11</th>\n",
       "      <td>12</td>\n",
       "      <td>1.132468e+09</td>\n",
       "    </tr>\n",
       "    <tr>\n",
       "      <th>8</th>\n",
       "      <td>9</td>\n",
       "      <td>1.004413e+09</td>\n",
       "    </tr>\n",
       "    <tr>\n",
       "      <th>16</th>\n",
       "      <td>17</td>\n",
       "      <td>1.003733e+09</td>\n",
       "    </tr>\n",
       "    <tr>\n",
       "      <th>12</th>\n",
       "      <td>13</td>\n",
       "      <td>9.732362e+08</td>\n",
       "    </tr>\n",
       "    <tr>\n",
       "      <th>13</th>\n",
       "      <td>14</td>\n",
       "      <td>8.178720e+08</td>\n",
       "    </tr>\n",
       "    <tr>\n",
       "      <th>6</th>\n",
       "      <td>7</td>\n",
       "      <td>7.900503e+08</td>\n",
       "    </tr>\n",
       "    <tr>\n",
       "      <th>17</th>\n",
       "      <td>18</td>\n",
       "      <td>7.550085e+08</td>\n",
       "    </tr>\n",
       "    <tr>\n",
       "      <th>14</th>\n",
       "      <td>15</td>\n",
       "      <td>7.363839e+08</td>\n",
       "    </tr>\n",
       "    <tr>\n",
       "      <th>9</th>\n",
       "      <td>10</td>\n",
       "      <td>7.069343e+08</td>\n",
       "    </tr>\n",
       "    <tr>\n",
       "      <th>7</th>\n",
       "      <td>8</td>\n",
       "      <td>3.974810e+08</td>\n",
       "    </tr>\n",
       "    <tr>\n",
       "      <th>5</th>\n",
       "      <td>6</td>\n",
       "      <td>2.807449e+08</td>\n",
       "    </tr>\n",
       "    <tr>\n",
       "      <th>2</th>\n",
       "      <td>3</td>\n",
       "      <td>1.355118e+08</td>\n",
       "    </tr>\n",
       "    <tr>\n",
       "      <th>4</th>\n",
       "      <td>5</td>\n",
       "      <td>1.268642e+08</td>\n",
       "    </tr>\n",
       "    <tr>\n",
       "      <th>3</th>\n",
       "      <td>4</td>\n",
       "      <td>5.049639e+07</td>\n",
       "    </tr>\n",
       "    <tr>\n",
       "      <th>0</th>\n",
       "      <td>1</td>\n",
       "      <td>1.905928e+07</td>\n",
       "    </tr>\n",
       "    <tr>\n",
       "      <th>1</th>\n",
       "      <td>2</td>\n",
       "      <td>3.281595e+06</td>\n",
       "    </tr>\n",
       "  </tbody>\n",
       "</table>\n",
       "</div>"
      ],
      "text/plain": [
       "    loan_rating_int        amount\n",
       "15               16  1.533483e+09\n",
       "10               11  1.222573e+09\n",
       "11               12  1.132468e+09\n",
       "8                 9  1.004413e+09\n",
       "16               17  1.003733e+09\n",
       "12               13  9.732362e+08\n",
       "13               14  8.178720e+08\n",
       "6                 7  7.900503e+08\n",
       "17               18  7.550085e+08\n",
       "14               15  7.363839e+08\n",
       "9                10  7.069343e+08\n",
       "7                 8  3.974810e+08\n",
       "5                 6  2.807449e+08\n",
       "2                 3  1.355118e+08\n",
       "4                 5  1.268642e+08\n",
       "3                 4  5.049639e+07\n",
       "0                 1  1.905928e+07\n",
       "1                 2  3.281595e+06"
      ]
     },
     "execution_count": 22,
     "metadata": {},
     "output_type": "execute_result"
    }
   ],
   "source": [
    "loan_rating_sum = df.groupby('loan_rating_int')['amount'].sum().reset_index()\n",
    "\n",
    "loan_rating_sum = loan_rating_sum.sort_values(by='amount', ascending=False)\n",
    "loan_rating_sum"
   ]
  },
  {
   "cell_type": "markdown",
   "id": "4338c810-2952-4dc6-9681-ce1458db0816",
   "metadata": {},
   "source": [
    "Самые большие суммы платежа у рейтинга 16. За ним идут 11,12,9. "
   ]
  },
  {
   "cell_type": "code",
   "execution_count": 42,
   "id": "6be5af5a-7a53-483c-a54f-749d5b1743d4",
   "metadata": {},
   "outputs": [
    {
     "data": {
      "application/vnd.plotly.v1+json": {
       "config": {
        "plotlyServerURL": "https://plot.ly"
       },
       "data": [
        {
         "alignmentgroup": "True",
         "hovertemplate": "loan_rating_int=%{x}<br>amount=%{y}<extra></extra>",
         "legendgroup": "",
         "marker": {
          "color": "#636efa",
          "pattern": {
           "shape": ""
          }
         },
         "name": "",
         "offsetgroup": "",
         "orientation": "v",
         "showlegend": false,
         "textposition": "auto",
         "type": "bar",
         "x": [
          16,
          11,
          12,
          9,
          17,
          13,
          14,
          7,
          18,
          15,
          10,
          8,
          6,
          3,
          5,
          4,
          1,
          2
         ],
         "xaxis": "x",
         "y": [
          1533482669.73,
          1222573277.51,
          1132467599.65,
          1004413244.48,
          1003732504.477,
          973236235.13,
          817872008.09,
          790050322.13,
          755008544.766,
          736383888.09,
          706934261.22,
          397481031.84,
          280744917.9,
          135511760.73,
          126864205.4,
          50496385.6,
          19059284.6,
          3281595.3
         ],
         "yaxis": "y"
        }
       ],
       "layout": {
        "autosize": true,
        "barmode": "relative",
        "legend": {
         "tracegroupgap": 0
        },
        "template": {
         "data": {
          "bar": [
           {
            "error_x": {
             "color": "#2a3f5f"
            },
            "error_y": {
             "color": "#2a3f5f"
            },
            "marker": {
             "line": {
              "color": "#E5ECF6",
              "width": 0.5
             },
             "pattern": {
              "fillmode": "overlay",
              "size": 10,
              "solidity": 0.2
             }
            },
            "type": "bar"
           }
          ],
          "barpolar": [
           {
            "marker": {
             "line": {
              "color": "#E5ECF6",
              "width": 0.5
             },
             "pattern": {
              "fillmode": "overlay",
              "size": 10,
              "solidity": 0.2
             }
            },
            "type": "barpolar"
           }
          ],
          "carpet": [
           {
            "aaxis": {
             "endlinecolor": "#2a3f5f",
             "gridcolor": "white",
             "linecolor": "white",
             "minorgridcolor": "white",
             "startlinecolor": "#2a3f5f"
            },
            "baxis": {
             "endlinecolor": "#2a3f5f",
             "gridcolor": "white",
             "linecolor": "white",
             "minorgridcolor": "white",
             "startlinecolor": "#2a3f5f"
            },
            "type": "carpet"
           }
          ],
          "choropleth": [
           {
            "colorbar": {
             "outlinewidth": 0,
             "ticks": ""
            },
            "type": "choropleth"
           }
          ],
          "contour": [
           {
            "colorbar": {
             "outlinewidth": 0,
             "ticks": ""
            },
            "colorscale": [
             [
              0,
              "#0d0887"
             ],
             [
              0.1111111111111111,
              "#46039f"
             ],
             [
              0.2222222222222222,
              "#7201a8"
             ],
             [
              0.3333333333333333,
              "#9c179e"
             ],
             [
              0.4444444444444444,
              "#bd3786"
             ],
             [
              0.5555555555555556,
              "#d8576b"
             ],
             [
              0.6666666666666666,
              "#ed7953"
             ],
             [
              0.7777777777777778,
              "#fb9f3a"
             ],
             [
              0.8888888888888888,
              "#fdca26"
             ],
             [
              1,
              "#f0f921"
             ]
            ],
            "type": "contour"
           }
          ],
          "contourcarpet": [
           {
            "colorbar": {
             "outlinewidth": 0,
             "ticks": ""
            },
            "type": "contourcarpet"
           }
          ],
          "heatmap": [
           {
            "colorbar": {
             "outlinewidth": 0,
             "ticks": ""
            },
            "colorscale": [
             [
              0,
              "#0d0887"
             ],
             [
              0.1111111111111111,
              "#46039f"
             ],
             [
              0.2222222222222222,
              "#7201a8"
             ],
             [
              0.3333333333333333,
              "#9c179e"
             ],
             [
              0.4444444444444444,
              "#bd3786"
             ],
             [
              0.5555555555555556,
              "#d8576b"
             ],
             [
              0.6666666666666666,
              "#ed7953"
             ],
             [
              0.7777777777777778,
              "#fb9f3a"
             ],
             [
              0.8888888888888888,
              "#fdca26"
             ],
             [
              1,
              "#f0f921"
             ]
            ],
            "type": "heatmap"
           }
          ],
          "heatmapgl": [
           {
            "colorbar": {
             "outlinewidth": 0,
             "ticks": ""
            },
            "colorscale": [
             [
              0,
              "#0d0887"
             ],
             [
              0.1111111111111111,
              "#46039f"
             ],
             [
              0.2222222222222222,
              "#7201a8"
             ],
             [
              0.3333333333333333,
              "#9c179e"
             ],
             [
              0.4444444444444444,
              "#bd3786"
             ],
             [
              0.5555555555555556,
              "#d8576b"
             ],
             [
              0.6666666666666666,
              "#ed7953"
             ],
             [
              0.7777777777777778,
              "#fb9f3a"
             ],
             [
              0.8888888888888888,
              "#fdca26"
             ],
             [
              1,
              "#f0f921"
             ]
            ],
            "type": "heatmapgl"
           }
          ],
          "histogram": [
           {
            "marker": {
             "pattern": {
              "fillmode": "overlay",
              "size": 10,
              "solidity": 0.2
             }
            },
            "type": "histogram"
           }
          ],
          "histogram2d": [
           {
            "colorbar": {
             "outlinewidth": 0,
             "ticks": ""
            },
            "colorscale": [
             [
              0,
              "#0d0887"
             ],
             [
              0.1111111111111111,
              "#46039f"
             ],
             [
              0.2222222222222222,
              "#7201a8"
             ],
             [
              0.3333333333333333,
              "#9c179e"
             ],
             [
              0.4444444444444444,
              "#bd3786"
             ],
             [
              0.5555555555555556,
              "#d8576b"
             ],
             [
              0.6666666666666666,
              "#ed7953"
             ],
             [
              0.7777777777777778,
              "#fb9f3a"
             ],
             [
              0.8888888888888888,
              "#fdca26"
             ],
             [
              1,
              "#f0f921"
             ]
            ],
            "type": "histogram2d"
           }
          ],
          "histogram2dcontour": [
           {
            "colorbar": {
             "outlinewidth": 0,
             "ticks": ""
            },
            "colorscale": [
             [
              0,
              "#0d0887"
             ],
             [
              0.1111111111111111,
              "#46039f"
             ],
             [
              0.2222222222222222,
              "#7201a8"
             ],
             [
              0.3333333333333333,
              "#9c179e"
             ],
             [
              0.4444444444444444,
              "#bd3786"
             ],
             [
              0.5555555555555556,
              "#d8576b"
             ],
             [
              0.6666666666666666,
              "#ed7953"
             ],
             [
              0.7777777777777778,
              "#fb9f3a"
             ],
             [
              0.8888888888888888,
              "#fdca26"
             ],
             [
              1,
              "#f0f921"
             ]
            ],
            "type": "histogram2dcontour"
           }
          ],
          "mesh3d": [
           {
            "colorbar": {
             "outlinewidth": 0,
             "ticks": ""
            },
            "type": "mesh3d"
           }
          ],
          "parcoords": [
           {
            "line": {
             "colorbar": {
              "outlinewidth": 0,
              "ticks": ""
             }
            },
            "type": "parcoords"
           }
          ],
          "pie": [
           {
            "automargin": true,
            "type": "pie"
           }
          ],
          "scatter": [
           {
            "fillpattern": {
             "fillmode": "overlay",
             "size": 10,
             "solidity": 0.2
            },
            "type": "scatter"
           }
          ],
          "scatter3d": [
           {
            "line": {
             "colorbar": {
              "outlinewidth": 0,
              "ticks": ""
             }
            },
            "marker": {
             "colorbar": {
              "outlinewidth": 0,
              "ticks": ""
             }
            },
            "type": "scatter3d"
           }
          ],
          "scattercarpet": [
           {
            "marker": {
             "colorbar": {
              "outlinewidth": 0,
              "ticks": ""
             }
            },
            "type": "scattercarpet"
           }
          ],
          "scattergeo": [
           {
            "marker": {
             "colorbar": {
              "outlinewidth": 0,
              "ticks": ""
             }
            },
            "type": "scattergeo"
           }
          ],
          "scattergl": [
           {
            "marker": {
             "colorbar": {
              "outlinewidth": 0,
              "ticks": ""
             }
            },
            "type": "scattergl"
           }
          ],
          "scattermapbox": [
           {
            "marker": {
             "colorbar": {
              "outlinewidth": 0,
              "ticks": ""
             }
            },
            "type": "scattermapbox"
           }
          ],
          "scatterpolar": [
           {
            "marker": {
             "colorbar": {
              "outlinewidth": 0,
              "ticks": ""
             }
            },
            "type": "scatterpolar"
           }
          ],
          "scatterpolargl": [
           {
            "marker": {
             "colorbar": {
              "outlinewidth": 0,
              "ticks": ""
             }
            },
            "type": "scatterpolargl"
           }
          ],
          "scatterternary": [
           {
            "marker": {
             "colorbar": {
              "outlinewidth": 0,
              "ticks": ""
             }
            },
            "type": "scatterternary"
           }
          ],
          "surface": [
           {
            "colorbar": {
             "outlinewidth": 0,
             "ticks": ""
            },
            "colorscale": [
             [
              0,
              "#0d0887"
             ],
             [
              0.1111111111111111,
              "#46039f"
             ],
             [
              0.2222222222222222,
              "#7201a8"
             ],
             [
              0.3333333333333333,
              "#9c179e"
             ],
             [
              0.4444444444444444,
              "#bd3786"
             ],
             [
              0.5555555555555556,
              "#d8576b"
             ],
             [
              0.6666666666666666,
              "#ed7953"
             ],
             [
              0.7777777777777778,
              "#fb9f3a"
             ],
             [
              0.8888888888888888,
              "#fdca26"
             ],
             [
              1,
              "#f0f921"
             ]
            ],
            "type": "surface"
           }
          ],
          "table": [
           {
            "cells": {
             "fill": {
              "color": "#EBF0F8"
             },
             "line": {
              "color": "white"
             }
            },
            "header": {
             "fill": {
              "color": "#C8D4E3"
             },
             "line": {
              "color": "white"
             }
            },
            "type": "table"
           }
          ]
         },
         "layout": {
          "annotationdefaults": {
           "arrowcolor": "#2a3f5f",
           "arrowhead": 0,
           "arrowwidth": 1
          },
          "autotypenumbers": "strict",
          "coloraxis": {
           "colorbar": {
            "outlinewidth": 0,
            "ticks": ""
           }
          },
          "colorscale": {
           "diverging": [
            [
             0,
             "#8e0152"
            ],
            [
             0.1,
             "#c51b7d"
            ],
            [
             0.2,
             "#de77ae"
            ],
            [
             0.3,
             "#f1b6da"
            ],
            [
             0.4,
             "#fde0ef"
            ],
            [
             0.5,
             "#f7f7f7"
            ],
            [
             0.6,
             "#e6f5d0"
            ],
            [
             0.7,
             "#b8e186"
            ],
            [
             0.8,
             "#7fbc41"
            ],
            [
             0.9,
             "#4d9221"
            ],
            [
             1,
             "#276419"
            ]
           ],
           "sequential": [
            [
             0,
             "#0d0887"
            ],
            [
             0.1111111111111111,
             "#46039f"
            ],
            [
             0.2222222222222222,
             "#7201a8"
            ],
            [
             0.3333333333333333,
             "#9c179e"
            ],
            [
             0.4444444444444444,
             "#bd3786"
            ],
            [
             0.5555555555555556,
             "#d8576b"
            ],
            [
             0.6666666666666666,
             "#ed7953"
            ],
            [
             0.7777777777777778,
             "#fb9f3a"
            ],
            [
             0.8888888888888888,
             "#fdca26"
            ],
            [
             1,
             "#f0f921"
            ]
           ],
           "sequentialminus": [
            [
             0,
             "#0d0887"
            ],
            [
             0.1111111111111111,
             "#46039f"
            ],
            [
             0.2222222222222222,
             "#7201a8"
            ],
            [
             0.3333333333333333,
             "#9c179e"
            ],
            [
             0.4444444444444444,
             "#bd3786"
            ],
            [
             0.5555555555555556,
             "#d8576b"
            ],
            [
             0.6666666666666666,
             "#ed7953"
            ],
            [
             0.7777777777777778,
             "#fb9f3a"
            ],
            [
             0.8888888888888888,
             "#fdca26"
            ],
            [
             1,
             "#f0f921"
            ]
           ]
          },
          "colorway": [
           "#636efa",
           "#EF553B",
           "#00cc96",
           "#ab63fa",
           "#FFA15A",
           "#19d3f3",
           "#FF6692",
           "#B6E880",
           "#FF97FF",
           "#FECB52"
          ],
          "font": {
           "color": "#2a3f5f"
          },
          "geo": {
           "bgcolor": "white",
           "lakecolor": "white",
           "landcolor": "#E5ECF6",
           "showlakes": true,
           "showland": true,
           "subunitcolor": "white"
          },
          "hoverlabel": {
           "align": "left"
          },
          "hovermode": "closest",
          "mapbox": {
           "style": "light"
          },
          "paper_bgcolor": "white",
          "plot_bgcolor": "#E5ECF6",
          "polar": {
           "angularaxis": {
            "gridcolor": "white",
            "linecolor": "white",
            "ticks": ""
           },
           "bgcolor": "#E5ECF6",
           "radialaxis": {
            "gridcolor": "white",
            "linecolor": "white",
            "ticks": ""
           }
          },
          "scene": {
           "xaxis": {
            "backgroundcolor": "#E5ECF6",
            "gridcolor": "white",
            "gridwidth": 2,
            "linecolor": "white",
            "showbackground": true,
            "ticks": "",
            "zerolinecolor": "white"
           },
           "yaxis": {
            "backgroundcolor": "#E5ECF6",
            "gridcolor": "white",
            "gridwidth": 2,
            "linecolor": "white",
            "showbackground": true,
            "ticks": "",
            "zerolinecolor": "white"
           },
           "zaxis": {
            "backgroundcolor": "#E5ECF6",
            "gridcolor": "white",
            "gridwidth": 2,
            "linecolor": "white",
            "showbackground": true,
            "ticks": "",
            "zerolinecolor": "white"
           }
          },
          "shapedefaults": {
           "line": {
            "color": "#2a3f5f"
           }
          },
          "ternary": {
           "aaxis": {
            "gridcolor": "white",
            "linecolor": "white",
            "ticks": ""
           },
           "baxis": {
            "gridcolor": "white",
            "linecolor": "white",
            "ticks": ""
           },
           "bgcolor": "#E5ECF6",
           "caxis": {
            "gridcolor": "white",
            "linecolor": "white",
            "ticks": ""
           }
          },
          "title": {
           "x": 0.05
          },
          "xaxis": {
           "automargin": true,
           "gridcolor": "white",
           "linecolor": "white",
           "ticks": "",
           "title": {
            "standoff": 15
           },
           "zerolinecolor": "white",
           "zerolinewidth": 2
          },
          "yaxis": {
           "automargin": true,
           "gridcolor": "white",
           "linecolor": "white",
           "ticks": "",
           "title": {
            "standoff": 15
           },
           "zerolinecolor": "white",
           "zerolinewidth": 2
          }
         }
        },
        "title": {
         "text": "Распределение сумм займов по рейтингам"
        },
        "xaxis": {
         "anchor": "y",
         "autorange": true,
         "domain": [
          0,
          1
         ],
         "range": [
          0.5,
          18.5
         ],
         "title": {
          "text": "Рейтинг"
         },
         "type": "linear"
        },
        "yaxis": {
         "anchor": "x",
         "autorange": true,
         "domain": [
          0,
          1
         ],
         "range": [
          0,
          1614192283.9263158
         ],
         "title": {
          "text": "Сумма"
         },
         "type": "linear"
        }
       }
      },
      "image/png": "[encoded data removed]",
      "text/html": [
       "<div>                            <div id=\"589d3a59-239a-4955-8b56-9ce37b8684dd\" class=\"plotly-graph-div\" style=\"height:525px; width:100%;\"></div>            <script type=\"text/javascript\">                require([\"plotly\"], function(Plotly) {                    window.PLOTLYENV=window.PLOTLYENV || {};                                    if (document.getElementById(\"589d3a59-239a-4955-8b56-9ce37b8684dd\")) {                    Plotly.newPlot(                        \"589d3a59-239a-4955-8b56-9ce37b8684dd\",                        [{\"alignmentgroup\":\"True\",\"hovertemplate\":\"loan_rating_int=%{x}<br>amount=%{y}<extra></extra>\",\"legendgroup\":\"\",\"marker\":{\"color\":\"#636efa\",\"pattern\":{\"shape\":\"\"}},\"name\":\"\",\"offsetgroup\":\"\",\"orientation\":\"v\",\"showlegend\":false,\"textposition\":\"auto\",\"x\":[16,11,12,9,17,13,14,7,18,15,10,8,6,3,5,4,1,2],\"xaxis\":\"x\",\"y\":[1533482669.73,1222573277.51,1132467599.65,1004413244.48,1003732504.477,973236235.13,817872008.09,790050322.13,755008544.766,736383888.09,706934261.22,397481031.84,280744917.9,135511760.73,126864205.4,50496385.6,19059284.6,3281595.3],\"yaxis\":\"y\",\"type\":\"bar\"}],                        {\"template\":{\"data\":{\"histogram2dcontour\":[{\"type\":\"histogram2dcontour\",\"colorbar\":{\"outlinewidth\":0,\"ticks\":\"\"},\"colorscale\":[[0.0,\"#0d0887\"],[0.1111111111111111,\"#46039f\"],[0.2222222222222222,\"#7201a8\"],[0.3333333333333333,\"#9c179e\"],[0.4444444444444444,\"#bd3786\"],[0.5555555555555556,\"#d8576b\"],[0.6666666666666666,\"#ed7953\"],[0.7777777777777778,\"#fb9f3a\"],[0.8888888888888888,\"#fdca26\"],[1.0,\"#f0f921\"]]}],\"choropleth\":[{\"type\":\"choropleth\",\"colorbar\":{\"outlinewidth\":0,\"ticks\":\"\"}}],\"histogram2d\":[{\"type\":\"histogram2d\",\"colorbar\":{\"outlinewidth\":0,\"ticks\":\"\"},\"colorscale\":[[0.0,\"#0d0887\"],[0.1111111111111111,\"#46039f\"],[0.2222222222222222,\"#7201a8\"],[0.3333333333333333,\"#9c179e\"],[0.4444444444444444,\"#bd3786\"],[0.5555555555555556,\"#d8576b\"],[0.6666666666666666,\"#ed7953\"],[0.7777777777777778,\"#fb9f3a\"],[0.8888888888888888,\"#fdca26\"],[1.0,\"#f0f921\"]]}],\"heatmap\":[{\"type\":\"heatmap\",\"colorbar\":{\"outlinewidth\":0,\"ticks\":\"\"},\"colorscale\":[[0.0,\"#0d0887\"],[0.1111111111111111,\"#46039f\"],[0.2222222222222222,\"#7201a8\"],[0.3333333333333333,\"#9c179e\"],[0.4444444444444444,\"#bd3786\"],[0.5555555555555556,\"#d8576b\"],[0.6666666666666666,\"#ed7953\"],[0.7777777777777778,\"#fb9f3a\"],[0.8888888888888888,\"#fdca26\"],[1.0,\"#f0f921\"]]}],\"heatmapgl\":[{\"type\":\"heatmapgl\",\"colorbar\":{\"outlinewidth\":0,\"ticks\":\"\"},\"colorscale\":[[0.0,\"#0d0887\"],[0.1111111111111111,\"#46039f\"],[0.2222222222222222,\"#7201a8\"],[0.3333333333333333,\"#9c179e\"],[0.4444444444444444,\"#bd3786\"],[0.5555555555555556,\"#d8576b\"],[0.6666666666666666,\"#ed7953\"],[0.7777777777777778,\"#fb9f3a\"],[0.8888888888888888,\"#fdca26\"],[1.0,\"#f0f921\"]]}],\"contourcarpet\":[{\"type\":\"contourcarpet\",\"colorbar\":{\"outlinewidth\":0,\"ticks\":\"\"}}],\"contour\":[{\"type\":\"contour\",\"colorbar\":{\"outlinewidth\":0,\"ticks\":\"\"},\"colorscale\":[[0.0,\"#0d0887\"],[0.1111111111111111,\"#46039f\"],[0.2222222222222222,\"#7201a8\"],[0.3333333333333333,\"#9c179e\"],[0.4444444444444444,\"#bd3786\"],[0.5555555555555556,\"#d8576b\"],[0.6666666666666666,\"#ed7953\"],[0.7777777777777778,\"#fb9f3a\"],[0.8888888888888888,\"#fdca26\"],[1.0,\"#f0f921\"]]}],\"surface\":[{\"type\":\"surface\",\"colorbar\":{\"outlinewidth\":0,\"ticks\":\"\"},\"colorscale\":[[0.0,\"#0d0887\"],[0.1111111111111111,\"#46039f\"],[0.2222222222222222,\"#7201a8\"],[0.3333333333333333,\"#9c179e\"],[0.4444444444444444,\"#bd3786\"],[0.5555555555555556,\"#d8576b\"],[0.6666666666666666,\"#ed7953\"],[0.7777777777777778,\"#fb9f3a\"],[0.8888888888888888,\"#fdca26\"],[1.0,\"#f0f921\"]]}],\"mesh3d\":[{\"type\":\"mesh3d\",\"colorbar\":{\"outlinewidth\":0,\"ticks\":\"\"}}],\"scatter\":[{\"fillpattern\":{\"fillmode\":\"overlay\",\"size\":10,\"solidity\":0.2},\"type\":\"scatter\"}],\"parcoords\":[{\"type\":\"parcoords\",\"line\":{\"colorbar\":{\"outlinewidth\":0,\"ticks\":\"\"}}}],\"scatterpolargl\":[{\"type\":\"scatterpolargl\",\"marker\":{\"colorbar\":{\"outlinewidth\":0,\"ticks\":\"\"}}}],\"bar\":[{\"error_x\":{\"color\":\"#2a3f5f\"},\"error_y\":{\"color\":\"#2a3f5f\"},\"marker\":{\"line\":{\"color\":\"#E5ECF6\",\"width\":0.5},\"pattern\":{\"fillmode\":\"overlay\",\"size\":10,\"solidity\":0.2}},\"type\":\"bar\"}],\"scattergeo\":[{\"type\":\"scattergeo\",\"marker\":{\"colorbar\":{\"outlinewidth\":0,\"ticks\":\"\"}}}],\"scatterpolar\":[{\"type\":\"scatterpolar\",\"marker\":{\"colorbar\":{\"outlinewidth\":0,\"ticks\":\"\"}}}],\"histogram\":[{\"marker\":{\"pattern\":{\"fillmode\":\"overlay\",\"size\":10,\"solidity\":0.2}},\"type\":\"histogram\"}],\"scattergl\":[{\"type\":\"scattergl\",\"marker\":{\"colorbar\":{\"outlinewidth\":0,\"ticks\":\"\"}}}],\"scatter3d\":[{\"type\":\"scatter3d\",\"line\":{\"colorbar\":{\"outlinewidth\":0,\"ticks\":\"\"}},\"marker\":{\"colorbar\":{\"outlinewidth\":0,\"ticks\":\"\"}}}],\"scattermapbox\":[{\"type\":\"scattermapbox\",\"marker\":{\"colorbar\":{\"outlinewidth\":0,\"ticks\":\"\"}}}],\"scatterternary\":[{\"type\":\"scatterternary\",\"marker\":{\"colorbar\":{\"outlinewidth\":0,\"ticks\":\"\"}}}],\"scattercarpet\":[{\"type\":\"scattercarpet\",\"marker\":{\"colorbar\":{\"outlinewidth\":0,\"ticks\":\"\"}}}],\"carpet\":[{\"aaxis\":{\"endlinecolor\":\"#2a3f5f\",\"gridcolor\":\"white\",\"linecolor\":\"white\",\"minorgridcolor\":\"white\",\"startlinecolor\":\"#2a3f5f\"},\"baxis\":{\"endlinecolor\":\"#2a3f5f\",\"gridcolor\":\"white\",\"linecolor\":\"white\",\"minorgridcolor\":\"white\",\"startlinecolor\":\"#2a3f5f\"},\"type\":\"carpet\"}],\"table\":[{\"cells\":{\"fill\":{\"color\":\"#EBF0F8\"},\"line\":{\"color\":\"white\"}},\"header\":{\"fill\":{\"color\":\"#C8D4E3\"},\"line\":{\"color\":\"white\"}},\"type\":\"table\"}],\"barpolar\":[{\"marker\":{\"line\":{\"color\":\"#E5ECF6\",\"width\":0.5},\"pattern\":{\"fillmode\":\"overlay\",\"size\":10,\"solidity\":0.2}},\"type\":\"barpolar\"}],\"pie\":[{\"automargin\":true,\"type\":\"pie\"}]},\"layout\":{\"autotypenumbers\":\"strict\",\"colorway\":[\"#636efa\",\"#EF553B\",\"#00cc96\",\"#ab63fa\",\"#FFA15A\",\"#19d3f3\",\"#FF6692\",\"#B6E880\",\"#FF97FF\",\"#FECB52\"],\"font\":{\"color\":\"#2a3f5f\"},\"hovermode\":\"closest\",\"hoverlabel\":{\"align\":\"left\"},\"paper_bgcolor\":\"white\",\"plot_bgcolor\":\"#E5ECF6\",\"polar\":{\"bgcolor\":\"#E5ECF6\",\"angularaxis\":{\"gridcolor\":\"white\",\"linecolor\":\"white\",\"ticks\":\"\"},\"radialaxis\":{\"gridcolor\":\"white\",\"linecolor\":\"white\",\"ticks\":\"\"}},\"ternary\":{\"bgcolor\":\"#E5ECF6\",\"aaxis\":{\"gridcolor\":\"white\",\"linecolor\":\"white\",\"ticks\":\"\"},\"baxis\":{\"gridcolor\":\"white\",\"linecolor\":\"white\",\"ticks\":\"\"},\"caxis\":{\"gridcolor\":\"white\",\"linecolor\":\"white\",\"ticks\":\"\"}},\"coloraxis\":{\"colorbar\":{\"outlinewidth\":0,\"ticks\":\"\"}},\"colorscale\":{\"sequential\":[[0.0,\"#0d0887\"],[0.1111111111111111,\"#46039f\"],[0.2222222222222222,\"#7201a8\"],[0.3333333333333333,\"#9c179e\"],[0.4444444444444444,\"#bd3786\"],[0.5555555555555556,\"#d8576b\"],[0.6666666666666666,\"#ed7953\"],[0.7777777777777778,\"#fb9f3a\"],[0.8888888888888888,\"#fdca26\"],[1.0,\"#f0f921\"]],\"sequentialminus\":[[0.0,\"#0d0887\"],[0.1111111111111111,\"#46039f\"],[0.2222222222222222,\"#7201a8\"],[0.3333333333333333,\"#9c179e\"],[0.4444444444444444,\"#bd3786\"],[0.5555555555555556,\"#d8576b\"],[0.6666666666666666,\"#ed7953\"],[0.7777777777777778,\"#fb9f3a\"],[0.8888888888888888,\"#fdca26\"],[1.0,\"#f0f921\"]],\"diverging\":[[0,\"#8e0152\"],[0.1,\"#c51b7d\"],[0.2,\"#de77ae\"],[0.3,\"#f1b6da\"],[0.4,\"#fde0ef\"],[0.5,\"#f7f7f7\"],[0.6,\"#e6f5d0\"],[0.7,\"#b8e186\"],[0.8,\"#7fbc41\"],[0.9,\"#4d9221\"],[1,\"#276419\"]]},\"xaxis\":{\"gridcolor\":\"white\",\"linecolor\":\"white\",\"ticks\":\"\",\"title\":{\"standoff\":15},\"zerolinecolor\":\"white\",\"automargin\":true,\"zerolinewidth\":2},\"yaxis\":{\"gridcolor\":\"white\",\"linecolor\":\"white\",\"ticks\":\"\",\"title\":{\"standoff\":15},\"zerolinecolor\":\"white\",\"automargin\":true,\"zerolinewidth\":2},\"scene\":{\"xaxis\":{\"backgroundcolor\":\"#E5ECF6\",\"gridcolor\":\"white\",\"linecolor\":\"white\",\"showbackground\":true,\"ticks\":\"\",\"zerolinecolor\":\"white\",\"gridwidth\":2},\"yaxis\":{\"backgroundcolor\":\"#E5ECF6\",\"gridcolor\":\"white\",\"linecolor\":\"white\",\"showbackground\":true,\"ticks\":\"\",\"zerolinecolor\":\"white\",\"gridwidth\":2},\"zaxis\":{\"backgroundcolor\":\"#E5ECF6\",\"gridcolor\":\"white\",\"linecolor\":\"white\",\"showbackground\":true,\"ticks\":\"\",\"zerolinecolor\":\"white\",\"gridwidth\":2}},\"shapedefaults\":{\"line\":{\"color\":\"#2a3f5f\"}},\"annotationdefaults\":{\"arrowcolor\":\"#2a3f5f\",\"arrowhead\":0,\"arrowwidth\":1},\"geo\":{\"bgcolor\":\"white\",\"landcolor\":\"#E5ECF6\",\"subunitcolor\":\"white\",\"showland\":true,\"showlakes\":true,\"lakecolor\":\"white\"},\"title\":{\"x\":0.05},\"mapbox\":{\"style\":\"light\"}}},\"xaxis\":{\"anchor\":\"y\",\"domain\":[0.0,1.0],\"title\":{\"text\":\"\\u0420\\u0435\\u0439\\u0442\\u0438\\u043d\\u0433\"}},\"yaxis\":{\"anchor\":\"x\",\"domain\":[0.0,1.0],\"title\":{\"text\":\"\\u0421\\u0443\\u043c\\u043c\\u0430\"}},\"legend\":{\"tracegroupgap\":0},\"title\":{\"text\":\"\\u0420\\u0430\\u0441\\u043f\\u0440\\u0435\\u0434\\u0435\\u043b\\u0435\\u043d\\u0438\\u0435 \\u0441\\u0443\\u043c\\u043c \\u0437\\u0430\\u0439\\u043c\\u043e\\u0432 \\u043f\\u043e \\u0440\\u0435\\u0439\\u0442\\u0438\\u043d\\u0433\\u0430\\u043c\"},\"barmode\":\"relative\"},                        {\"responsive\": true}                    ).then(function(){\n",
       "                            \n",
       "var gd = document.getElementById('589d3a59-239a-4955-8b56-9ce37b8684dd');\n",
       "var x = new MutationObserver(function (mutations, observer) {{\n",
       "        var display = window.getComputedStyle(gd).display;\n",
       "        if (!display || display === 'none') {{\n",
       "            console.log([gd, 'removed!']);\n",
       "            Plotly.purge(gd);\n",
       "            observer.disconnect();\n",
       "        }}\n",
       "}});\n",
       "\n",
       "// Listen for the removal of the full notebook cells\n",
       "var notebookContainer = gd.closest('#notebook-container');\n",
       "if (notebookContainer) {{\n",
       "    x.observe(notebookContainer, {childList: true});\n",
       "}}\n",
       "\n",
       "// Listen for the clearing of the current output cell\n",
       "var outputEl = gd.closest('.output');\n",
       "if (outputEl) {{\n",
       "    x.observe(outputEl, {childList: true});\n",
       "}}\n",
       "\n",
       "                        })                };                });            </script>        </div>"
      ]
     },
     "metadata": {},
     "output_type": "display_data"
    }
   ],
   "source": [
    "fig = px.bar(loan_rating_sum, x='loan_rating_int', y='amount', title='Распределение сумм займов по рейтингам')\n",
    "\n",
    "# Подпись осей\n",
    "fig.update_xaxes(title_text='Рейтинг')\n",
    "fig.update_yaxes(title_text='Сумма')\n",
    "\n",
    "fig.show()\n"
   ]
  },
  {
   "cell_type": "markdown",
   "id": "f3eed634-684b-4d5d-b751-b798d9238640",
   "metadata": {},
   "source": [
    "Рейтинг 16 заметно выделяется по сумме займов. Среди низких рейтингов стоит обратить внимание на рейтинг 7 и 9. Средние рейтинги 11 и 12, так же имеют большие суммы."
   ]
  },
  {
   "cell_type": "markdown",
   "id": "40a09076-e423-42c1-b4ad-88ab5d67433b",
   "metadata": {},
   "source": [
    "### 3.2 По группам рейтингов"
   ]
  },
  {
   "cell_type": "code",
   "execution_count": 24,
   "id": "312354c3-4f81-46b8-acf8-b0fda5905fe3",
   "metadata": {},
   "outputs": [
    {
     "data": {
      "text/plain": [
       "rating_group\n",
       "Высокий    1841\n",
       "Низкий     1389\n",
       "Средний    1360\n",
       "Name: id, dtype: int64"
      ]
     },
     "execution_count": 24,
     "metadata": {},
     "output_type": "execute_result"
    }
   ],
   "source": [
    "df.groupby('rating_group', observed=False)['id'].nunique().sort_values(ascending=False)"
   ]
  },
  {
   "cell_type": "markdown",
   "id": "90710a8d-a3f9-463c-a299-3d35adaabbbd",
   "metadata": {},
   "source": [
    "Разделение с 0 до 10, с 10 до 15 и с 16 до 18 разделило рейтинг на примерно равные группы."
   ]
  },
  {
   "cell_type": "code",
   "execution_count": 25,
   "id": "52751e55-93aa-4ae8-957c-d5af24ec7ff1",
   "metadata": {},
   "outputs": [
    {
     "data": {
      "text/html": [
       "<div>\n",
       "<style scoped>\n",
       "    .dataframe tbody tr th:only-of-type {\n",
       "        vertical-align: middle;\n",
       "    }\n",
       "\n",
       "    .dataframe tbody tr th {\n",
       "        vertical-align: top;\n",
       "    }\n",
       "\n",
       "    .dataframe thead th {\n",
       "        text-align: right;\n",
       "    }\n",
       "</style>\n",
       "<table border=\"1\" class=\"dataframe\">\n",
       "  <thead>\n",
       "    <tr style=\"text-align: right;\">\n",
       "      <th></th>\n",
       "      <th>rating_group</th>\n",
       "      <th>amount</th>\n",
       "    </tr>\n",
       "  </thead>\n",
       "  <tbody>\n",
       "    <tr>\n",
       "      <th>0</th>\n",
       "      <td>Низкий</td>\n",
       "      <td>4.737410e+09</td>\n",
       "    </tr>\n",
       "    <tr>\n",
       "      <th>1</th>\n",
       "      <td>Средний</td>\n",
       "      <td>3.659960e+09</td>\n",
       "    </tr>\n",
       "    <tr>\n",
       "      <th>2</th>\n",
       "      <td>Высокий</td>\n",
       "      <td>3.292224e+09</td>\n",
       "    </tr>\n",
       "  </tbody>\n",
       "</table>\n",
       "</div>"
      ],
      "text/plain": [
       "  rating_group        amount\n",
       "0       Низкий  4.737410e+09\n",
       "1      Средний  3.659960e+09\n",
       "2      Высокий  3.292224e+09"
      ]
     },
     "execution_count": 25,
     "metadata": {},
     "output_type": "execute_result"
    }
   ],
   "source": [
    "rating_group_sum = df.groupby('rating_group', observed=False)['amount'].sum().sort_values(ascending=False).reset_index()\n",
    "rating_group_sum"
   ]
  },
  {
   "cell_type": "markdown",
   "id": "4f053277-7100-4422-b7b0-dfca20327baa",
   "metadata": {},
   "source": [
    "У группы с низким рейтингом больше всего общая сумма платежа, меньше всего у высоких."
   ]
  },
  {
   "cell_type": "code",
   "execution_count": 40,
   "id": "12a38b0b-6089-4d8d-89ea-37594a5dae32",
   "metadata": {},
   "outputs": [
    {
     "data": {
      "application/vnd.plotly.v1+json": {
       "config": {
        "plotlyServerURL": "https://plot.ly"
       },
       "data": [
        {
         "alignmentgroup": "True",
         "hovertemplate": "rating_group=%{x}<br>amount=%{y}<extra></extra>",
         "legendgroup": "",
         "marker": {
          "color": "#636efa",
          "pattern": {
           "shape": ""
          }
         },
         "name": "",
         "offsetgroup": "",
         "orientation": "v",
         "showlegend": false,
         "text": [
          17640902.17,
          30366952.79,
          55898343.63,
          82369877.15,
          104734793.15,
          148297898.15,
          172175623.19,
          204900215.29,
          222892205.49,
          237507410.09,
          258514816.29,
          264813658.29
         ],
         "textposition": "outside",
         "type": "bar",
         "x": [
          "Низкий",
          "Средний",
          "Высокий"
         ],
         "xaxis": "x",
         "y": [
          4737410286.71,
          3659959730.96,
          3292223718.973
         ],
         "yaxis": "y"
        }
       ],
       "layout": {
        "autosize": true,
        "barmode": "relative",
        "legend": {
         "tracegroupgap": 0
        },
        "template": {
         "data": {
          "bar": [
           {
            "error_x": {
             "color": "#2a3f5f"
            },
            "error_y": {
             "color": "#2a3f5f"
            },
            "marker": {
             "line": {
              "color": "#E5ECF6",
              "width": 0.5
             },
             "pattern": {
              "fillmode": "overlay",
              "size": 10,
              "solidity": 0.2
             }
            },
            "type": "bar"
           }
          ],
          "barpolar": [
           {
            "marker": {
             "line": {
              "color": "#E5ECF6",
              "width": 0.5
             },
             "pattern": {
              "fillmode": "overlay",
              "size": 10,
              "solidity": 0.2
             }
            },
            "type": "barpolar"
           }
          ],
          "carpet": [
           {
            "aaxis": {
             "endlinecolor": "#2a3f5f",
             "gridcolor": "white",
             "linecolor": "white",
             "minorgridcolor": "white",
             "startlinecolor": "#2a3f5f"
            },
            "baxis": {
             "endlinecolor": "#2a3f5f",
             "gridcolor": "white",
             "linecolor": "white",
             "minorgridcolor": "white",
             "startlinecolor": "#2a3f5f"
            },
            "type": "carpet"
           }
          ],
          "choropleth": [
           {
            "colorbar": {
             "outlinewidth": 0,
             "ticks": ""
            },
            "type": "choropleth"
           }
          ],
          "contour": [
           {
            "colorbar": {
             "outlinewidth": 0,
             "ticks": ""
            },
            "colorscale": [
             [
              0,
              "#0d0887"
             ],
             [
              0.1111111111111111,
              "#46039f"
             ],
             [
              0.2222222222222222,
              "#7201a8"
             ],
             [
              0.3333333333333333,
              "#9c179e"
             ],
             [
              0.4444444444444444,
              "#bd3786"
             ],
             [
              0.5555555555555556,
              "#d8576b"
             ],
             [
              0.6666666666666666,
              "#ed7953"
             ],
             [
              0.7777777777777778,
              "#fb9f3a"
             ],
             [
              0.8888888888888888,
              "#fdca26"
             ],
             [
              1,
              "#f0f921"
             ]
            ],
            "type": "contour"
           }
          ],
          "contourcarpet": [
           {
            "colorbar": {
             "outlinewidth": 0,
             "ticks": ""
            },
            "type": "contourcarpet"
           }
          ],
          "heatmap": [
           {
            "colorbar": {
             "outlinewidth": 0,
             "ticks": ""
            },
            "colorscale": [
             [
              0,
              "#0d0887"
             ],
             [
              0.1111111111111111,
              "#46039f"
             ],
             [
              0.2222222222222222,
              "#7201a8"
             ],
             [
              0.3333333333333333,
              "#9c179e"
             ],
             [
              0.4444444444444444,
              "#bd3786"
             ],
             [
              0.5555555555555556,
              "#d8576b"
             ],
             [
              0.6666666666666666,
              "#ed7953"
             ],
             [
              0.7777777777777778,
              "#fb9f3a"
             ],
             [
              0.8888888888888888,
              "#fdca26"
             ],
             [
              1,
              "#f0f921"
             ]
            ],
            "type": "heatmap"
           }
          ],
          "heatmapgl": [
           {
            "colorbar": {
             "outlinewidth": 0,
             "ticks": ""
            },
            "colorscale": [
             [
              0,
              "#0d0887"
             ],
             [
              0.1111111111111111,
              "#46039f"
             ],
             [
              0.2222222222222222,
              "#7201a8"
             ],
             [
              0.3333333333333333,
              "#9c179e"
             ],
             [
              0.4444444444444444,
              "#bd3786"
             ],
             [
              0.5555555555555556,
              "#d8576b"
             ],
             [
              0.6666666666666666,
              "#ed7953"
             ],
             [
              0.7777777777777778,
              "#fb9f3a"
             ],
             [
              0.8888888888888888,
              "#fdca26"
             ],
             [
              1,
              "#f0f921"
             ]
            ],
            "type": "heatmapgl"
           }
          ],
          "histogram": [
           {
            "marker": {
             "pattern": {
              "fillmode": "overlay",
              "size": 10,
              "solidity": 0.2
             }
            },
            "type": "histogram"
           }
          ],
          "histogram2d": [
           {
            "colorbar": {
             "outlinewidth": 0,
             "ticks": ""
            },
            "colorscale": [
             [
              0,
              "#0d0887"
             ],
             [
              0.1111111111111111,
              "#46039f"
             ],
             [
              0.2222222222222222,
              "#7201a8"
             ],
             [
              0.3333333333333333,
              "#9c179e"
             ],
             [
              0.4444444444444444,
              "#bd3786"
             ],
             [
              0.5555555555555556,
              "#d8576b"
             ],
             [
              0.6666666666666666,
              "#ed7953"
             ],
             [
              0.7777777777777778,
              "#fb9f3a"
             ],
             [
              0.8888888888888888,
              "#fdca26"
             ],
             [
              1,
              "#f0f921"
             ]
            ],
            "type": "histogram2d"
           }
          ],
          "histogram2dcontour": [
           {
            "colorbar": {
             "outlinewidth": 0,
             "ticks": ""
            },
            "colorscale": [
             [
              0,
              "#0d0887"
             ],
             [
              0.1111111111111111,
              "#46039f"
             ],
             [
              0.2222222222222222,
              "#7201a8"
             ],
             [
              0.3333333333333333,
              "#9c179e"
             ],
             [
              0.4444444444444444,
              "#bd3786"
             ],
             [
              0.5555555555555556,
              "#d8576b"
             ],
             [
              0.6666666666666666,
              "#ed7953"
             ],
             [
              0.7777777777777778,
              "#fb9f3a"
             ],
             [
              0.8888888888888888,
              "#fdca26"
             ],
             [
              1,
              "#f0f921"
             ]
            ],
            "type": "histogram2dcontour"
           }
          ],
          "mesh3d": [
           {
            "colorbar": {
             "outlinewidth": 0,
             "ticks": ""
            },
            "type": "mesh3d"
           }
          ],
          "parcoords": [
           {
            "line": {
             "colorbar": {
              "outlinewidth": 0,
              "ticks": ""
             }
            },
            "type": "parcoords"
           }
          ],
          "pie": [
           {
            "automargin": true,
            "type": "pie"
           }
          ],
          "scatter": [
           {
            "fillpattern": {
             "fillmode": "overlay",
             "size": 10,
             "solidity": 0.2
            },
            "type": "scatter"
           }
          ],
          "scatter3d": [
           {
            "line": {
             "colorbar": {
              "outlinewidth": 0,
              "ticks": ""
             }
            },
            "marker": {
             "colorbar": {
              "outlinewidth": 0,
              "ticks": ""
             }
            },
            "type": "scatter3d"
           }
          ],
          "scattercarpet": [
           {
            "marker": {
             "colorbar": {
              "outlinewidth": 0,
              "ticks": ""
             }
            },
            "type": "scattercarpet"
           }
          ],
          "scattergeo": [
           {
            "marker": {
             "colorbar": {
              "outlinewidth": 0,
              "ticks": ""
             }
            },
            "type": "scattergeo"
           }
          ],
          "scattergl": [
           {
            "marker": {
             "colorbar": {
              "outlinewidth": 0,
              "ticks": ""
             }
            },
            "type": "scattergl"
           }
          ],
          "scattermapbox": [
           {
            "marker": {
             "colorbar": {
              "outlinewidth": 0,
              "ticks": ""
             }
            },
            "type": "scattermapbox"
           }
          ],
          "scatterpolar": [
           {
            "marker": {
             "colorbar": {
              "outlinewidth": 0,
              "ticks": ""
             }
            },
            "type": "scatterpolar"
           }
          ],
          "scatterpolargl": [
           {
            "marker": {
             "colorbar": {
              "outlinewidth": 0,
              "ticks": ""
             }
            },
            "type": "scatterpolargl"
           }
          ],
          "scatterternary": [
           {
            "marker": {
             "colorbar": {
              "outlinewidth": 0,
              "ticks": ""
             }
            },
            "type": "scatterternary"
           }
          ],
          "surface": [
           {
            "colorbar": {
             "outlinewidth": 0,
             "ticks": ""
            },
            "colorscale": [
             [
              0,
              "#0d0887"
             ],
             [
              0.1111111111111111,
              "#46039f"
             ],
             [
              0.2222222222222222,
              "#7201a8"
             ],
             [
              0.3333333333333333,
              "#9c179e"
             ],
             [
              0.4444444444444444,
              "#bd3786"
             ],
             [
              0.5555555555555556,
              "#d8576b"
             ],
             [
              0.6666666666666666,
              "#ed7953"
             ],
             [
              0.7777777777777778,
              "#fb9f3a"
             ],
             [
              0.8888888888888888,
              "#fdca26"
             ],
             [
              1,
              "#f0f921"
             ]
            ],
            "type": "surface"
           }
          ],
          "table": [
           {
            "cells": {
             "fill": {
              "color": "#EBF0F8"
             },
             "line": {
              "color": "white"
             }
            },
            "header": {
             "fill": {
              "color": "#C8D4E3"
             },
             "line": {
              "color": "white"
             }
            },
            "type": "table"
           }
          ]
         },
         "layout": {
          "annotationdefaults": {
           "arrowcolor": "#2a3f5f",
           "arrowhead": 0,
           "arrowwidth": 1
          },
          "autotypenumbers": "strict",
          "coloraxis": {
           "colorbar": {
            "outlinewidth": 0,
            "ticks": ""
           }
          },
          "colorscale": {
           "diverging": [
            [
             0,
             "#8e0152"
            ],
            [
             0.1,
             "#c51b7d"
            ],
            [
             0.2,
             "#de77ae"
            ],
            [
             0.3,
             "#f1b6da"
            ],
            [
             0.4,
             "#fde0ef"
            ],
            [
             0.5,
             "#f7f7f7"
            ],
            [
             0.6,
             "#e6f5d0"
            ],
            [
             0.7,
             "#b8e186"
            ],
            [
             0.8,
             "#7fbc41"
            ],
            [
             0.9,
             "#4d9221"
            ],
            [
             1,
             "#276419"
            ]
           ],
           "sequential": [
            [
             0,
             "#0d0887"
            ],
            [
             0.1111111111111111,
             "#46039f"
            ],
            [
             0.2222222222222222,
             "#7201a8"
            ],
            [
             0.3333333333333333,
             "#9c179e"
            ],
            [
             0.4444444444444444,
             "#bd3786"
            ],
            [
             0.5555555555555556,
             "#d8576b"
            ],
            [
             0.6666666666666666,
             "#ed7953"
            ],
            [
             0.7777777777777778,
             "#fb9f3a"
            ],
            [
             0.8888888888888888,
             "#fdca26"
            ],
            [
             1,
             "#f0f921"
            ]
           ],
           "sequentialminus": [
            [
             0,
             "#0d0887"
            ],
            [
             0.1111111111111111,
             "#46039f"
            ],
            [
             0.2222222222222222,
             "#7201a8"
            ],
            [
             0.3333333333333333,
             "#9c179e"
            ],
            [
             0.4444444444444444,
             "#bd3786"
            ],
            [
             0.5555555555555556,
             "#d8576b"
            ],
            [
             0.6666666666666666,
             "#ed7953"
            ],
            [
             0.7777777777777778,
             "#fb9f3a"
            ],
            [
             0.8888888888888888,
             "#fdca26"
            ],
            [
             1,
             "#f0f921"
            ]
           ]
          },
          "colorway": [
           "#636efa",
           "#EF553B",
           "#00cc96",
           "#ab63fa",
           "#FFA15A",
           "#19d3f3",
           "#FF6692",
           "#B6E880",
           "#FF97FF",
           "#FECB52"
          ],
          "font": {
           "color": "#2a3f5f"
          },
          "geo": {
           "bgcolor": "white",
           "lakecolor": "white",
           "landcolor": "#E5ECF6",
           "showlakes": true,
           "showland": true,
           "subunitcolor": "white"
          },
          "hoverlabel": {
           "align": "left"
          },
          "hovermode": "closest",
          "mapbox": {
           "style": "light"
          },
          "paper_bgcolor": "white",
          "plot_bgcolor": "#E5ECF6",
          "polar": {
           "angularaxis": {
            "gridcolor": "white",
            "linecolor": "white",
            "ticks": ""
           },
           "bgcolor": "#E5ECF6",
           "radialaxis": {
            "gridcolor": "white",
            "linecolor": "white",
            "ticks": ""
           }
          },
          "scene": {
           "xaxis": {
            "backgroundcolor": "#E5ECF6",
            "gridcolor": "white",
            "gridwidth": 2,
            "linecolor": "white",
            "showbackground": true,
            "ticks": "",
            "zerolinecolor": "white"
           },
           "yaxis": {
            "backgroundcolor": "#E5ECF6",
            "gridcolor": "white",
            "gridwidth": 2,
            "linecolor": "white",
            "showbackground": true,
            "ticks": "",
            "zerolinecolor": "white"
           },
           "zaxis": {
            "backgroundcolor": "#E5ECF6",
            "gridcolor": "white",
            "gridwidth": 2,
            "linecolor": "white",
            "showbackground": true,
            "ticks": "",
            "zerolinecolor": "white"
           }
          },
          "shapedefaults": {
           "line": {
            "color": "#2a3f5f"
           }
          },
          "ternary": {
           "aaxis": {
            "gridcolor": "white",
            "linecolor": "white",
            "ticks": ""
           },
           "baxis": {
            "gridcolor": "white",
            "linecolor": "white",
            "ticks": ""
           },
           "bgcolor": "#E5ECF6",
           "caxis": {
            "gridcolor": "white",
            "linecolor": "white",
            "ticks": ""
           }
          },
          "title": {
           "x": 0.05
          },
          "xaxis": {
           "automargin": true,
           "gridcolor": "white",
           "linecolor": "white",
           "ticks": "",
           "title": {
            "standoff": 15
           },
           "zerolinecolor": "white",
           "zerolinewidth": 2
          },
          "yaxis": {
           "automargin": true,
           "gridcolor": "white",
           "linecolor": "white",
           "ticks": "",
           "title": {
            "standoff": 15
           },
           "zerolinecolor": "white",
           "zerolinewidth": 2
          }
         }
        },
        "title": {
         "text": "Распределение сумм займов по рейтингам"
        },
        "xaxis": {
         "anchor": "y",
         "autorange": true,
         "domain": [
          0,
          1
         ],
         "range": [
          -0.5,
          2.5
         ],
         "title": {
          "text": "Группа"
         },
         "type": "category"
        },
        "yaxis": {
         "anchor": "x",
         "autorange": true,
         "domain": [
          0,
          1
         ],
         "range": [
          0,
          4986747670.221053
         ],
         "title": {
          "text": "Сумма"
         },
         "type": "linear"
        }
       }
      },
      "image/png": "[encoded data removed]",
      "text/html": [
       "<div>                            <div id=\"b368de42-71e0-4740-b0a1-b8beab4ac994\" class=\"plotly-graph-div\" style=\"height:525px; width:100%;\"></div>            <script type=\"text/javascript\">                require([\"plotly\"], function(Plotly) {                    window.PLOTLYENV=window.PLOTLYENV || {};                                    if (document.getElementById(\"b368de42-71e0-4740-b0a1-b8beab4ac994\")) {                    Plotly.newPlot(                        \"b368de42-71e0-4740-b0a1-b8beab4ac994\",                        [{\"alignmentgroup\":\"True\",\"hovertemplate\":\"rating_group=%{x}<br>amount=%{y}<extra></extra>\",\"legendgroup\":\"\",\"marker\":{\"color\":\"#636efa\",\"pattern\":{\"shape\":\"\"}},\"name\":\"\",\"offsetgroup\":\"\",\"orientation\":\"v\",\"showlegend\":false,\"textposition\":\"outside\",\"x\":[\"\\u041d\\u0438\\u0437\\u043a\\u0438\\u0439\",\"\\u0421\\u0440\\u0435\\u0434\\u043d\\u0438\\u0439\",\"\\u0412\\u044b\\u0441\\u043e\\u043a\\u0438\\u0439\"],\"xaxis\":\"x\",\"y\":[4737410286.71,3659959730.96,3292223718.973],\"yaxis\":\"y\",\"type\":\"bar\",\"text\":[17640902.17,30366952.79,55898343.63,82369877.15,104734793.15,148297898.15,172175623.19,204900215.29,222892205.49,237507410.09,258514816.29,264813658.29]}],                        {\"template\":{\"data\":{\"histogram2dcontour\":[{\"type\":\"histogram2dcontour\",\"colorbar\":{\"outlinewidth\":0,\"ticks\":\"\"},\"colorscale\":[[0.0,\"#0d0887\"],[0.1111111111111111,\"#46039f\"],[0.2222222222222222,\"#7201a8\"],[0.3333333333333333,\"#9c179e\"],[0.4444444444444444,\"#bd3786\"],[0.5555555555555556,\"#d8576b\"],[0.6666666666666666,\"#ed7953\"],[0.7777777777777778,\"#fb9f3a\"],[0.8888888888888888,\"#fdca26\"],[1.0,\"#f0f921\"]]}],\"choropleth\":[{\"type\":\"choropleth\",\"colorbar\":{\"outlinewidth\":0,\"ticks\":\"\"}}],\"histogram2d\":[{\"type\":\"histogram2d\",\"colorbar\":{\"outlinewidth\":0,\"ticks\":\"\"},\"colorscale\":[[0.0,\"#0d0887\"],[0.1111111111111111,\"#46039f\"],[0.2222222222222222,\"#7201a8\"],[0.3333333333333333,\"#9c179e\"],[0.4444444444444444,\"#bd3786\"],[0.5555555555555556,\"#d8576b\"],[0.6666666666666666,\"#ed7953\"],[0.7777777777777778,\"#fb9f3a\"],[0.8888888888888888,\"#fdca26\"],[1.0,\"#f0f921\"]]}],\"heatmap\":[{\"type\":\"heatmap\",\"colorbar\":{\"outlinewidth\":0,\"ticks\":\"\"},\"colorscale\":[[0.0,\"#0d0887\"],[0.1111111111111111,\"#46039f\"],[0.2222222222222222,\"#7201a8\"],[0.3333333333333333,\"#9c179e\"],[0.4444444444444444,\"#bd3786\"],[0.5555555555555556,\"#d8576b\"],[0.6666666666666666,\"#ed7953\"],[0.7777777777777778,\"#fb9f3a\"],[0.8888888888888888,\"#fdca26\"],[1.0,\"#f0f921\"]]}],\"heatmapgl\":[{\"type\":\"heatmapgl\",\"colorbar\":{\"outlinewidth\":0,\"ticks\":\"\"},\"colorscale\":[[0.0,\"#0d0887\"],[0.1111111111111111,\"#46039f\"],[0.2222222222222222,\"#7201a8\"],[0.3333333333333333,\"#9c179e\"],[0.4444444444444444,\"#bd3786\"],[0.5555555555555556,\"#d8576b\"],[0.6666666666666666,\"#ed7953\"],[0.7777777777777778,\"#fb9f3a\"],[0.8888888888888888,\"#fdca26\"],[1.0,\"#f0f921\"]]}],\"contourcarpet\":[{\"type\":\"contourcarpet\",\"colorbar\":{\"outlinewidth\":0,\"ticks\":\"\"}}],\"contour\":[{\"type\":\"contour\",\"colorbar\":{\"outlinewidth\":0,\"ticks\":\"\"},\"colorscale\":[[0.0,\"#0d0887\"],[0.1111111111111111,\"#46039f\"],[0.2222222222222222,\"#7201a8\"],[0.3333333333333333,\"#9c179e\"],[0.4444444444444444,\"#bd3786\"],[0.5555555555555556,\"#d8576b\"],[0.6666666666666666,\"#ed7953\"],[0.7777777777777778,\"#fb9f3a\"],[0.8888888888888888,\"#fdca26\"],[1.0,\"#f0f921\"]]}],\"surface\":[{\"type\":\"surface\",\"colorbar\":{\"outlinewidth\":0,\"ticks\":\"\"},\"colorscale\":[[0.0,\"#0d0887\"],[0.1111111111111111,\"#46039f\"],[0.2222222222222222,\"#7201a8\"],[0.3333333333333333,\"#9c179e\"],[0.4444444444444444,\"#bd3786\"],[0.5555555555555556,\"#d8576b\"],[0.6666666666666666,\"#ed7953\"],[0.7777777777777778,\"#fb9f3a\"],[0.8888888888888888,\"#fdca26\"],[1.0,\"#f0f921\"]]}],\"mesh3d\":[{\"type\":\"mesh3d\",\"colorbar\":{\"outlinewidth\":0,\"ticks\":\"\"}}],\"scatter\":[{\"fillpattern\":{\"fillmode\":\"overlay\",\"size\":10,\"solidity\":0.2},\"type\":\"scatter\"}],\"parcoords\":[{\"type\":\"parcoords\",\"line\":{\"colorbar\":{\"outlinewidth\":0,\"ticks\":\"\"}}}],\"scatterpolargl\":[{\"type\":\"scatterpolargl\",\"marker\":{\"colorbar\":{\"outlinewidth\":0,\"ticks\":\"\"}}}],\"bar\":[{\"error_x\":{\"color\":\"#2a3f5f\"},\"error_y\":{\"color\":\"#2a3f5f\"},\"marker\":{\"line\":{\"color\":\"#E5ECF6\",\"width\":0.5},\"pattern\":{\"fillmode\":\"overlay\",\"size\":10,\"solidity\":0.2}},\"type\":\"bar\"}],\"scattergeo\":[{\"type\":\"scattergeo\",\"marker\":{\"colorbar\":{\"outlinewidth\":0,\"ticks\":\"\"}}}],\"scatterpolar\":[{\"type\":\"scatterpolar\",\"marker\":{\"colorbar\":{\"outlinewidth\":0,\"ticks\":\"\"}}}],\"histogram\":[{\"marker\":{\"pattern\":{\"fillmode\":\"overlay\",\"size\":10,\"solidity\":0.2}},\"type\":\"histogram\"}],\"scattergl\":[{\"type\":\"scattergl\",\"marker\":{\"colorbar\":{\"outlinewidth\":0,\"ticks\":\"\"}}}],\"scatter3d\":[{\"type\":\"scatter3d\",\"line\":{\"colorbar\":{\"outlinewidth\":0,\"ticks\":\"\"}},\"marker\":{\"colorbar\":{\"outlinewidth\":0,\"ticks\":\"\"}}}],\"scattermapbox\":[{\"type\":\"scattermapbox\",\"marker\":{\"colorbar\":{\"outlinewidth\":0,\"ticks\":\"\"}}}],\"scatterternary\":[{\"type\":\"scatterternary\",\"marker\":{\"colorbar\":{\"outlinewidth\":0,\"ticks\":\"\"}}}],\"scattercarpet\":[{\"type\":\"scattercarpet\",\"marker\":{\"colorbar\":{\"outlinewidth\":0,\"ticks\":\"\"}}}],\"carpet\":[{\"aaxis\":{\"endlinecolor\":\"#2a3f5f\",\"gridcolor\":\"white\",\"linecolor\":\"white\",\"minorgridcolor\":\"white\",\"startlinecolor\":\"#2a3f5f\"},\"baxis\":{\"endlinecolor\":\"#2a3f5f\",\"gridcolor\":\"white\",\"linecolor\":\"white\",\"minorgridcolor\":\"white\",\"startlinecolor\":\"#2a3f5f\"},\"type\":\"carpet\"}],\"table\":[{\"cells\":{\"fill\":{\"color\":\"#EBF0F8\"},\"line\":{\"color\":\"white\"}},\"header\":{\"fill\":{\"color\":\"#C8D4E3\"},\"line\":{\"color\":\"white\"}},\"type\":\"table\"}],\"barpolar\":[{\"marker\":{\"line\":{\"color\":\"#E5ECF6\",\"width\":0.5},\"pattern\":{\"fillmode\":\"overlay\",\"size\":10,\"solidity\":0.2}},\"type\":\"barpolar\"}],\"pie\":[{\"automargin\":true,\"type\":\"pie\"}]},\"layout\":{\"autotypenumbers\":\"strict\",\"colorway\":[\"#636efa\",\"#EF553B\",\"#00cc96\",\"#ab63fa\",\"#FFA15A\",\"#19d3f3\",\"#FF6692\",\"#B6E880\",\"#FF97FF\",\"#FECB52\"],\"font\":{\"color\":\"#2a3f5f\"},\"hovermode\":\"closest\",\"hoverlabel\":{\"align\":\"left\"},\"paper_bgcolor\":\"white\",\"plot_bgcolor\":\"#E5ECF6\",\"polar\":{\"bgcolor\":\"#E5ECF6\",\"angularaxis\":{\"gridcolor\":\"white\",\"linecolor\":\"white\",\"ticks\":\"\"},\"radialaxis\":{\"gridcolor\":\"white\",\"linecolor\":\"white\",\"ticks\":\"\"}},\"ternary\":{\"bgcolor\":\"#E5ECF6\",\"aaxis\":{\"gridcolor\":\"white\",\"linecolor\":\"white\",\"ticks\":\"\"},\"baxis\":{\"gridcolor\":\"white\",\"linecolor\":\"white\",\"ticks\":\"\"},\"caxis\":{\"gridcolor\":\"white\",\"linecolor\":\"white\",\"ticks\":\"\"}},\"coloraxis\":{\"colorbar\":{\"outlinewidth\":0,\"ticks\":\"\"}},\"colorscale\":{\"sequential\":[[0.0,\"#0d0887\"],[0.1111111111111111,\"#46039f\"],[0.2222222222222222,\"#7201a8\"],[0.3333333333333333,\"#9c179e\"],[0.4444444444444444,\"#bd3786\"],[0.5555555555555556,\"#d8576b\"],[0.6666666666666666,\"#ed7953\"],[0.7777777777777778,\"#fb9f3a\"],[0.8888888888888888,\"#fdca26\"],[1.0,\"#f0f921\"]],\"sequentialminus\":[[0.0,\"#0d0887\"],[0.1111111111111111,\"#46039f\"],[0.2222222222222222,\"#7201a8\"],[0.3333333333333333,\"#9c179e\"],[0.4444444444444444,\"#bd3786\"],[0.5555555555555556,\"#d8576b\"],[0.6666666666666666,\"#ed7953\"],[0.7777777777777778,\"#fb9f3a\"],[0.8888888888888888,\"#fdca26\"],[1.0,\"#f0f921\"]],\"diverging\":[[0,\"#8e0152\"],[0.1,\"#c51b7d\"],[0.2,\"#de77ae\"],[0.3,\"#f1b6da\"],[0.4,\"#fde0ef\"],[0.5,\"#f7f7f7\"],[0.6,\"#e6f5d0\"],[0.7,\"#b8e186\"],[0.8,\"#7fbc41\"],[0.9,\"#4d9221\"],[1,\"#276419\"]]},\"xaxis\":{\"gridcolor\":\"white\",\"linecolor\":\"white\",\"ticks\":\"\",\"title\":{\"standoff\":15},\"zerolinecolor\":\"white\",\"automargin\":true,\"zerolinewidth\":2},\"yaxis\":{\"gridcolor\":\"white\",\"linecolor\":\"white\",\"ticks\":\"\",\"title\":{\"standoff\":15},\"zerolinecolor\":\"white\",\"automargin\":true,\"zerolinewidth\":2},\"scene\":{\"xaxis\":{\"backgroundcolor\":\"#E5ECF6\",\"gridcolor\":\"white\",\"linecolor\":\"white\",\"showbackground\":true,\"ticks\":\"\",\"zerolinecolor\":\"white\",\"gridwidth\":2},\"yaxis\":{\"backgroundcolor\":\"#E5ECF6\",\"gridcolor\":\"white\",\"linecolor\":\"white\",\"showbackground\":true,\"ticks\":\"\",\"zerolinecolor\":\"white\",\"gridwidth\":2},\"zaxis\":{\"backgroundcolor\":\"#E5ECF6\",\"gridcolor\":\"white\",\"linecolor\":\"white\",\"showbackground\":true,\"ticks\":\"\",\"zerolinecolor\":\"white\",\"gridwidth\":2}},\"shapedefaults\":{\"line\":{\"color\":\"#2a3f5f\"}},\"annotationdefaults\":{\"arrowcolor\":\"#2a3f5f\",\"arrowhead\":0,\"arrowwidth\":1},\"geo\":{\"bgcolor\":\"white\",\"landcolor\":\"#E5ECF6\",\"subunitcolor\":\"white\",\"showland\":true,\"showlakes\":true,\"lakecolor\":\"white\"},\"title\":{\"x\":0.05},\"mapbox\":{\"style\":\"light\"}}},\"xaxis\":{\"anchor\":\"y\",\"domain\":[0.0,1.0],\"title\":{\"text\":\"\\u0413\\u0440\\u0443\\u043f\\u043f\\u0430\"}},\"yaxis\":{\"anchor\":\"x\",\"domain\":[0.0,1.0],\"title\":{\"text\":\"\\u0421\\u0443\\u043c\\u043c\\u0430\"}},\"legend\":{\"tracegroupgap\":0},\"title\":{\"text\":\"\\u0420\\u0430\\u0441\\u043f\\u0440\\u0435\\u0434\\u0435\\u043b\\u0435\\u043d\\u0438\\u0435 \\u0441\\u0443\\u043c\\u043c \\u0437\\u0430\\u0439\\u043c\\u043e\\u0432 \\u043f\\u043e \\u0440\\u0435\\u0439\\u0442\\u0438\\u043d\\u0433\\u0430\\u043c\"},\"barmode\":\"relative\"},                        {\"responsive\": true}                    ).then(function(){\n",
       "                            \n",
       "var gd = document.getElementById('b368de42-71e0-4740-b0a1-b8beab4ac994');\n",
       "var x = new MutationObserver(function (mutations, observer) {{\n",
       "        var display = window.getComputedStyle(gd).display;\n",
       "        if (!display || display === 'none') {{\n",
       "            console.log([gd, 'removed!']);\n",
       "            Plotly.purge(gd);\n",
       "            observer.disconnect();\n",
       "        }}\n",
       "}});\n",
       "\n",
       "// Listen for the removal of the full notebook cells\n",
       "var notebookContainer = gd.closest('#notebook-container');\n",
       "if (notebookContainer) {{\n",
       "    x.observe(notebookContainer, {childList: true});\n",
       "}}\n",
       "\n",
       "// Listen for the clearing of the current output cell\n",
       "var outputEl = gd.closest('.output');\n",
       "if (outputEl) {{\n",
       "    x.observe(outputEl, {childList: true});\n",
       "}}\n",
       "\n",
       "                        })                };                });            </script>        </div>"
      ]
     },
     "metadata": {},
     "output_type": "display_data"
    }
   ],
   "source": [
    "fig = px.bar(rating_group_sum, x='rating_group', y='amount', title='Распределение сумм займов по рейтингам')\n",
    "\n",
    "# Подпись осей\n",
    "fig.update_xaxes(title_text='Группа')\n",
    "fig.update_yaxes(title_text='Сумма')\n",
    "\n",
    "# Вывод значений на график\n",
    "fig.update_traces(text=default_sum['amount'].round(2), textposition='outside')\n",
    "\n",
    "fig.show()"
   ]
  },
  {
   "cell_type": "markdown",
   "id": "d96b7c6b-a0ef-4328-8f91-197e892c0915",
   "metadata": {},
   "source": [
    "Можно предположить, что чем выше рейтинг, тем меньше общая сумма платежей."
   ]
  },
  {
   "cell_type": "markdown",
   "id": "c64a57bd-d607-4e76-998a-378f92f3f047",
   "metadata": {},
   "source": [
    "###  Промежуточный вывод"
   ]
  },
  {
   "cell_type": "markdown",
   "id": "eff26b60-995a-4b35-89ce-d7274e2c1409",
   "metadata": {},
   "source": [
    "1. Наблюдается явная тенденция: займы с высоким рейтингом (16, 17, 18) преобладают в общем числе займов, в то время как займы с низким рейтингом (1, 2, 4) составляют лишь небольшую часть.\n",
    "\n",
    "\n",
    "2. Заемщики с займами рейтинга 16 чаще всего выплачивают самые крупные суммы, за которыми следуют займы с рейтингами 11, 12 и 9.\n",
    "\n",
    "\n",
    "3. Рейтинг 16 выделяется как по количеству займов, так и по суммам, при этом также стоит обратить внимание на займы с рейтингами 7 и 9 среди низких рейтингов, а также на рейтинги 11 и 12 среди средних.\n",
    "\n",
    "\n",
    "4. Разделение займов на три примерно равные группы по рейтингу (0-10, 10-15, 16-18) подразумевает существенные различия между этими группами.\n",
    "\n",
    "\n",
    "5. Займы с низким рейтингом имеют наибольшую общую сумму платежей, в то время как у займов с высоким рейтингом эта сумма наименьшая.\n",
    "\n",
    "\n",
    "6. Предполагается обратная зависимость между рейтингом займа и общей суммой платежей, что может указывать на то, что займы с более высоким рейтингом склонны к более низким суммам платежей."
   ]
  },
  {
   "cell_type": "markdown",
   "id": "254bc2c4-f1ce-4c5a-a0d3-022a8a57b566",
   "metadata": {},
   "source": [
    "## 4. Отношение займов npl к общей выдаче "
   ]
  },
  {
   "cell_type": "code",
   "execution_count": 27,
   "id": "b8ad62e8-4049-4b92-bbf1-410c9e756bd1",
   "metadata": {},
   "outputs": [
    {
     "data": {
      "text/plain": [
       "array(['paid', 'next', 'unscheduled', 'overdue', 'potential default',\n",
       "       'defaulted'], dtype=object)"
      ]
     },
     "execution_count": 27,
     "metadata": {},
     "output_type": "execute_result"
    }
   ],
   "source": [
    "df['status'].unique()"
   ]
  },
  {
   "cell_type": "code",
   "execution_count": 28,
   "id": "016f142a-319b-43cc-a247-c998805558b6",
   "metadata": {},
   "outputs": [],
   "source": [
    "overdue_statuses = ['overdue', 'potential default', 'defaulted']\n",
    "\n",
    "df['new_status'] = df['status'].replace(overdue_statuses, 'overdue_statuses')"
   ]
  },
  {
   "cell_type": "markdown",
   "id": "0b05637b-25e5-4510-a634-ebca17306f67",
   "metadata": {},
   "source": [
    "Определим в одну группу статусы займов overdue, potential default и defaulted."
   ]
  },
  {
   "cell_type": "code",
   "execution_count": 29,
   "id": "23735553-b54e-49bf-a131-055ca5ee012a",
   "metadata": {},
   "outputs": [],
   "source": [
    "today = pd.Timestamp(dt.date.today())\n",
    "\n",
    "today_df = df[df['payment_date'] <= today]"
   ]
  },
  {
   "cell_type": "markdown",
   "id": "4c792a73-9436-48ba-a27f-41815e01e693",
   "metadata": {},
   "source": [
    "Делаем срез до текущего дня"
   ]
  },
  {
   "cell_type": "code",
   "execution_count": 30,
   "id": "d4edc6d0-fb14-4940-b5f6-051c869f0ba6",
   "metadata": {},
   "outputs": [],
   "source": [
    "npl = today_df.pivot_table(index='payment_date', \n",
    "                             values='amount', \n",
    "                             aggfunc='sum', \n",
    "                             columns=df['new_status'].eq('overdue_statuses'))\n",
    "\n",
    "npl.columns = ['total', 'overdue_statuses']\n",
    "\n",
    "\n",
    "npl['ratio'] = npl['total'] / npl['overdue_statuses']\n",
    "\n",
    "\n",
    "npl = npl.fillna(0).reset_index()"
   ]
  },
  {
   "cell_type": "code",
   "execution_count": 39,
   "id": "8974e9cc-6265-4d94-b190-16acf434ea5c",
   "metadata": {},
   "outputs": [
    {
     "name": "stderr",
     "output_type": "stream",
     "text": [
      "C:\\Users\\Matvey Wonder\\anaconda3\\Lib\\site-packages\\_plotly_utils\\basevalidators.py:106: FutureWarning:\n",
      "\n",
      "The behavior of DatetimeProperties.to_pydatetime is deprecated, in a future version this will return a Series containing python datetime objects instead of an ndarray. To retain the old behavior, call `np.array` on the result\n",
      "\n"
     ]
    },
    {
     "data": {
      "application/vnd.plotly.v1+json": {
       "config": {
        "plotlyServerURL": "https://plot.ly"
       },
       "data": [
        {
         "hovertemplate": "payment_date=%{x}<br>ratio=%{y}<extra></extra>",
         "legendgroup": "",
         "line": {
          "color": "#636efa",
          "dash": "solid"
         },
         "marker": {
          "symbol": "circle"
         },
         "mode": "lines",
         "name": "",
         "orientation": "v",
         "showlegend": false,
         "type": "scatter",
         "x": [
          "2023-02-01T03:00:00",
          "2023-02-02T03:00:00",
          "2023-02-03T03:00:00",
          "2023-02-04T03:00:00",
          "2023-02-05T03:00:00",
          "2023-02-07T03:00:00",
          "2023-02-08T03:00:00",
          "2023-02-09T03:00:00",
          "2023-02-10T03:00:00",
          "2023-02-11T03:00:00",
          "2023-02-12T03:00:00",
          "2023-02-13T03:00:00",
          "2023-02-14T03:00:00",
          "2023-02-15T03:00:00",
          "2023-02-16T03:00:00",
          "2023-02-17T03:00:00",
          "2023-02-18T03:00:00",
          "2023-02-19T03:00:00",
          "2023-02-20T03:00:00",
          "2023-02-22T03:00:00",
          "2023-02-23T03:00:00",
          "2023-02-24T03:00:00",
          "2023-02-25T03:00:00",
          "2023-02-26T03:00:00",
          "2023-02-27T03:00:00",
          "2023-02-28T03:00:00",
          "2023-03-01T03:00:00",
          "2023-03-02T03:00:00",
          "2023-03-03T03:00:00",
          "2023-03-04T03:00:00",
          "2023-03-05T03:00:00",
          "2023-03-06T03:00:00",
          "2023-03-07T03:00:00",
          "2023-03-08T03:00:00",
          "2023-03-09T03:00:00",
          "2023-03-10T03:00:00",
          "2023-03-11T03:00:00",
          "2023-03-12T03:00:00",
          "2023-03-13T03:00:00",
          "2023-03-14T03:00:00",
          "2023-03-15T03:00:00",
          "2023-03-16T03:00:00",
          "2023-03-17T03:00:00",
          "2023-03-18T03:00:00",
          "2023-03-19T03:00:00",
          "2023-03-20T03:00:00",
          "2023-03-21T03:00:00",
          "2023-03-22T03:00:00",
          "2023-03-23T03:00:00",
          "2023-03-24T03:00:00",
          "2023-03-25T03:00:00",
          "2023-03-26T03:00:00",
          "2023-03-27T03:00:00",
          "2023-03-28T03:00:00",
          "2023-03-29T03:00:00",
          "2023-03-30T03:00:00",
          "2023-03-31T03:00:00",
          "2023-04-01T03:00:00",
          "2023-04-02T03:00:00",
          "2023-04-03T03:00:00",
          "2023-04-04T03:00:00",
          "2023-04-05T03:00:00",
          "2023-04-06T03:00:00",
          "2023-04-07T03:00:00",
          "2023-04-08T03:00:00",
          "2023-04-09T03:00:00",
          "2023-04-10T03:00:00",
          "2023-04-11T03:00:00",
          "2023-04-12T03:00:00",
          "2023-04-13T03:00:00",
          "2023-04-14T03:00:00",
          "2023-04-15T03:00:00",
          "2023-04-16T03:00:00",
          "2023-04-17T03:00:00",
          "2023-04-18T03:00:00",
          "2023-04-19T03:00:00",
          "2023-04-20T03:00:00",
          "2023-04-21T03:00:00",
          "2023-04-22T03:00:00",
          "2023-04-23T03:00:00",
          "2023-04-24T03:00:00",
          "2023-04-25T03:00:00",
          "2023-04-26T03:00:00",
          "2023-04-27T03:00:00",
          "2023-04-28T03:00:00",
          "2023-04-29T03:00:00",
          "2023-04-30T03:00:00",
          "2023-05-01T03:00:00",
          "2023-05-02T03:00:00",
          "2023-05-03T03:00:00",
          "2023-05-04T03:00:00",
          "2023-05-05T03:00:00",
          "2023-05-06T03:00:00",
          "2023-05-07T03:00:00",
          "2023-05-08T03:00:00",
          "2023-05-09T03:00:00",
          "2023-05-10T03:00:00",
          "2023-05-11T03:00:00",
          "2023-05-12T03:00:00",
          "2023-05-13T03:00:00",
          "2023-05-14T03:00:00",
          "2023-05-15T03:00:00",
          "2023-05-16T03:00:00",
          "2023-05-17T03:00:00",
          "2023-05-18T03:00:00",
          "2023-05-19T03:00:00",
          "2023-05-20T03:00:00",
          "2023-05-21T03:00:00",
          "2023-05-22T03:00:00",
          "2023-05-23T03:00:00",
          "2023-05-24T03:00:00",
          "2023-05-25T03:00:00",
          "2023-05-26T03:00:00",
          "2023-05-27T03:00:00",
          "2023-05-28T03:00:00",
          "2023-05-29T03:00:00",
          "2023-05-30T03:00:00",
          "2023-05-31T03:00:00",
          "2023-06-01T03:00:00",
          "2023-06-02T03:00:00",
          "2023-06-03T03:00:00",
          "2023-06-04T03:00:00",
          "2023-06-05T03:00:00",
          "2023-06-06T03:00:00",
          "2023-06-07T03:00:00",
          "2023-06-08T03:00:00",
          "2023-06-09T03:00:00",
          "2023-06-10T03:00:00",
          "2023-06-11T03:00:00",
          "2023-06-12T03:00:00",
          "2023-06-13T03:00:00",
          "2023-06-14T03:00:00",
          "2023-06-15T03:00:00",
          "2023-06-16T03:00:00",
          "2023-06-17T03:00:00",
          "2023-06-18T03:00:00",
          "2023-06-19T03:00:00",
          "2023-06-20T03:00:00",
          "2023-06-21T03:00:00",
          "2023-06-22T03:00:00",
          "2023-06-23T03:00:00",
          "2023-06-24T03:00:00",
          "2023-06-25T03:00:00",
          "2023-06-26T03:00:00",
          "2023-06-27T03:00:00",
          "2023-06-28T03:00:00",
          "2023-06-29T03:00:00",
          "2023-06-30T03:00:00",
          "2023-07-01T03:00:00",
          "2023-07-02T03:00:00",
          "2023-07-03T03:00:00",
          "2023-07-04T03:00:00",
          "2023-07-05T03:00:00",
          "2023-07-06T03:00:00",
          "2023-07-07T03:00:00",
          "2023-07-08T03:00:00",
          "2023-07-09T03:00:00",
          "2023-07-10T03:00:00",
          "2023-07-11T03:00:00",
          "2023-07-12T03:00:00",
          "2023-07-13T03:00:00",
          "2023-07-14T03:00:00",
          "2023-07-15T03:00:00",
          "2023-07-16T03:00:00",
          "2023-07-17T03:00:00",
          "2023-07-18T03:00:00",
          "2023-07-19T03:00:00",
          "2023-07-20T03:00:00",
          "2023-07-21T03:00:00",
          "2023-07-22T03:00:00",
          "2023-07-23T03:00:00",
          "2023-07-24T03:00:00",
          "2023-07-25T03:00:00",
          "2023-07-26T03:00:00",
          "2023-07-27T03:00:00",
          "2023-07-28T03:00:00",
          "2023-07-29T03:00:00",
          "2023-07-30T03:00:00",
          "2023-07-31T03:00:00",
          "2023-08-01T03:00:00",
          "2023-08-02T03:00:00",
          "2023-08-03T03:00:00",
          "2023-08-04T03:00:00",
          "2023-08-05T03:00:00",
          "2023-08-06T03:00:00",
          "2023-08-07T03:00:00",
          "2023-08-08T03:00:00",
          "2023-08-09T03:00:00",
          "2023-08-10T03:00:00",
          "2023-08-11T03:00:00",
          "2023-08-12T03:00:00",
          "2023-08-13T03:00:00",
          "2023-08-14T03:00:00",
          "2023-08-15T03:00:00",
          "2023-08-16T03:00:00",
          "2023-08-17T03:00:00",
          "2023-08-18T03:00:00",
          "2023-08-19T03:00:00",
          "2023-08-20T03:00:00",
          "2023-08-21T03:00:00",
          "2023-08-22T03:00:00",
          "2023-08-23T03:00:00",
          "2023-08-24T03:00:00",
          "2023-08-25T03:00:00",
          "2023-08-26T03:00:00",
          "2023-08-27T03:00:00",
          "2023-08-28T03:00:00",
          "2023-08-29T03:00:00",
          "2023-08-30T03:00:00",
          "2023-08-31T03:00:00",
          "2023-09-01T03:00:00",
          "2023-09-02T03:00:00",
          "2023-09-03T03:00:00",
          "2023-09-04T03:00:00",
          "2023-09-05T03:00:00",
          "2023-09-06T03:00:00",
          "2023-09-07T03:00:00",
          "2023-09-08T03:00:00",
          "2023-09-09T03:00:00",
          "2023-09-10T03:00:00",
          "2023-09-11T03:00:00",
          "2023-09-12T03:00:00",
          "2023-09-13T03:00:00",
          "2023-09-14T03:00:00",
          "2023-09-15T03:00:00",
          "2023-09-16T03:00:00",
          "2023-09-17T03:00:00",
          "2023-09-18T03:00:00",
          "2023-09-19T03:00:00",
          "2023-09-20T03:00:00",
          "2023-09-21T03:00:00",
          "2023-09-22T03:00:00",
          "2023-09-23T03:00:00",
          "2023-09-24T03:00:00",
          "2023-09-25T03:00:00",
          "2023-09-26T03:00:00",
          "2023-09-27T03:00:00",
          "2023-09-28T03:00:00",
          "2023-09-29T03:00:00",
          "2023-09-30T03:00:00",
          "2023-10-01T03:00:00",
          "2023-10-02T03:00:00",
          "2023-10-03T03:00:00",
          "2023-10-04T03:00:00",
          "2023-10-05T03:00:00",
          "2023-10-06T03:00:00",
          "2023-10-07T03:00:00",
          "2023-10-08T03:00:00",
          "2023-10-09T03:00:00",
          "2023-10-10T03:00:00",
          "2023-10-11T03:00:00",
          "2023-10-12T03:00:00",
          "2023-10-13T03:00:00",
          "2023-10-14T03:00:00",
          "2023-10-15T03:00:00",
          "2023-10-16T03:00:00",
          "2023-10-17T03:00:00",
          "2023-10-18T03:00:00",
          "2023-10-19T03:00:00",
          "2023-10-20T03:00:00",
          "2023-10-21T03:00:00",
          "2023-10-22T03:00:00",
          "2023-10-23T03:00:00",
          "2023-10-24T03:00:00",
          "2023-10-25T03:00:00",
          "2023-10-26T03:00:00",
          "2023-10-27T03:00:00",
          "2023-10-28T03:00:00",
          "2023-10-29T03:00:00",
          "2023-10-30T03:00:00",
          "2023-10-31T03:00:00",
          "2023-11-01T03:00:00",
          "2023-11-02T03:00:00",
          "2023-11-03T03:00:00",
          "2023-11-04T03:00:00",
          "2023-11-05T03:00:00",
          "2023-11-06T03:00:00",
          "2023-11-07T03:00:00",
          "2023-11-08T03:00:00",
          "2023-11-09T03:00:00",
          "2023-11-10T03:00:00",
          "2023-11-11T03:00:00",
          "2023-11-12T03:00:00",
          "2023-11-13T03:00:00",
          "2023-11-14T03:00:00",
          "2023-11-15T03:00:00",
          "2023-11-16T03:00:00",
          "2023-11-17T03:00:00",
          "2023-11-18T03:00:00",
          "2023-11-19T03:00:00",
          "2023-11-20T03:00:00",
          "2023-11-21T03:00:00",
          "2023-11-22T03:00:00",
          "2023-11-23T03:00:00",
          "2023-11-24T03:00:00",
          "2023-11-25T03:00:00",
          "2023-11-26T03:00:00",
          "2023-11-27T03:00:00",
          "2023-11-28T03:00:00",
          "2023-11-29T03:00:00",
          "2023-11-30T03:00:00",
          "2023-12-01T03:00:00",
          "2023-12-02T03:00:00",
          "2023-12-03T03:00:00",
          "2023-12-04T03:00:00",
          "2023-12-05T03:00:00",
          "2023-12-06T03:00:00",
          "2023-12-07T03:00:00",
          "2023-12-08T03:00:00",
          "2023-12-09T03:00:00",
          "2023-12-10T03:00:00",
          "2023-12-11T03:00:00",
          "2023-12-12T03:00:00",
          "2023-12-13T03:00:00",
          "2023-12-14T03:00:00",
          "2023-12-15T03:00:00",
          "2023-12-16T03:00:00",
          "2023-12-17T03:00:00",
          "2023-12-18T03:00:00",
          "2023-12-19T03:00:00",
          "2023-12-20T03:00:00",
          "2023-12-21T03:00:00",
          "2023-12-22T03:00:00",
          "2023-12-23T03:00:00",
          "2023-12-24T03:00:00",
          "2023-12-25T03:00:00",
          "2023-12-26T03:00:00",
          "2023-12-27T03:00:00",
          "2023-12-28T03:00:00",
          "2023-12-29T03:00:00",
          "2023-12-30T03:00:00",
          "2023-12-31T03:00:00",
          "2024-01-01T03:00:00",
          "2024-01-02T03:00:00",
          "2024-01-03T03:00:00",
          "2024-01-04T03:00:00",
          "2024-01-05T03:00:00",
          "2024-01-06T03:00:00",
          "2024-01-07T03:00:00",
          "2024-01-08T03:00:00",
          "2024-01-09T03:00:00",
          "2024-01-10T03:00:00",
          "2024-01-11T03:00:00",
          "2024-01-12T03:00:00",
          "2024-01-13T03:00:00",
          "2024-01-14T03:00:00",
          "2024-01-15T03:00:00",
          "2024-01-16T03:00:00",
          "2024-01-17T03:00:00",
          "2024-01-18T03:00:00",
          "2024-01-19T03:00:00",
          "2024-01-20T03:00:00",
          "2024-01-21T03:00:00",
          "2024-01-22T03:00:00",
          "2024-01-23T03:00:00",
          "2024-01-24T03:00:00",
          "2024-01-25T03:00:00",
          "2024-01-26T03:00:00",
          "2024-01-27T03:00:00",
          "2024-01-28T03:00:00",
          "2024-01-29T03:00:00",
          "2024-01-30T03:00:00",
          "2024-01-31T03:00:00",
          "2024-02-01T03:00:00",
          "2024-02-02T03:00:00",
          "2024-02-03T03:00:00",
          "2024-02-04T03:00:00",
          "2024-02-05T03:00:00",
          "2024-02-06T03:00:00",
          "2024-02-07T03:00:00",
          "2024-02-08T03:00:00",
          "2024-02-09T03:00:00",
          "2024-02-10T03:00:00",
          "2024-02-11T03:00:00",
          "2024-02-12T03:00:00",
          "2024-02-13T03:00:00",
          "2024-02-14T03:00:00",
          "2024-02-15T03:00:00",
          "2024-02-16T03:00:00",
          "2024-02-17T03:00:00",
          "2024-02-18T03:00:00",
          "2024-02-19T03:00:00",
          "2024-02-20T03:00:00",
          "2024-02-21T03:00:00",
          "2024-02-22T03:00:00",
          "2024-02-23T03:00:00",
          "2024-02-24T03:00:00",
          "2024-02-25T03:00:00",
          "2024-02-26T03:00:00",
          "2024-02-27T03:00:00",
          "2024-02-28T03:00:00",
          "2024-02-29T03:00:00",
          "2024-03-01T03:00:00",
          "2024-03-02T03:00:00",
          "2024-03-03T03:00:00",
          "2024-03-04T03:00:00",
          "2024-03-05T03:00:00",
          "2024-03-06T03:00:00",
          "2024-03-07T03:00:00",
          "2024-03-08T03:00:00",
          "2024-03-09T03:00:00",
          "2024-03-10T03:00:00",
          "2024-03-11T03:00:00",
          "2024-03-12T03:00:00",
          "2024-03-13T03:00:00",
          "2024-03-14T03:00:00",
          "2024-03-15T03:00:00",
          "2024-03-16T03:00:00",
          "2024-03-17T03:00:00",
          "2024-03-18T03:00:00",
          "2024-03-19T03:00:00",
          "2024-03-20T03:00:00",
          "2024-03-21T03:00:00",
          "2024-03-22T03:00:00",
          "2024-03-23T03:00:00",
          "2024-03-24T03:00:00",
          "2024-03-25T03:00:00",
          "2024-03-26T03:00:00",
          "2024-03-27T03:00:00",
          "2024-03-28T03:00:00",
          "2024-03-29T03:00:00",
          "2024-03-30T03:00:00",
          "2024-03-31T03:00:00",
          "2024-04-01T03:00:00",
          "2024-04-02T03:00:00",
          "2024-04-03T03:00:00",
          "2024-04-04T03:00:00",
          "2024-04-05T03:00:00",
          "2024-04-06T03:00:00",
          "2024-04-07T03:00:00",
          "2024-04-08T03:00:00",
          "2024-04-09T03:00:00",
          "2024-04-10T03:00:00",
          "2024-04-11T03:00:00",
          "2024-04-12T03:00:00",
          "2024-04-13T03:00:00",
          "2024-04-14T03:00:00",
          "2024-04-15T03:00:00",
          "2024-04-16T03:00:00",
          "2024-04-17T03:00:00",
          "2024-04-18T03:00:00"
         ],
         "xaxis": "x",
         "y": [
          0,
          0,
          0,
          0,
          0,
          0,
          0,
          0,
          0,
          0,
          0,
          0,
          0,
          0,
          0,
          0,
          0,
          0,
          0,
          0,
          0,
          0,
          0,
          0,
          0,
          0,
          0,
          0,
          0,
          0,
          0,
          0,
          0,
          0,
          0,
          0,
          0,
          0,
          0,
          0,
          0,
          0,
          0,
          0,
          0,
          0,
          0,
          0,
          0,
          0,
          0,
          0,
          0,
          0,
          0,
          4.192644345326425,
          0,
          0,
          0,
          0,
          0,
          0,
          0,
          0,
          0,
          0,
          30.18201472351936,
          0,
          0,
          0,
          0,
          0,
          0,
          0,
          0,
          0,
          0,
          0,
          0,
          0,
          0,
          0,
          0,
          0,
          0,
          0,
          21.986599810580636,
          0,
          0,
          22.805532086805282,
          0,
          70.14624280493642,
          0,
          0,
          0,
          0,
          45.611500373294724,
          0,
          0,
          0,
          0,
          0,
          0,
          0,
          0,
          0,
          0,
          0,
          0,
          0,
          0,
          0,
          0,
          0,
          76.02765389154607,
          0,
          29.779145963874377,
          0,
          0,
          75.98181779097803,
          19.02494298469286,
          0,
          69.40023938263178,
          0,
          0,
          0,
          21.468715623555067,
          51.78797216652801,
          0,
          0,
          0,
          0,
          0,
          0,
          0,
          0,
          0,
          0,
          747.2730751485875,
          0,
          0,
          0,
          0,
          0,
          0,
          64.55420324634605,
          0,
          69.1287218971065,
          0,
          30.365046609182006,
          30.006641517947497,
          0,
          141.48685976580572,
          0,
          0,
          0,
          41.612862845349284,
          46.81714713762423,
          0,
          0,
          0,
          0,
          84.84499448853616,
          0,
          0,
          0,
          0,
          49.767129982753985,
          218.75296772052226,
          0,
          0,
          0,
          14.080686834895882,
          112.1944729108305,
          167.24164541331174,
          82.9239981984041,
          0,
          99.84999416663615,
          0,
          0,
          51.418626094145985,
          60.456013498666685,
          0,
          220.30095850046354,
          0,
          0,
          29.24712691792733,
          19.287238661826397,
          40.504928763201896,
          0,
          0,
          0,
          0,
          24.63861742980188,
          0,
          0,
          38.39510587779232,
          0,
          20.266767890312433,
          431.10680906054625,
          0,
          0,
          55.872202718318384,
          36.11396685741234,
          120.44421231330834,
          77.75753699666215,
          128.38379852422202,
          139.74965478361796,
          3728.3380600505097,
          24.390736703929452,
          11.894610968296728,
          58.445204657304046,
          51.19658548518619,
          0,
          274.88672563138266,
          0,
          43.32567106830859,
          0,
          25.473072922909182,
          49.598308469884216,
          0,
          0,
          0,
          0,
          18.26112683860704,
          0,
          0,
          33.020169900037594,
          0,
          26.075082526906034,
          1744.5543599207535,
          0,
          0,
          26.393473427077137,
          43.58633854256407,
          139.05466771041807,
          40.385705560161085,
          152.73062791237433,
          23.131359048478412,
          91.10978398078441,
          0,
          75.9086045952576,
          58.63903183186456,
          0,
          336.5315583565189,
          0,
          45.27743805629971,
          0,
          35.05109480182482,
          46.667288829156156,
          90.47865513582809,
          83.84762993910212,
          0,
          0,
          24.334531944240005,
          0,
          0,
          26.491968611145396,
          0,
          17.67696921135626,
          1684.1502836051782,
          0,
          0,
          22.986124014530468,
          17.8146483972401,
          142.0304709859197,
          36.91320725141744,
          112.45851772320258,
          13.25807540851131,
          6794.117179798968,
          21.35505463188433,
          0,
          29.181965122540458,
          73.69639713808772,
          0,
          71.2310246204232,
          0,
          44.60137054296784,
          236.76540771352506,
          40.21716294001515,
          32.669171181477275,
          29.78791260408512,
          62.354771825667,
          0,
          0,
          21.979870641748455,
          0,
          0,
          55.157226302547386,
          196.50918594576075,
          15.982847392776044,
          2054.263386435802,
          0,
          42.97771649805888,
          34.01660592835601,
          12.63464954046484,
          164.05188098880052,
          44.37832364376628,
          88.55047193409149,
          13.744229884471977,
          53.78336617082091,
          0,
          22.65955789451592,
          84.39037409254304,
          0,
          47.35713475259354,
          0,
          60.08476121117476,
          68.89888619946746,
          15.958458373620136,
          30.54955557480705,
          32.12791954772672,
          34.861695266930646,
          0,
          553.1752108643504,
          21.23787875877694,
          0,
          181.79767814340062,
          61.25373946729032,
          124.62424389635933,
          18.78730815079371,
          157.10923253432364,
          0,
          29.27269069483249,
          46.10361757490796,
          11.980906128361246,
          220.38959278494258,
          18.421068058903572,
          41.547527729943106,
          15.891746305633086,
          87.46929682553895,
          15.776332649099427,
          1517.352815234174,
          8.217728970384696,
          42.091235780569086,
          20.859759756973375,
          34.15524870405917,
          60.235937870105786,
          109.95927107601185,
          39.30231977079206,
          19.263439064830575,
          30.36015410898334,
          24.95687225949528,
          27.93156261630156,
          82.27275408482275,
          45.996067061178465,
          35.09674080347915,
          0,
          189.1462163998792,
          52.50188303686316,
          96.12272323621636,
          23.76382321939513,
          98.5510755991925,
          132.63934275987117,
          15.952575273255379,
          43.510581182569666,
          13.668515702331236,
          38.036914639123,
          77.05134518129088,
          22.98809328864356,
          13.47114672708388,
          50.89103834888828,
          24.797641022760253,
          150.5145395134614,
          7.330140767286732,
          11.274510861758031,
          46.73005369762784,
          35.351888935509656,
          45.06734365258902,
          41.67697904965677,
          89.46732804718279,
          19.215860233777807,
          17.279488004544557,
          20.71029761362728,
          23.67211509511271,
          51.02898543463243,
          69.7139620571231,
          14.738736088684957,
          66.83919621329723,
          129.1189246861973,
          13.522617860935453,
          21.476561192583947,
          20.059480969918862,
          112.6982737478406,
          12.601932796788155,
          11.532038933823003,
          21.34631063025205,
          8.747110010117993,
          63.23098279662987,
          9.39134010489153,
          8.373684904233142,
          12.371273202656775,
          22.189858271525097,
          6.160247082187186,
          6.55684560277024,
          11.662680987175381,
          13.838187825192303,
          16.112302517587505,
          17.36753309243737,
          10.983033862873151,
          5.897170193670126,
          8.64086851971672,
          11.27588246270785,
          35.737001049214726,
          28.59586858872034,
          41.284026188542086,
          23.994617684739488,
          0,
          91.5307471501205,
          49.913204048482015,
          28.54084302124618,
          25.62596364217392,
          110.75922349406316,
          113.6707261411303,
          21.592441670764007,
          40.417665910205606,
          19.080202471872777,
          43.75954475122518,
          18.067361685562293,
          26.909117170197057,
          14.650496728429372,
          50.46147385802494,
          17.520457706510552,
          54.55046222629491,
          7.988409474955786,
          12.294947969652556,
          47.54418544381575,
          38.22973149104594,
          62.21081549097595,
          94.97510873878879,
          37.26756207460489,
          24.11552370242201,
          27.730807956847517,
          24.546261072210967,
          22.96982578533419,
          34.103037273325576,
          35.527076715990624,
          14.003104818010723,
          60.42756387285155,
          72.09053284953862,
          13.764934833524956
         ],
         "yaxis": "y"
        }
       ],
       "layout": {
        "autosize": true,
        "legend": {
         "tracegroupgap": 0
        },
        "template": {
         "data": {
          "bar": [
           {
            "error_x": {
             "color": "#2a3f5f"
            },
            "error_y": {
             "color": "#2a3f5f"
            },
            "marker": {
             "line": {
              "color": "#E5ECF6",
              "width": 0.5
             },
             "pattern": {
              "fillmode": "overlay",
              "size": 10,
              "solidity": 0.2
             }
            },
            "type": "bar"
           }
          ],
          "barpolar": [
           {
            "marker": {
             "line": {
              "color": "#E5ECF6",
              "width": 0.5
             },
             "pattern": {
              "fillmode": "overlay",
              "size": 10,
              "solidity": 0.2
             }
            },
            "type": "barpolar"
           }
          ],
          "carpet": [
           {
            "aaxis": {
             "endlinecolor": "#2a3f5f",
             "gridcolor": "white",
             "linecolor": "white",
             "minorgridcolor": "white",
             "startlinecolor": "#2a3f5f"
            },
            "baxis": {
             "endlinecolor": "#2a3f5f",
             "gridcolor": "white",
             "linecolor": "white",
             "minorgridcolor": "white",
             "startlinecolor": "#2a3f5f"
            },
            "type": "carpet"
           }
          ],
          "choropleth": [
           {
            "colorbar": {
             "outlinewidth": 0,
             "ticks": ""
            },
            "type": "choropleth"
           }
          ],
          "contour": [
           {
            "colorbar": {
             "outlinewidth": 0,
             "ticks": ""
            },
            "colorscale": [
             [
              0,
              "#0d0887"
             ],
             [
              0.1111111111111111,
              "#46039f"
             ],
             [
              0.2222222222222222,
              "#7201a8"
             ],
             [
              0.3333333333333333,
              "#9c179e"
             ],
             [
              0.4444444444444444,
              "#bd3786"
             ],
             [
              0.5555555555555556,
              "#d8576b"
             ],
             [
              0.6666666666666666,
              "#ed7953"
             ],
             [
              0.7777777777777778,
              "#fb9f3a"
             ],
             [
              0.8888888888888888,
              "#fdca26"
             ],
             [
              1,
              "#f0f921"
             ]
            ],
            "type": "contour"
           }
          ],
          "contourcarpet": [
           {
            "colorbar": {
             "outlinewidth": 0,
             "ticks": ""
            },
            "type": "contourcarpet"
           }
          ],
          "heatmap": [
           {
            "colorbar": {
             "outlinewidth": 0,
             "ticks": ""
            },
            "colorscale": [
             [
              0,
              "#0d0887"
             ],
             [
              0.1111111111111111,
              "#46039f"
             ],
             [
              0.2222222222222222,
              "#7201a8"
             ],
             [
              0.3333333333333333,
              "#9c179e"
             ],
             [
              0.4444444444444444,
              "#bd3786"
             ],
             [
              0.5555555555555556,
              "#d8576b"
             ],
             [
              0.6666666666666666,
              "#ed7953"
             ],
             [
              0.7777777777777778,
              "#fb9f3a"
             ],
             [
              0.8888888888888888,
              "#fdca26"
             ],
             [
              1,
              "#f0f921"
             ]
            ],
            "type": "heatmap"
           }
          ],
          "heatmapgl": [
           {
            "colorbar": {
             "outlinewidth": 0,
             "ticks": ""
            },
            "colorscale": [
             [
              0,
              "#0d0887"
             ],
             [
              0.1111111111111111,
              "#46039f"
             ],
             [
              0.2222222222222222,
              "#7201a8"
             ],
             [
              0.3333333333333333,
              "#9c179e"
             ],
             [
              0.4444444444444444,
              "#bd3786"
             ],
             [
              0.5555555555555556,
              "#d8576b"
             ],
             [
              0.6666666666666666,
              "#ed7953"
             ],
             [
              0.7777777777777778,
              "#fb9f3a"
             ],
             [
              0.8888888888888888,
              "#fdca26"
             ],
             [
              1,
              "#f0f921"
             ]
            ],
            "type": "heatmapgl"
           }
          ],
          "histogram": [
           {
            "marker": {
             "pattern": {
              "fillmode": "overlay",
              "size": 10,
              "solidity": 0.2
             }
            },
            "type": "histogram"
           }
          ],
          "histogram2d": [
           {
            "colorbar": {
             "outlinewidth": 0,
             "ticks": ""
            },
            "colorscale": [
             [
              0,
              "#0d0887"
             ],
             [
              0.1111111111111111,
              "#46039f"
             ],
             [
              0.2222222222222222,
              "#7201a8"
             ],
             [
              0.3333333333333333,
              "#9c179e"
             ],
             [
              0.4444444444444444,
              "#bd3786"
             ],
             [
              0.5555555555555556,
              "#d8576b"
             ],
             [
              0.6666666666666666,
              "#ed7953"
             ],
             [
              0.7777777777777778,
              "#fb9f3a"
             ],
             [
              0.8888888888888888,
              "#fdca26"
             ],
             [
              1,
              "#f0f921"
             ]
            ],
            "type": "histogram2d"
           }
          ],
          "histogram2dcontour": [
           {
            "colorbar": {
             "outlinewidth": 0,
             "ticks": ""
            },
            "colorscale": [
             [
              0,
              "#0d0887"
             ],
             [
              0.1111111111111111,
              "#46039f"
             ],
             [
              0.2222222222222222,
              "#7201a8"
             ],
             [
              0.3333333333333333,
              "#9c179e"
             ],
             [
              0.4444444444444444,
              "#bd3786"
             ],
             [
              0.5555555555555556,
              "#d8576b"
             ],
             [
              0.6666666666666666,
              "#ed7953"
             ],
             [
              0.7777777777777778,
              "#fb9f3a"
             ],
             [
              0.8888888888888888,
              "#fdca26"
             ],
             [
              1,
              "#f0f921"
             ]
            ],
            "type": "histogram2dcontour"
           }
          ],
          "mesh3d": [
           {
            "colorbar": {
             "outlinewidth": 0,
             "ticks": ""
            },
            "type": "mesh3d"
           }
          ],
          "parcoords": [
           {
            "line": {
             "colorbar": {
              "outlinewidth": 0,
              "ticks": ""
             }
            },
            "type": "parcoords"
           }
          ],
          "pie": [
           {
            "automargin": true,
            "type": "pie"
           }
          ],
          "scatter": [
           {
            "fillpattern": {
             "fillmode": "overlay",
             "size": 10,
             "solidity": 0.2
            },
            "type": "scatter"
           }
          ],
          "scatter3d": [
           {
            "line": {
             "colorbar": {
              "outlinewidth": 0,
              "ticks": ""
             }
            },
            "marker": {
             "colorbar": {
              "outlinewidth": 0,
              "ticks": ""
             }
            },
            "type": "scatter3d"
           }
          ],
          "scattercarpet": [
           {
            "marker": {
             "colorbar": {
              "outlinewidth": 0,
              "ticks": ""
             }
            },
            "type": "scattercarpet"
           }
          ],
          "scattergeo": [
           {
            "marker": {
             "colorbar": {
              "outlinewidth": 0,
              "ticks": ""
             }
            },
            "type": "scattergeo"
           }
          ],
          "scattergl": [
           {
            "marker": {
             "colorbar": {
              "outlinewidth": 0,
              "ticks": ""
             }
            },
            "type": "scattergl"
           }
          ],
          "scattermapbox": [
           {
            "marker": {
             "colorbar": {
              "outlinewidth": 0,
              "ticks": ""
             }
            },
            "type": "scattermapbox"
           }
          ],
          "scatterpolar": [
           {
            "marker": {
             "colorbar": {
              "outlinewidth": 0,
              "ticks": ""
             }
            },
            "type": "scatterpolar"
           }
          ],
          "scatterpolargl": [
           {
            "marker": {
             "colorbar": {
              "outlinewidth": 0,
              "ticks": ""
             }
            },
            "type": "scatterpolargl"
           }
          ],
          "scatterternary": [
           {
            "marker": {
             "colorbar": {
              "outlinewidth": 0,
              "ticks": ""
             }
            },
            "type": "scatterternary"
           }
          ],
          "surface": [
           {
            "colorbar": {
             "outlinewidth": 0,
             "ticks": ""
            },
            "colorscale": [
             [
              0,
              "#0d0887"
             ],
             [
              0.1111111111111111,
              "#46039f"
             ],
             [
              0.2222222222222222,
              "#7201a8"
             ],
             [
              0.3333333333333333,
              "#9c179e"
             ],
             [
              0.4444444444444444,
              "#bd3786"
             ],
             [
              0.5555555555555556,
              "#d8576b"
             ],
             [
              0.6666666666666666,
              "#ed7953"
             ],
             [
              0.7777777777777778,
              "#fb9f3a"
             ],
             [
              0.8888888888888888,
              "#fdca26"
             ],
             [
              1,
              "#f0f921"
             ]
            ],
            "type": "surface"
           }
          ],
          "table": [
           {
            "cells": {
             "fill": {
              "color": "#EBF0F8"
             },
             "line": {
              "color": "white"
             }
            },
            "header": {
             "fill": {
              "color": "#C8D4E3"
             },
             "line": {
              "color": "white"
             }
            },
            "type": "table"
           }
          ]
         },
         "layout": {
          "annotationdefaults": {
           "arrowcolor": "#2a3f5f",
           "arrowhead": 0,
           "arrowwidth": 1
          },
          "autotypenumbers": "strict",
          "coloraxis": {
           "colorbar": {
            "outlinewidth": 0,
            "ticks": ""
           }
          },
          "colorscale": {
           "diverging": [
            [
             0,
             "#8e0152"
            ],
            [
             0.1,
             "#c51b7d"
            ],
            [
             0.2,
             "#de77ae"
            ],
            [
             0.3,
             "#f1b6da"
            ],
            [
             0.4,
             "#fde0ef"
            ],
            [
             0.5,
             "#f7f7f7"
            ],
            [
             0.6,
             "#e6f5d0"
            ],
            [
             0.7,
             "#b8e186"
            ],
            [
             0.8,
             "#7fbc41"
            ],
            [
             0.9,
             "#4d9221"
            ],
            [
             1,
             "#276419"
            ]
           ],
           "sequential": [
            [
             0,
             "#0d0887"
            ],
            [
             0.1111111111111111,
             "#46039f"
            ],
            [
             0.2222222222222222,
             "#7201a8"
            ],
            [
             0.3333333333333333,
             "#9c179e"
            ],
            [
             0.4444444444444444,
             "#bd3786"
            ],
            [
             0.5555555555555556,
             "#d8576b"
            ],
            [
             0.6666666666666666,
             "#ed7953"
            ],
            [
             0.7777777777777778,
             "#fb9f3a"
            ],
            [
             0.8888888888888888,
             "#fdca26"
            ],
            [
             1,
             "#f0f921"
            ]
           ],
           "sequentialminus": [
            [
             0,
             "#0d0887"
            ],
            [
             0.1111111111111111,
             "#46039f"
            ],
            [
             0.2222222222222222,
             "#7201a8"
            ],
            [
             0.3333333333333333,
             "#9c179e"
            ],
            [
             0.4444444444444444,
             "#bd3786"
            ],
            [
             0.5555555555555556,
             "#d8576b"
            ],
            [
             0.6666666666666666,
             "#ed7953"
            ],
            [
             0.7777777777777778,
             "#fb9f3a"
            ],
            [
             0.8888888888888888,
             "#fdca26"
            ],
            [
             1,
             "#f0f921"
            ]
           ]
          },
          "colorway": [
           "#636efa",
           "#EF553B",
           "#00cc96",
           "#ab63fa",
           "#FFA15A",
           "#19d3f3",
           "#FF6692",
           "#B6E880",
           "#FF97FF",
           "#FECB52"
          ],
          "font": {
           "color": "#2a3f5f"
          },
          "geo": {
           "bgcolor": "white",
           "lakecolor": "white",
           "landcolor": "#E5ECF6",
           "showlakes": true,
           "showland": true,
           "subunitcolor": "white"
          },
          "hoverlabel": {
           "align": "left"
          },
          "hovermode": "closest",
          "mapbox": {
           "style": "light"
          },
          "paper_bgcolor": "white",
          "plot_bgcolor": "#E5ECF6",
          "polar": {
           "angularaxis": {
            "gridcolor": "white",
            "linecolor": "white",
            "ticks": ""
           },
           "bgcolor": "#E5ECF6",
           "radialaxis": {
            "gridcolor": "white",
            "linecolor": "white",
            "ticks": ""
           }
          },
          "scene": {
           "xaxis": {
            "backgroundcolor": "#E5ECF6",
            "gridcolor": "white",
            "gridwidth": 2,
            "linecolor": "white",
            "showbackground": true,
            "ticks": "",
            "zerolinecolor": "white"
           },
           "yaxis": {
            "backgroundcolor": "#E5ECF6",
            "gridcolor": "white",
            "gridwidth": 2,
            "linecolor": "white",
            "showbackground": true,
            "ticks": "",
            "zerolinecolor": "white"
           },
           "zaxis": {
            "backgroundcolor": "#E5ECF6",
            "gridcolor": "white",
            "gridwidth": 2,
            "linecolor": "white",
            "showbackground": true,
            "ticks": "",
            "zerolinecolor": "white"
           }
          },
          "shapedefaults": {
           "line": {
            "color": "#2a3f5f"
           }
          },
          "ternary": {
           "aaxis": {
            "gridcolor": "white",
            "linecolor": "white",
            "ticks": ""
           },
           "baxis": {
            "gridcolor": "white",
            "linecolor": "white",
            "ticks": ""
           },
           "bgcolor": "#E5ECF6",
           "caxis": {
            "gridcolor": "white",
            "linecolor": "white",
            "ticks": ""
           }
          },
          "title": {
           "x": 0.05
          },
          "xaxis": {
           "automargin": true,
           "gridcolor": "white",
           "linecolor": "white",
           "ticks": "",
           "title": {
            "standoff": 15
           },
           "zerolinecolor": "white",
           "zerolinewidth": 2
          },
          "yaxis": {
           "automargin": true,
           "gridcolor": "white",
           "linecolor": "white",
           "ticks": "",
           "title": {
            "standoff": 15
           },
           "zerolinecolor": "white",
           "zerolinewidth": 2
          }
         }
        },
        "title": {
         "text": "Изменение отношения NPL к общей сумме займов"
        },
        "xaxis": {
         "anchor": "y",
         "autorange": true,
         "domain": [
          0,
          1
         ],
         "range": [
          "2023-02-01 03:00",
          "2024-04-18 03:00"
         ],
         "title": {
          "text": "Месяц"
         },
         "type": "date"
        },
        "yaxis": {
         "anchor": "x",
         "autorange": true,
         "domain": [
          0,
          1
         ],
         "range": [
          -377.450954433276,
          7171.568134232244
         ],
         "title": {
          "text": "Сумма"
         },
         "type": "linear"
        }
       }
      },
      "image/png": "[encoded data removed]",
      "text/html": [
       "<div>                            <div id=\"bd964529-41ce-4cf7-8e20-0bab4226cfb3\" class=\"plotly-graph-div\" style=\"height:525px; width:100%;\"></div>            <script type=\"text/javascript\">                require([\"plotly\"], function(Plotly) {                    window.PLOTLYENV=window.PLOTLYENV || {};                                    if (document.getElementById(\"bd964529-41ce-4cf7-8e20-0bab4226cfb3\")) {                    Plotly.newPlot(                        \"bd964529-41ce-4cf7-8e20-0bab4226cfb3\",                        [{\"hovertemplate\":\"payment_date=%{x}<br>ratio=%{y}<extra></extra>\",\"legendgroup\":\"\",\"line\":{\"color\":\"#636efa\",\"dash\":\"solid\"},\"marker\":{\"symbol\":\"circle\"},\"mode\":\"lines\",\"name\":\"\",\"orientation\":\"v\",\"showlegend\":false,\"x\":[\"2023-02-01T03:00:00\",\"2023-02-02T03:00:00\",\"2023-02-03T03:00:00\",\"2023-02-04T03:00:00\",\"2023-02-05T03:00:00\",\"2023-02-07T03:00:00\",\"2023-02-08T03:00:00\",\"2023-02-09T03:00:00\",\"2023-02-10T03:00:00\",\"2023-02-11T03:00:00\",\"2023-02-12T03:00:00\",\"2023-02-13T03:00:00\",\"2023-02-14T03:00:00\",\"2023-02-15T03:00:00\",\"2023-02-16T03:00:00\",\"2023-02-17T03:00:00\",\"2023-02-18T03:00:00\",\"2023-02-19T03:00:00\",\"2023-02-20T03:00:00\",\"2023-02-22T03:00:00\",\"2023-02-23T03:00:00\",\"2023-02-24T03:00:00\",\"2023-02-25T03:00:00\",\"2023-02-26T03:00:00\",\"2023-02-27T03:00:00\",\"2023-02-28T03:00:00\",\"2023-03-01T03:00:00\",\"2023-03-02T03:00:00\",\"2023-03-03T03:00:00\",\"2023-03-04T03:00:00\",\"2023-03-05T03:00:00\",\"2023-03-06T03:00:00\",\"2023-03-07T03:00:00\",\"2023-03-08T03:00:00\",\"2023-03-09T03:00:00\",\"2023-03-10T03:00:00\",\"2023-03-11T03:00:00\",\"2023-03-12T03:00:00\",\"2023-03-13T03:00:00\",\"2023-03-14T03:00:00\",\"2023-03-15T03:00:00\",\"2023-03-16T03:00:00\",\"2023-03-17T03:00:00\",\"2023-03-18T03:00:00\",\"2023-03-19T03:00:00\",\"2023-03-20T03:00:00\",\"2023-03-21T03:00:00\",\"2023-03-22T03:00:00\",\"2023-03-23T03:00:00\",\"2023-03-24T03:00:00\",\"2023-03-25T03:00:00\",\"2023-03-26T03:00:00\",\"2023-03-27T03:00:00\",\"2023-03-28T03:00:00\",\"2023-03-29T03:00:00\",\"2023-03-30T03:00:00\",\"2023-03-31T03:00:00\",\"2023-04-01T03:00:00\",\"2023-04-02T03:00:00\",\"2023-04-03T03:00:00\",\"2023-04-04T03:00:00\",\"2023-04-05T03:00:00\",\"2023-04-06T03:00:00\",\"2023-04-07T03:00:00\",\"2023-04-08T03:00:00\",\"2023-04-09T03:00:00\",\"2023-04-10T03:00:00\",\"2023-04-11T03:00:00\",\"2023-04-12T03:00:00\",\"2023-04-13T03:00:00\",\"2023-04-14T03:00:00\",\"2023-04-15T03:00:00\",\"2023-04-16T03:00:00\",\"2023-04-17T03:00:00\",\"2023-04-18T03:00:00\",\"2023-04-19T03:00:00\",\"2023-04-20T03:00:00\",\"2023-04-21T03:00:00\",\"2023-04-22T03:00:00\",\"2023-04-23T03:00:00\",\"2023-04-24T03:00:00\",\"2023-04-25T03:00:00\",\"2023-04-26T03:00:00\",\"2023-04-27T03:00:00\",\"2023-04-28T03:00:00\",\"2023-04-29T03:00:00\",\"2023-04-30T03:00:00\",\"2023-05-01T03:00:00\",\"2023-05-02T03:00:00\",\"2023-05-03T03:00:00\",\"2023-05-04T03:00:00\",\"2023-05-05T03:00:00\",\"2023-05-06T03:00:00\",\"2023-05-07T03:00:00\",\"2023-05-08T03:00:00\",\"2023-05-09T03:00:00\",\"2023-05-10T03:00:00\",\"2023-05-11T03:00:00\",\"2023-05-12T03:00:00\",\"2023-05-13T03:00:00\",\"2023-05-14T03:00:00\",\"2023-05-15T03:00:00\",\"2023-05-16T03:00:00\",\"2023-05-17T03:00:00\",\"2023-05-18T03:00:00\",\"2023-05-19T03:00:00\",\"2023-05-20T03:00:00\",\"2023-05-21T03:00:00\",\"2023-05-22T03:00:00\",\"2023-05-23T03:00:00\",\"2023-05-24T03:00:00\",\"2023-05-25T03:00:00\",\"2023-05-26T03:00:00\",\"2023-05-27T03:00:00\",\"2023-05-28T03:00:00\",\"2023-05-29T03:00:00\",\"2023-05-30T03:00:00\",\"2023-05-31T03:00:00\",\"2023-06-01T03:00:00\",\"2023-06-02T03:00:00\",\"2023-06-03T03:00:00\",\"2023-06-04T03:00:00\",\"2023-06-05T03:00:00\",\"2023-06-06T03:00:00\",\"2023-06-07T03:00:00\",\"2023-06-08T03:00:00\",\"2023-06-09T03:00:00\",\"2023-06-10T03:00:00\",\"2023-06-11T03:00:00\",\"2023-06-12T03:00:00\",\"2023-06-13T03:00:00\",\"2023-06-14T03:00:00\",\"2023-06-15T03:00:00\",\"2023-06-16T03:00:00\",\"2023-06-17T03:00:00\",\"2023-06-18T03:00:00\",\"2023-06-19T03:00:00\",\"2023-06-20T03:00:00\",\"2023-06-21T03:00:00\",\"2023-06-22T03:00:00\",\"2023-06-23T03:00:00\",\"2023-06-24T03:00:00\",\"2023-06-25T03:00:00\",\"2023-06-26T03:00:00\",\"2023-06-27T03:00:00\",\"2023-06-28T03:00:00\",\"2023-06-29T03:00:00\",\"2023-06-30T03:00:00\",\"2023-07-01T03:00:00\",\"2023-07-02T03:00:00\",\"2023-07-03T03:00:00\",\"2023-07-04T03:00:00\",\"2023-07-05T03:00:00\",\"2023-07-06T03:00:00\",\"2023-07-07T03:00:00\",\"2023-07-08T03:00:00\",\"2023-07-09T03:00:00\",\"2023-07-10T03:00:00\",\"2023-07-11T03:00:00\",\"2023-07-12T03:00:00\",\"2023-07-13T03:00:00\",\"2023-07-14T03:00:00\",\"2023-07-15T03:00:00\",\"2023-07-16T03:00:00\",\"2023-07-17T03:00:00\",\"2023-07-18T03:00:00\",\"2023-07-19T03:00:00\",\"2023-07-20T03:00:00\",\"2023-07-21T03:00:00\",\"2023-07-22T03:00:00\",\"2023-07-23T03:00:00\",\"2023-07-24T03:00:00\",\"2023-07-25T03:00:00\",\"2023-07-26T03:00:00\",\"2023-07-27T03:00:00\",\"2023-07-28T03:00:00\",\"2023-07-29T03:00:00\",\"2023-07-30T03:00:00\",\"2023-07-31T03:00:00\",\"2023-08-01T03:00:00\",\"2023-08-02T03:00:00\",\"2023-08-03T03:00:00\",\"2023-08-04T03:00:00\",\"2023-08-05T03:00:00\",\"2023-08-06T03:00:00\",\"2023-08-07T03:00:00\",\"2023-08-08T03:00:00\",\"2023-08-09T03:00:00\",\"2023-08-10T03:00:00\",\"2023-08-11T03:00:00\",\"2023-08-12T03:00:00\",\"2023-08-13T03:00:00\",\"2023-08-14T03:00:00\",\"2023-08-15T03:00:00\",\"2023-08-16T03:00:00\",\"2023-08-17T03:00:00\",\"2023-08-18T03:00:00\",\"2023-08-19T03:00:00\",\"2023-08-20T03:00:00\",\"2023-08-21T03:00:00\",\"2023-08-22T03:00:00\",\"2023-08-23T03:00:00\",\"2023-08-24T03:00:00\",\"2023-08-25T03:00:00\",\"2023-08-26T03:00:00\",\"2023-08-27T03:00:00\",\"2023-08-28T03:00:00\",\"2023-08-29T03:00:00\",\"2023-08-30T03:00:00\",\"2023-08-31T03:00:00\",\"2023-09-01T03:00:00\",\"2023-09-02T03:00:00\",\"2023-09-03T03:00:00\",\"2023-09-04T03:00:00\",\"2023-09-05T03:00:00\",\"2023-09-06T03:00:00\",\"2023-09-07T03:00:00\",\"2023-09-08T03:00:00\",\"2023-09-09T03:00:00\",\"2023-09-10T03:00:00\",\"2023-09-11T03:00:00\",\"2023-09-12T03:00:00\",\"2023-09-13T03:00:00\",\"2023-09-14T03:00:00\",\"2023-09-15T03:00:00\",\"2023-09-16T03:00:00\",\"2023-09-17T03:00:00\",\"2023-09-18T03:00:00\",\"2023-09-19T03:00:00\",\"2023-09-20T03:00:00\",\"2023-09-21T03:00:00\",\"2023-09-22T03:00:00\",\"2023-09-23T03:00:00\",\"2023-09-24T03:00:00\",\"2023-09-25T03:00:00\",\"2023-09-26T03:00:00\",\"2023-09-27T03:00:00\",\"2023-09-28T03:00:00\",\"2023-09-29T03:00:00\",\"2023-09-30T03:00:00\",\"2023-10-01T03:00:00\",\"2023-10-02T03:00:00\",\"2023-10-03T03:00:00\",\"2023-10-04T03:00:00\",\"2023-10-05T03:00:00\",\"2023-10-06T03:00:00\",\"2023-10-07T03:00:00\",\"2023-10-08T03:00:00\",\"2023-10-09T03:00:00\",\"2023-10-10T03:00:00\",\"2023-10-11T03:00:00\",\"2023-10-12T03:00:00\",\"2023-10-13T03:00:00\",\"2023-10-14T03:00:00\",\"2023-10-15T03:00:00\",\"2023-10-16T03:00:00\",\"2023-10-17T03:00:00\",\"2023-10-18T03:00:00\",\"2023-10-19T03:00:00\",\"2023-10-20T03:00:00\",\"2023-10-21T03:00:00\",\"2023-10-22T03:00:00\",\"2023-10-23T03:00:00\",\"2023-10-24T03:00:00\",\"2023-10-25T03:00:00\",\"2023-10-26T03:00:00\",\"2023-10-27T03:00:00\",\"2023-10-28T03:00:00\",\"2023-10-29T03:00:00\",\"2023-10-30T03:00:00\",\"2023-10-31T03:00:00\",\"2023-11-01T03:00:00\",\"2023-11-02T03:00:00\",\"2023-11-03T03:00:00\",\"2023-11-04T03:00:00\",\"2023-11-05T03:00:00\",\"2023-11-06T03:00:00\",\"2023-11-07T03:00:00\",\"2023-11-08T03:00:00\",\"2023-11-09T03:00:00\",\"2023-11-10T03:00:00\",\"2023-11-11T03:00:00\",\"2023-11-12T03:00:00\",\"2023-11-13T03:00:00\",\"2023-11-14T03:00:00\",\"2023-11-15T03:00:00\",\"2023-11-16T03:00:00\",\"2023-11-17T03:00:00\",\"2023-11-18T03:00:00\",\"2023-11-19T03:00:00\",\"2023-11-20T03:00:00\",\"2023-11-21T03:00:00\",\"2023-11-22T03:00:00\",\"2023-11-23T03:00:00\",\"2023-11-24T03:00:00\",\"2023-11-25T03:00:00\",\"2023-11-26T03:00:00\",\"2023-11-27T03:00:00\",\"2023-11-28T03:00:00\",\"2023-11-29T03:00:00\",\"2023-11-30T03:00:00\",\"2023-12-01T03:00:00\",\"2023-12-02T03:00:00\",\"2023-12-03T03:00:00\",\"2023-12-04T03:00:00\",\"2023-12-05T03:00:00\",\"2023-12-06T03:00:00\",\"2023-12-07T03:00:00\",\"2023-12-08T03:00:00\",\"2023-12-09T03:00:00\",\"2023-12-10T03:00:00\",\"2023-12-11T03:00:00\",\"2023-12-12T03:00:00\",\"2023-12-13T03:00:00\",\"2023-12-14T03:00:00\",\"2023-12-15T03:00:00\",\"2023-12-16T03:00:00\",\"2023-12-17T03:00:00\",\"2023-12-18T03:00:00\",\"2023-12-19T03:00:00\",\"2023-12-20T03:00:00\",\"2023-12-21T03:00:00\",\"2023-12-22T03:00:00\",\"2023-12-23T03:00:00\",\"2023-12-24T03:00:00\",\"2023-12-25T03:00:00\",\"2023-12-26T03:00:00\",\"2023-12-27T03:00:00\",\"2023-12-28T03:00:00\",\"2023-12-29T03:00:00\",\"2023-12-30T03:00:00\",\"2023-12-31T03:00:00\",\"2024-01-01T03:00:00\",\"2024-01-02T03:00:00\",\"2024-01-03T03:00:00\",\"2024-01-04T03:00:00\",\"2024-01-05T03:00:00\",\"2024-01-06T03:00:00\",\"2024-01-07T03:00:00\",\"2024-01-08T03:00:00\",\"2024-01-09T03:00:00\",\"2024-01-10T03:00:00\",\"2024-01-11T03:00:00\",\"2024-01-12T03:00:00\",\"2024-01-13T03:00:00\",\"2024-01-14T03:00:00\",\"2024-01-15T03:00:00\",\"2024-01-16T03:00:00\",\"2024-01-17T03:00:00\",\"2024-01-18T03:00:00\",\"2024-01-19T03:00:00\",\"2024-01-20T03:00:00\",\"2024-01-21T03:00:00\",\"2024-01-22T03:00:00\",\"2024-01-23T03:00:00\",\"2024-01-24T03:00:00\",\"2024-01-25T03:00:00\",\"2024-01-26T03:00:00\",\"2024-01-27T03:00:00\",\"2024-01-28T03:00:00\",\"2024-01-29T03:00:00\",\"2024-01-30T03:00:00\",\"2024-01-31T03:00:00\",\"2024-02-01T03:00:00\",\"2024-02-02T03:00:00\",\"2024-02-03T03:00:00\",\"2024-02-04T03:00:00\",\"2024-02-05T03:00:00\",\"2024-02-06T03:00:00\",\"2024-02-07T03:00:00\",\"2024-02-08T03:00:00\",\"2024-02-09T03:00:00\",\"2024-02-10T03:00:00\",\"2024-02-11T03:00:00\",\"2024-02-12T03:00:00\",\"2024-02-13T03:00:00\",\"2024-02-14T03:00:00\",\"2024-02-15T03:00:00\",\"2024-02-16T03:00:00\",\"2024-02-17T03:00:00\",\"2024-02-18T03:00:00\",\"2024-02-19T03:00:00\",\"2024-02-20T03:00:00\",\"2024-02-21T03:00:00\",\"2024-02-22T03:00:00\",\"2024-02-23T03:00:00\",\"2024-02-24T03:00:00\",\"2024-02-25T03:00:00\",\"2024-02-26T03:00:00\",\"2024-02-27T03:00:00\",\"2024-02-28T03:00:00\",\"2024-02-29T03:00:00\",\"2024-03-01T03:00:00\",\"2024-03-02T03:00:00\",\"2024-03-03T03:00:00\",\"2024-03-04T03:00:00\",\"2024-03-05T03:00:00\",\"2024-03-06T03:00:00\",\"2024-03-07T03:00:00\",\"2024-03-08T03:00:00\",\"2024-03-09T03:00:00\",\"2024-03-10T03:00:00\",\"2024-03-11T03:00:00\",\"2024-03-12T03:00:00\",\"2024-03-13T03:00:00\",\"2024-03-14T03:00:00\",\"2024-03-15T03:00:00\",\"2024-03-16T03:00:00\",\"2024-03-17T03:00:00\",\"2024-03-18T03:00:00\",\"2024-03-19T03:00:00\",\"2024-03-20T03:00:00\",\"2024-03-21T03:00:00\",\"2024-03-22T03:00:00\",\"2024-03-23T03:00:00\",\"2024-03-24T03:00:00\",\"2024-03-25T03:00:00\",\"2024-03-26T03:00:00\",\"2024-03-27T03:00:00\",\"2024-03-28T03:00:00\",\"2024-03-29T03:00:00\",\"2024-03-30T03:00:00\",\"2024-03-31T03:00:00\",\"2024-04-01T03:00:00\",\"2024-04-02T03:00:00\",\"2024-04-03T03:00:00\",\"2024-04-04T03:00:00\",\"2024-04-05T03:00:00\",\"2024-04-06T03:00:00\",\"2024-04-07T03:00:00\",\"2024-04-08T03:00:00\",\"2024-04-09T03:00:00\",\"2024-04-10T03:00:00\",\"2024-04-11T03:00:00\",\"2024-04-12T03:00:00\",\"2024-04-13T03:00:00\",\"2024-04-14T03:00:00\",\"2024-04-15T03:00:00\",\"2024-04-16T03:00:00\",\"2024-04-17T03:00:00\",\"2024-04-18T03:00:00\"],\"xaxis\":\"x\",\"y\":[0.0,0.0,0.0,0.0,0.0,0.0,0.0,0.0,0.0,0.0,0.0,0.0,0.0,0.0,0.0,0.0,0.0,0.0,0.0,0.0,0.0,0.0,0.0,0.0,0.0,0.0,0.0,0.0,0.0,0.0,0.0,0.0,0.0,0.0,0.0,0.0,0.0,0.0,0.0,0.0,0.0,0.0,0.0,0.0,0.0,0.0,0.0,0.0,0.0,0.0,0.0,0.0,0.0,0.0,0.0,4.192644345326425,0.0,0.0,0.0,0.0,0.0,0.0,0.0,0.0,0.0,0.0,30.18201472351936,0.0,0.0,0.0,0.0,0.0,0.0,0.0,0.0,0.0,0.0,0.0,0.0,0.0,0.0,0.0,0.0,0.0,0.0,0.0,21.986599810580636,0.0,0.0,22.805532086805282,0.0,70.14624280493642,0.0,0.0,0.0,0.0,45.611500373294724,0.0,0.0,0.0,0.0,0.0,0.0,0.0,0.0,0.0,0.0,0.0,0.0,0.0,0.0,0.0,0.0,0.0,76.02765389154607,0.0,29.779145963874377,0.0,0.0,75.98181779097803,19.02494298469286,0.0,69.40023938263178,0.0,0.0,0.0,21.468715623555067,51.78797216652801,0.0,0.0,0.0,0.0,0.0,0.0,0.0,0.0,0.0,0.0,747.2730751485875,0.0,0.0,0.0,0.0,0.0,0.0,64.55420324634605,0.0,69.1287218971065,0.0,30.365046609182006,30.006641517947497,0.0,141.48685976580572,0.0,0.0,0.0,41.612862845349284,46.81714713762423,0.0,0.0,0.0,0.0,84.84499448853616,0.0,0.0,0.0,0.0,49.767129982753985,218.75296772052226,0.0,0.0,0.0,14.080686834895882,112.1944729108305,167.24164541331174,82.9239981984041,0.0,99.84999416663615,0.0,0.0,51.418626094145985,60.456013498666685,0.0,220.30095850046354,0.0,0.0,29.24712691792733,19.287238661826397,40.504928763201896,0.0,0.0,0.0,0.0,24.63861742980188,0.0,0.0,38.39510587779232,0.0,20.266767890312433,431.10680906054625,0.0,0.0,55.872202718318384,36.11396685741234,120.44421231330834,77.75753699666215,128.38379852422202,139.74965478361796,3728.3380600505097,24.390736703929452,11.894610968296728,58.445204657304046,51.19658548518619,0.0,274.88672563138266,0.0,43.32567106830859,0.0,25.473072922909182,49.598308469884216,0.0,0.0,0.0,0.0,18.26112683860704,0.0,0.0,33.020169900037594,0.0,26.075082526906034,1744.5543599207535,0.0,0.0,26.393473427077137,43.58633854256407,139.05466771041807,40.385705560161085,152.73062791237433,23.131359048478412,91.10978398078441,0.0,75.9086045952576,58.63903183186456,0.0,336.5315583565189,0.0,45.27743805629971,0.0,35.05109480182482,46.667288829156156,90.47865513582809,83.84762993910212,0.0,0.0,24.334531944240005,0.0,0.0,26.491968611145396,0.0,17.67696921135626,1684.1502836051782,0.0,0.0,22.986124014530468,17.8146483972401,142.0304709859197,36.91320725141744,112.45851772320258,13.25807540851131,6794.117179798968,21.35505463188433,0.0,29.181965122540458,73.69639713808772,0.0,71.2310246204232,0.0,44.60137054296784,236.76540771352506,40.21716294001515,32.669171181477275,29.78791260408512,62.354771825667,0.0,0.0,21.979870641748455,0.0,0.0,55.157226302547386,196.50918594576075,15.982847392776044,2054.263386435802,0.0,42.97771649805888,34.01660592835601,12.63464954046484,164.05188098880052,44.37832364376628,88.55047193409149,13.744229884471977,53.78336617082091,0.0,22.65955789451592,84.39037409254304,0.0,47.35713475259354,0.0,60.08476121117476,68.89888619946746,15.958458373620136,30.54955557480705,32.12791954772672,34.861695266930646,0.0,553.1752108643504,21.23787875877694,0.0,181.79767814340062,61.25373946729032,124.62424389635933,18.78730815079371,157.10923253432364,0.0,29.27269069483249,46.10361757490796,11.980906128361246,220.38959278494258,18.421068058903572,41.547527729943106,15.891746305633086,87.46929682553895,15.776332649099427,1517.352815234174,8.217728970384696,42.091235780569086,20.859759756973375,34.15524870405917,60.235937870105786,109.95927107601185,39.30231977079206,19.263439064830575,30.36015410898334,24.95687225949528,27.93156261630156,82.27275408482275,45.996067061178465,35.09674080347915,0.0,189.1462163998792,52.50188303686316,96.12272323621636,23.76382321939513,98.5510755991925,132.63934275987117,15.952575273255379,43.510581182569666,13.668515702331236,38.036914639123,77.05134518129088,22.98809328864356,13.47114672708388,50.89103834888828,24.797641022760253,150.5145395134614,7.330140767286732,11.274510861758031,46.73005369762784,35.351888935509656,45.06734365258902,41.67697904965677,89.46732804718279,19.215860233777807,17.279488004544557,20.71029761362728,23.67211509511271,51.02898543463243,69.7139620571231,14.738736088684957,66.83919621329723,129.1189246861973,13.522617860935453,21.476561192583947,20.059480969918862,112.6982737478406,12.601932796788155,11.532038933823003,21.34631063025205,8.747110010117993,63.23098279662987,9.39134010489153,8.373684904233142,12.371273202656775,22.189858271525097,6.160247082187186,6.55684560277024,11.662680987175381,13.838187825192303,16.112302517587505,17.36753309243737,10.983033862873151,5.897170193670126,8.64086851971672,11.27588246270785,35.737001049214726,28.59586858872034,41.284026188542086,23.994617684739488,0.0,91.5307471501205,49.913204048482015,28.54084302124618,25.62596364217392,110.75922349406316,113.6707261411303,21.592441670764007,40.417665910205606,19.080202471872777,43.75954475122518,18.067361685562293,26.909117170197057,14.650496728429372,50.46147385802494,17.520457706510552,54.55046222629491,7.988409474955786,12.294947969652556,47.54418544381575,38.22973149104594,62.21081549097595,94.97510873878879,37.26756207460489,24.11552370242201,27.730807956847517,24.546261072210967,22.96982578533419,34.103037273325576,35.527076715990624,14.003104818010723,60.42756387285155,72.09053284953862,13.764934833524956],\"yaxis\":\"y\",\"type\":\"scatter\"}],                        {\"template\":{\"data\":{\"histogram2dcontour\":[{\"type\":\"histogram2dcontour\",\"colorbar\":{\"outlinewidth\":0,\"ticks\":\"\"},\"colorscale\":[[0.0,\"#0d0887\"],[0.1111111111111111,\"#46039f\"],[0.2222222222222222,\"#7201a8\"],[0.3333333333333333,\"#9c179e\"],[0.4444444444444444,\"#bd3786\"],[0.5555555555555556,\"#d8576b\"],[0.6666666666666666,\"#ed7953\"],[0.7777777777777778,\"#fb9f3a\"],[0.8888888888888888,\"#fdca26\"],[1.0,\"#f0f921\"]]}],\"choropleth\":[{\"type\":\"choropleth\",\"colorbar\":{\"outlinewidth\":0,\"ticks\":\"\"}}],\"histogram2d\":[{\"type\":\"histogram2d\",\"colorbar\":{\"outlinewidth\":0,\"ticks\":\"\"},\"colorscale\":[[0.0,\"#0d0887\"],[0.1111111111111111,\"#46039f\"],[0.2222222222222222,\"#7201a8\"],[0.3333333333333333,\"#9c179e\"],[0.4444444444444444,\"#bd3786\"],[0.5555555555555556,\"#d8576b\"],[0.6666666666666666,\"#ed7953\"],[0.7777777777777778,\"#fb9f3a\"],[0.8888888888888888,\"#fdca26\"],[1.0,\"#f0f921\"]]}],\"heatmap\":[{\"type\":\"heatmap\",\"colorbar\":{\"outlinewidth\":0,\"ticks\":\"\"},\"colorscale\":[[0.0,\"#0d0887\"],[0.1111111111111111,\"#46039f\"],[0.2222222222222222,\"#7201a8\"],[0.3333333333333333,\"#9c179e\"],[0.4444444444444444,\"#bd3786\"],[0.5555555555555556,\"#d8576b\"],[0.6666666666666666,\"#ed7953\"],[0.7777777777777778,\"#fb9f3a\"],[0.8888888888888888,\"#fdca26\"],[1.0,\"#f0f921\"]]}],\"heatmapgl\":[{\"type\":\"heatmapgl\",\"colorbar\":{\"outlinewidth\":0,\"ticks\":\"\"},\"colorscale\":[[0.0,\"#0d0887\"],[0.1111111111111111,\"#46039f\"],[0.2222222222222222,\"#7201a8\"],[0.3333333333333333,\"#9c179e\"],[0.4444444444444444,\"#bd3786\"],[0.5555555555555556,\"#d8576b\"],[0.6666666666666666,\"#ed7953\"],[0.7777777777777778,\"#fb9f3a\"],[0.8888888888888888,\"#fdca26\"],[1.0,\"#f0f921\"]]}],\"contourcarpet\":[{\"type\":\"contourcarpet\",\"colorbar\":{\"outlinewidth\":0,\"ticks\":\"\"}}],\"contour\":[{\"type\":\"contour\",\"colorbar\":{\"outlinewidth\":0,\"ticks\":\"\"},\"colorscale\":[[0.0,\"#0d0887\"],[0.1111111111111111,\"#46039f\"],[0.2222222222222222,\"#7201a8\"],[0.3333333333333333,\"#9c179e\"],[0.4444444444444444,\"#bd3786\"],[0.5555555555555556,\"#d8576b\"],[0.6666666666666666,\"#ed7953\"],[0.7777777777777778,\"#fb9f3a\"],[0.8888888888888888,\"#fdca26\"],[1.0,\"#f0f921\"]]}],\"surface\":[{\"type\":\"surface\",\"colorbar\":{\"outlinewidth\":0,\"ticks\":\"\"},\"colorscale\":[[0.0,\"#0d0887\"],[0.1111111111111111,\"#46039f\"],[0.2222222222222222,\"#7201a8\"],[0.3333333333333333,\"#9c179e\"],[0.4444444444444444,\"#bd3786\"],[0.5555555555555556,\"#d8576b\"],[0.6666666666666666,\"#ed7953\"],[0.7777777777777778,\"#fb9f3a\"],[0.8888888888888888,\"#fdca26\"],[1.0,\"#f0f921\"]]}],\"mesh3d\":[{\"type\":\"mesh3d\",\"colorbar\":{\"outlinewidth\":0,\"ticks\":\"\"}}],\"scatter\":[{\"fillpattern\":{\"fillmode\":\"overlay\",\"size\":10,\"solidity\":0.2},\"type\":\"scatter\"}],\"parcoords\":[{\"type\":\"parcoords\",\"line\":{\"colorbar\":{\"outlinewidth\":0,\"ticks\":\"\"}}}],\"scatterpolargl\":[{\"type\":\"scatterpolargl\",\"marker\":{\"colorbar\":{\"outlinewidth\":0,\"ticks\":\"\"}}}],\"bar\":[{\"error_x\":{\"color\":\"#2a3f5f\"},\"error_y\":{\"color\":\"#2a3f5f\"},\"marker\":{\"line\":{\"color\":\"#E5ECF6\",\"width\":0.5},\"pattern\":{\"fillmode\":\"overlay\",\"size\":10,\"solidity\":0.2}},\"type\":\"bar\"}],\"scattergeo\":[{\"type\":\"scattergeo\",\"marker\":{\"colorbar\":{\"outlinewidth\":0,\"ticks\":\"\"}}}],\"scatterpolar\":[{\"type\":\"scatterpolar\",\"marker\":{\"colorbar\":{\"outlinewidth\":0,\"ticks\":\"\"}}}],\"histogram\":[{\"marker\":{\"pattern\":{\"fillmode\":\"overlay\",\"size\":10,\"solidity\":0.2}},\"type\":\"histogram\"}],\"scattergl\":[{\"type\":\"scattergl\",\"marker\":{\"colorbar\":{\"outlinewidth\":0,\"ticks\":\"\"}}}],\"scatter3d\":[{\"type\":\"scatter3d\",\"line\":{\"colorbar\":{\"outlinewidth\":0,\"ticks\":\"\"}},\"marker\":{\"colorbar\":{\"outlinewidth\":0,\"ticks\":\"\"}}}],\"scattermapbox\":[{\"type\":\"scattermapbox\",\"marker\":{\"colorbar\":{\"outlinewidth\":0,\"ticks\":\"\"}}}],\"scatterternary\":[{\"type\":\"scatterternary\",\"marker\":{\"colorbar\":{\"outlinewidth\":0,\"ticks\":\"\"}}}],\"scattercarpet\":[{\"type\":\"scattercarpet\",\"marker\":{\"colorbar\":{\"outlinewidth\":0,\"ticks\":\"\"}}}],\"carpet\":[{\"aaxis\":{\"endlinecolor\":\"#2a3f5f\",\"gridcolor\":\"white\",\"linecolor\":\"white\",\"minorgridcolor\":\"white\",\"startlinecolor\":\"#2a3f5f\"},\"baxis\":{\"endlinecolor\":\"#2a3f5f\",\"gridcolor\":\"white\",\"linecolor\":\"white\",\"minorgridcolor\":\"white\",\"startlinecolor\":\"#2a3f5f\"},\"type\":\"carpet\"}],\"table\":[{\"cells\":{\"fill\":{\"color\":\"#EBF0F8\"},\"line\":{\"color\":\"white\"}},\"header\":{\"fill\":{\"color\":\"#C8D4E3\"},\"line\":{\"color\":\"white\"}},\"type\":\"table\"}],\"barpolar\":[{\"marker\":{\"line\":{\"color\":\"#E5ECF6\",\"width\":0.5},\"pattern\":{\"fillmode\":\"overlay\",\"size\":10,\"solidity\":0.2}},\"type\":\"barpolar\"}],\"pie\":[{\"automargin\":true,\"type\":\"pie\"}]},\"layout\":{\"autotypenumbers\":\"strict\",\"colorway\":[\"#636efa\",\"#EF553B\",\"#00cc96\",\"#ab63fa\",\"#FFA15A\",\"#19d3f3\",\"#FF6692\",\"#B6E880\",\"#FF97FF\",\"#FECB52\"],\"font\":{\"color\":\"#2a3f5f\"},\"hovermode\":\"closest\",\"hoverlabel\":{\"align\":\"left\"},\"paper_bgcolor\":\"white\",\"plot_bgcolor\":\"#E5ECF6\",\"polar\":{\"bgcolor\":\"#E5ECF6\",\"angularaxis\":{\"gridcolor\":\"white\",\"linecolor\":\"white\",\"ticks\":\"\"},\"radialaxis\":{\"gridcolor\":\"white\",\"linecolor\":\"white\",\"ticks\":\"\"}},\"ternary\":{\"bgcolor\":\"#E5ECF6\",\"aaxis\":{\"gridcolor\":\"white\",\"linecolor\":\"white\",\"ticks\":\"\"},\"baxis\":{\"gridcolor\":\"white\",\"linecolor\":\"white\",\"ticks\":\"\"},\"caxis\":{\"gridcolor\":\"white\",\"linecolor\":\"white\",\"ticks\":\"\"}},\"coloraxis\":{\"colorbar\":{\"outlinewidth\":0,\"ticks\":\"\"}},\"colorscale\":{\"sequential\":[[0.0,\"#0d0887\"],[0.1111111111111111,\"#46039f\"],[0.2222222222222222,\"#7201a8\"],[0.3333333333333333,\"#9c179e\"],[0.4444444444444444,\"#bd3786\"],[0.5555555555555556,\"#d8576b\"],[0.6666666666666666,\"#ed7953\"],[0.7777777777777778,\"#fb9f3a\"],[0.8888888888888888,\"#fdca26\"],[1.0,\"#f0f921\"]],\"sequentialminus\":[[0.0,\"#0d0887\"],[0.1111111111111111,\"#46039f\"],[0.2222222222222222,\"#7201a8\"],[0.3333333333333333,\"#9c179e\"],[0.4444444444444444,\"#bd3786\"],[0.5555555555555556,\"#d8576b\"],[0.6666666666666666,\"#ed7953\"],[0.7777777777777778,\"#fb9f3a\"],[0.8888888888888888,\"#fdca26\"],[1.0,\"#f0f921\"]],\"diverging\":[[0,\"#8e0152\"],[0.1,\"#c51b7d\"],[0.2,\"#de77ae\"],[0.3,\"#f1b6da\"],[0.4,\"#fde0ef\"],[0.5,\"#f7f7f7\"],[0.6,\"#e6f5d0\"],[0.7,\"#b8e186\"],[0.8,\"#7fbc41\"],[0.9,\"#4d9221\"],[1,\"#276419\"]]},\"xaxis\":{\"gridcolor\":\"white\",\"linecolor\":\"white\",\"ticks\":\"\",\"title\":{\"standoff\":15},\"zerolinecolor\":\"white\",\"automargin\":true,\"zerolinewidth\":2},\"yaxis\":{\"gridcolor\":\"white\",\"linecolor\":\"white\",\"ticks\":\"\",\"title\":{\"standoff\":15},\"zerolinecolor\":\"white\",\"automargin\":true,\"zerolinewidth\":2},\"scene\":{\"xaxis\":{\"backgroundcolor\":\"#E5ECF6\",\"gridcolor\":\"white\",\"linecolor\":\"white\",\"showbackground\":true,\"ticks\":\"\",\"zerolinecolor\":\"white\",\"gridwidth\":2},\"yaxis\":{\"backgroundcolor\":\"#E5ECF6\",\"gridcolor\":\"white\",\"linecolor\":\"white\",\"showbackground\":true,\"ticks\":\"\",\"zerolinecolor\":\"white\",\"gridwidth\":2},\"zaxis\":{\"backgroundcolor\":\"#E5ECF6\",\"gridcolor\":\"white\",\"linecolor\":\"white\",\"showbackground\":true,\"ticks\":\"\",\"zerolinecolor\":\"white\",\"gridwidth\":2}},\"shapedefaults\":{\"line\":{\"color\":\"#2a3f5f\"}},\"annotationdefaults\":{\"arrowcolor\":\"#2a3f5f\",\"arrowhead\":0,\"arrowwidth\":1},\"geo\":{\"bgcolor\":\"white\",\"landcolor\":\"#E5ECF6\",\"subunitcolor\":\"white\",\"showland\":true,\"showlakes\":true,\"lakecolor\":\"white\"},\"title\":{\"x\":0.05},\"mapbox\":{\"style\":\"light\"}}},\"xaxis\":{\"anchor\":\"y\",\"domain\":[0.0,1.0],\"title\":{\"text\":\"\\u041c\\u0435\\u0441\\u044f\\u0446\"}},\"yaxis\":{\"anchor\":\"x\",\"domain\":[0.0,1.0],\"title\":{\"text\":\"\\u0421\\u0443\\u043c\\u043c\\u0430\"}},\"legend\":{\"tracegroupgap\":0},\"title\":{\"text\":\"\\u0418\\u0437\\u043c\\u0435\\u043d\\u0435\\u043d\\u0438\\u0435 \\u043e\\u0442\\u043d\\u043e\\u0448\\u0435\\u043d\\u0438\\u044f NPL \\u043a \\u043e\\u0431\\u0449\\u0435\\u0439 \\u0441\\u0443\\u043c\\u043c\\u0435 \\u0437\\u0430\\u0439\\u043c\\u043e\\u0432\"}},                        {\"responsive\": true}                    ).then(function(){\n",
       "                            \n",
       "var gd = document.getElementById('bd964529-41ce-4cf7-8e20-0bab4226cfb3');\n",
       "var x = new MutationObserver(function (mutations, observer) {{\n",
       "        var display = window.getComputedStyle(gd).display;\n",
       "        if (!display || display === 'none') {{\n",
       "            console.log([gd, 'removed!']);\n",
       "            Plotly.purge(gd);\n",
       "            observer.disconnect();\n",
       "        }}\n",
       "}});\n",
       "\n",
       "// Listen for the removal of the full notebook cells\n",
       "var notebookContainer = gd.closest('#notebook-container');\n",
       "if (notebookContainer) {{\n",
       "    x.observe(notebookContainer, {childList: true});\n",
       "}}\n",
       "\n",
       "// Listen for the clearing of the current output cell\n",
       "var outputEl = gd.closest('.output');\n",
       "if (outputEl) {{\n",
       "    x.observe(outputEl, {childList: true});\n",
       "}}\n",
       "\n",
       "                        })                };                });            </script>        </div>"
      ]
     },
     "metadata": {},
     "output_type": "display_data"
    }
   ],
   "source": [
    "fig = px.line(npl, x='payment_date', y='ratio', title='Изменение отношения NPL к общей сумме займов')\n",
    "\n",
    "# Подпись осей\n",
    "fig.update_xaxes(title_text='Месяц')\n",
    "fig.update_yaxes(title_text='Сумма')\n",
    "\n",
    "fig.show()\n"
   ]
  },
  {
   "cell_type": "markdown",
   "id": "08f9cd28-37ab-4f00-aba7-eb0d29f30f2e",
   "metadata": {},
   "source": [
    "Можем наблюдать явные пики в некоторых датах, особенно стоит обратить внимание на 30 октября и 30 августа. В эти дни отношение npl займов к общей сумме займов наибольшее."
   ]
  },
  {
   "cell_type": "markdown",
   "id": "a1aa14ff-4bd8-44cc-a8ca-b10b9a143603",
   "metadata": {},
   "source": [
    "###  Промежуточный вывод"
   ]
  },
  {
   "cell_type": "markdown",
   "id": "0ba7e95c-608c-4594-946f-3c34c75e5c0d",
   "metadata": {},
   "source": [
    "1. Анализ отношения займов с просрочкой к общей выдаче позволяет выявить временные пики в определенные даты, особенно значимыми являются 30 октября и 30 августа.\r\n",
    "\n",
    "2. \n",
    "В указанные даты наблюдается наибольшее отношение просроченных, потенциально дефолтных и дефолтных займов к общей сумме выданных займов.\n",
    "\n",
    "3. \r\n",
    "Пики в отношении неплатежеспособных займов к общей выдаче могут указывать на потенциальные проблемы в платежеспособности заемщиков или на особенности временной динамики рынка\n",
    "\n",
    "4. .\r\n",
    "Дальнейший анализ и исследование причин пиков в отношении неплатежеспособных займов в указанные даты могут помочь предпринять соответствующие меры для снижения рисков и оптимизации процессов выдачи займов."
   ]
  },
  {
   "cell_type": "markdown",
   "id": "dd4c1980-247c-43ac-a3cb-4cffb31249de",
   "metadata": {},
   "source": [
    "## 5. Когортный анализ дефолтности в разрезе месяца выдачи займа "
   ]
  },
  {
   "cell_type": "markdown",
   "id": "e3e629ab-d6b1-45ae-a159-c9eca55d676d",
   "metadata": {},
   "source": [
    "### 5.1 Когорты"
   ]
  },
  {
   "cell_type": "code",
   "execution_count": 32,
   "id": "03cf83b9-27c1-4589-8c60-ca7bfdd4fa18",
   "metadata": {},
   "outputs": [
    {
     "data": {
      "text/plain": [
       "borrower_issue_class\n",
       "2. silver      46484\n",
       "1. bronze       8160\n",
       "3. gold         6147\n",
       "4. platinum     6082\n",
       "5. diamond      3398\n",
       "Name: count, dtype: int64"
      ]
     },
     "execution_count": 32,
     "metadata": {},
     "output_type": "execute_result"
    }
   ],
   "source": [
    "df['borrower_issue_class'].value_counts()"
   ]
  },
  {
   "cell_type": "markdown",
   "id": "d0099a50-860c-48e3-8701-9899335a9ea4",
   "metadata": {},
   "source": [
    "Разбить на когорты по уровню статуса клиента будет не очень корректно, т. к. они имеют существенное различие в количестве клиентов."
   ]
  },
  {
   "cell_type": "code",
   "execution_count": 33,
   "id": "60b205c9-b841-4212-83bf-f0669268ca0a",
   "metadata": {},
   "outputs": [
    {
     "data": {
      "image/png": "[encoded data removed]",
      "text/plain": [
       "<Figure size 640x480 with 1 Axes>"
      ]
     },
     "metadata": {},
     "output_type": "display_data"
    }
   ],
   "source": [
    "number_cnt = df.groupby('id')['number'].count()\n",
    "number_cnt.hist();\n",
    "\n",
    "number_cnt = number_cnt.reset_index()"
   ]
  },
  {
   "cell_type": "markdown",
   "id": "6bc40adb-4fa1-469d-94ad-cc48423759c0",
   "metadata": {},
   "source": [
    "Можем наблюдать: всего у займов количество платежей находится в диапозоне от 1 до чуть больше 40; \n",
    "наибольшее число займов с количеством платежей с 1 до около 10 и в районе 20-25.\n",
    "\n",
    "Можно рассмотреть разбивку на когорты по количеству платежей."
   ]
  },
  {
   "cell_type": "code",
   "execution_count": 34,
   "id": "e7272625-b3a9-46a6-a260-0efa5e902300",
   "metadata": {},
   "outputs": [],
   "source": [
    "user_orders = df.groupby('id').size().reset_index(name='cnt_number')\n",
    "\n",
    "# Добавление колонки с описанием количества заказов\n",
    "user_orders['cnt_number'] = pd.cut(user_orders['cnt_number'], \n",
    "                                          bins=[-float(\"inf\"), 10, 20, float(\"inf\")], \n",
    "                                          labels=['мало', 'средне', 'много'])\n",
    "\n",
    "# Объединение с исходным датафреймом по id\n",
    "df = df.merge(user_orders[['id', 'cnt_number']], on='id', how='left')"
   ]
  },
  {
   "cell_type": "code",
   "execution_count": 35,
   "id": "a4558969-795e-4897-bfd4-957e99d2a1be",
   "metadata": {},
   "outputs": [
    {
     "data": {
      "text/html": [
       "<div>\n",
       "<style scoped>\n",
       "    .dataframe tbody tr th:only-of-type {\n",
       "        vertical-align: middle;\n",
       "    }\n",
       "\n",
       "    .dataframe tbody tr th {\n",
       "        vertical-align: top;\n",
       "    }\n",
       "\n",
       "    .dataframe thead th {\n",
       "        text-align: right;\n",
       "    }\n",
       "</style>\n",
       "<table border=\"1\" class=\"dataframe\">\n",
       "  <thead>\n",
       "    <tr style=\"text-align: right;\">\n",
       "      <th></th>\n",
       "      <th>cnt_number</th>\n",
       "      <th>id</th>\n",
       "    </tr>\n",
       "  </thead>\n",
       "  <tbody>\n",
       "    <tr>\n",
       "      <th>0</th>\n",
       "      <td>мало</td>\n",
       "      <td>1248</td>\n",
       "    </tr>\n",
       "    <tr>\n",
       "      <th>1</th>\n",
       "      <td>средне</td>\n",
       "      <td>1615</td>\n",
       "    </tr>\n",
       "    <tr>\n",
       "      <th>2</th>\n",
       "      <td>много</td>\n",
       "      <td>1727</td>\n",
       "    </tr>\n",
       "  </tbody>\n",
       "</table>\n",
       "</div>"
      ],
      "text/plain": [
       "  cnt_number    id\n",
       "0       мало  1248\n",
       "1     средне  1615\n",
       "2      много  1727"
      ]
     },
     "execution_count": 35,
     "metadata": {},
     "output_type": "execute_result"
    }
   ],
   "source": [
    "df.groupby('cnt_number', observed=False)['id'].nunique().reset_index()"
   ]
  },
  {
   "cell_type": "markdown",
   "id": "956e58cc-fc12-4d90-93ab-372081553076",
   "metadata": {},
   "source": [
    "При разбивке на когорты, где у займа от 0 до 10 платежей (мало), от 11 до 20 (средне) и от 21 и далее получились примерно равные когорты по количеству займов.\n",
    "мало - 1248;\n",
    "средне - 1615;\n",
    "много - 1727.\n"
   ]
  },
  {
   "cell_type": "markdown",
   "id": "71b4b90c-bd75-41f6-8e6e-8ce0aab1f8a4",
   "metadata": {},
   "source": [
    "### 5.2 Анализ дефолтности в разрезе месяца"
   ]
  },
  {
   "cell_type": "code",
   "execution_count": 36,
   "id": "728d0bc1-f518-4d82-8185-6ca3631bf7e5",
   "metadata": {},
   "outputs": [
    {
     "data": {
      "application/vnd.plotly.v1+json": {
       "config": {
        "plotlyServerURL": "https://plot.ly"
       },
       "data": [
        {
         "alignmentgroup": "True",
         "hovertemplate": "month=%{x}<br>amount=%{y}<extra></extra>",
         "legendgroup": "",
         "marker": {
          "color": "#636efa",
          "pattern": {
           "shape": ""
          }
         },
         "name": "",
         "offsetgroup": "",
         "orientation": "v",
         "showlegend": false,
         "text": [
          17640902.17,
          30366952.79,
          55898343.63,
          82369877.15,
          104734793.15,
          148297898.15,
          172175623.19,
          204900215.29,
          222892205.49,
          237507410.09,
          258514816.29,
          264813658.29
         ],
         "textposition": "outside",
         "type": "bar",
         "x": [
          "January",
          "February",
          "March",
          "April",
          "May",
          "June",
          "July",
          "August",
          "September",
          "October",
          "November",
          "December"
         ],
         "xaxis": "x",
         "y": [
          17640902.17,
          30366952.79,
          55898343.629999995,
          82369877.14999999,
          104734793.14999999,
          148297898.14999998,
          172175623.18999997,
          204900215.28999996,
          222892205.48999995,
          237507410.08999994,
          258514816.28999993,
          264813658.28999993
         ],
         "yaxis": "y"
        }
       ],
       "layout": {
        "autosize": true,
        "barmode": "relative",
        "legend": {
         "tracegroupgap": 0
        },
        "template": {
         "data": {
          "bar": [
           {
            "error_x": {
             "color": "#2a3f5f"
            },
            "error_y": {
             "color": "#2a3f5f"
            },
            "marker": {
             "line": {
              "color": "#E5ECF6",
              "width": 0.5
             },
             "pattern": {
              "fillmode": "overlay",
              "size": 10,
              "solidity": 0.2
             }
            },
            "type": "bar"
           }
          ],
          "barpolar": [
           {
            "marker": {
             "line": {
              "color": "#E5ECF6",
              "width": 0.5
             },
             "pattern": {
              "fillmode": "overlay",
              "size": 10,
              "solidity": 0.2
             }
            },
            "type": "barpolar"
           }
          ],
          "carpet": [
           {
            "aaxis": {
             "endlinecolor": "#2a3f5f",
             "gridcolor": "white",
             "linecolor": "white",
             "minorgridcolor": "white",
             "startlinecolor": "#2a3f5f"
            },
            "baxis": {
             "endlinecolor": "#2a3f5f",
             "gridcolor": "white",
             "linecolor": "white",
             "minorgridcolor": "white",
             "startlinecolor": "#2a3f5f"
            },
            "type": "carpet"
           }
          ],
          "choropleth": [
           {
            "colorbar": {
             "outlinewidth": 0,
             "ticks": ""
            },
            "type": "choropleth"
           }
          ],
          "contour": [
           {
            "colorbar": {
             "outlinewidth": 0,
             "ticks": ""
            },
            "colorscale": [
             [
              0,
              "#0d0887"
             ],
             [
              0.1111111111111111,
              "#46039f"
             ],
             [
              0.2222222222222222,
              "#7201a8"
             ],
             [
              0.3333333333333333,
              "#9c179e"
             ],
             [
              0.4444444444444444,
              "#bd3786"
             ],
             [
              0.5555555555555556,
              "#d8576b"
             ],
             [
              0.6666666666666666,
              "#ed7953"
             ],
             [
              0.7777777777777778,
              "#fb9f3a"
             ],
             [
              0.8888888888888888,
              "#fdca26"
             ],
             [
              1,
              "#f0f921"
             ]
            ],
            "type": "contour"
           }
          ],
          "contourcarpet": [
           {
            "colorbar": {
             "outlinewidth": 0,
             "ticks": ""
            },
            "type": "contourcarpet"
           }
          ],
          "heatmap": [
           {
            "colorbar": {
             "outlinewidth": 0,
             "ticks": ""
            },
            "colorscale": [
             [
              0,
              "#0d0887"
             ],
             [
              0.1111111111111111,
              "#46039f"
             ],
             [
              0.2222222222222222,
              "#7201a8"
             ],
             [
              0.3333333333333333,
              "#9c179e"
             ],
             [
              0.4444444444444444,
              "#bd3786"
             ],
             [
              0.5555555555555556,
              "#d8576b"
             ],
             [
              0.6666666666666666,
              "#ed7953"
             ],
             [
              0.7777777777777778,
              "#fb9f3a"
             ],
             [
              0.8888888888888888,
              "#fdca26"
             ],
             [
              1,
              "#f0f921"
             ]
            ],
            "type": "heatmap"
           }
          ],
          "heatmapgl": [
           {
            "colorbar": {
             "outlinewidth": 0,
             "ticks": ""
            },
            "colorscale": [
             [
              0,
              "#0d0887"
             ],
             [
              0.1111111111111111,
              "#46039f"
             ],
             [
              0.2222222222222222,
              "#7201a8"
             ],
             [
              0.3333333333333333,
              "#9c179e"
             ],
             [
              0.4444444444444444,
              "#bd3786"
             ],
             [
              0.5555555555555556,
              "#d8576b"
             ],
             [
              0.6666666666666666,
              "#ed7953"
             ],
             [
              0.7777777777777778,
              "#fb9f3a"
             ],
             [
              0.8888888888888888,
              "#fdca26"
             ],
             [
              1,
              "#f0f921"
             ]
            ],
            "type": "heatmapgl"
           }
          ],
          "histogram": [
           {
            "marker": {
             "pattern": {
              "fillmode": "overlay",
              "size": 10,
              "solidity": 0.2
             }
            },
            "type": "histogram"
           }
          ],
          "histogram2d": [
           {
            "colorbar": {
             "outlinewidth": 0,
             "ticks": ""
            },
            "colorscale": [
             [
              0,
              "#0d0887"
             ],
             [
              0.1111111111111111,
              "#46039f"
             ],
             [
              0.2222222222222222,
              "#7201a8"
             ],
             [
              0.3333333333333333,
              "#9c179e"
             ],
             [
              0.4444444444444444,
              "#bd3786"
             ],
             [
              0.5555555555555556,
              "#d8576b"
             ],
             [
              0.6666666666666666,
              "#ed7953"
             ],
             [
              0.7777777777777778,
              "#fb9f3a"
             ],
             [
              0.8888888888888888,
              "#fdca26"
             ],
             [
              1,
              "#f0f921"
             ]
            ],
            "type": "histogram2d"
           }
          ],
          "histogram2dcontour": [
           {
            "colorbar": {
             "outlinewidth": 0,
             "ticks": ""
            },
            "colorscale": [
             [
              0,
              "#0d0887"
             ],
             [
              0.1111111111111111,
              "#46039f"
             ],
             [
              0.2222222222222222,
              "#7201a8"
             ],
             [
              0.3333333333333333,
              "#9c179e"
             ],
             [
              0.4444444444444444,
              "#bd3786"
             ],
             [
              0.5555555555555556,
              "#d8576b"
             ],
             [
              0.6666666666666666,
              "#ed7953"
             ],
             [
              0.7777777777777778,
              "#fb9f3a"
             ],
             [
              0.8888888888888888,
              "#fdca26"
             ],
             [
              1,
              "#f0f921"
             ]
            ],
            "type": "histogram2dcontour"
           }
          ],
          "mesh3d": [
           {
            "colorbar": {
             "outlinewidth": 0,
             "ticks": ""
            },
            "type": "mesh3d"
           }
          ],
          "parcoords": [
           {
            "line": {
             "colorbar": {
              "outlinewidth": 0,
              "ticks": ""
             }
            },
            "type": "parcoords"
           }
          ],
          "pie": [
           {
            "automargin": true,
            "type": "pie"
           }
          ],
          "scatter": [
           {
            "fillpattern": {
             "fillmode": "overlay",
             "size": 10,
             "solidity": 0.2
            },
            "type": "scatter"
           }
          ],
          "scatter3d": [
           {
            "line": {
             "colorbar": {
              "outlinewidth": 0,
              "ticks": ""
             }
            },
            "marker": {
             "colorbar": {
              "outlinewidth": 0,
              "ticks": ""
             }
            },
            "type": "scatter3d"
           }
          ],
          "scattercarpet": [
           {
            "marker": {
             "colorbar": {
              "outlinewidth": 0,
              "ticks": ""
             }
            },
            "type": "scattercarpet"
           }
          ],
          "scattergeo": [
           {
            "marker": {
             "colorbar": {
              "outlinewidth": 0,
              "ticks": ""
             }
            },
            "type": "scattergeo"
           }
          ],
          "scattergl": [
           {
            "marker": {
             "colorbar": {
              "outlinewidth": 0,
              "ticks": ""
             }
            },
            "type": "scattergl"
           }
          ],
          "scattermapbox": [
           {
            "marker": {
             "colorbar": {
              "outlinewidth": 0,
              "ticks": ""
             }
            },
            "type": "scattermapbox"
           }
          ],
          "scatterpolar": [
           {
            "marker": {
             "colorbar": {
              "outlinewidth": 0,
              "ticks": ""
             }
            },
            "type": "scatterpolar"
           }
          ],
          "scatterpolargl": [
           {
            "marker": {
             "colorbar": {
              "outlinewidth": 0,
              "ticks": ""
             }
            },
            "type": "scatterpolargl"
           }
          ],
          "scatterternary": [
           {
            "marker": {
             "colorbar": {
              "outlinewidth": 0,
              "ticks": ""
             }
            },
            "type": "scatterternary"
           }
          ],
          "surface": [
           {
            "colorbar": {
             "outlinewidth": 0,
             "ticks": ""
            },
            "colorscale": [
             [
              0,
              "#0d0887"
             ],
             [
              0.1111111111111111,
              "#46039f"
             ],
             [
              0.2222222222222222,
              "#7201a8"
             ],
             [
              0.3333333333333333,
              "#9c179e"
             ],
             [
              0.4444444444444444,
              "#bd3786"
             ],
             [
              0.5555555555555556,
              "#d8576b"
             ],
             [
              0.6666666666666666,
              "#ed7953"
             ],
             [
              0.7777777777777778,
              "#fb9f3a"
             ],
             [
              0.8888888888888888,
              "#fdca26"
             ],
             [
              1,
              "#f0f921"
             ]
            ],
            "type": "surface"
           }
          ],
          "table": [
           {
            "cells": {
             "fill": {
              "color": "#EBF0F8"
             },
             "line": {
              "color": "white"
             }
            },
            "header": {
             "fill": {
              "color": "#C8D4E3"
             },
             "line": {
              "color": "white"
             }
            },
            "type": "table"
           }
          ]
         },
         "layout": {
          "annotationdefaults": {
           "arrowcolor": "#2a3f5f",
           "arrowhead": 0,
           "arrowwidth": 1
          },
          "autotypenumbers": "strict",
          "coloraxis": {
           "colorbar": {
            "outlinewidth": 0,
            "ticks": ""
           }
          },
          "colorscale": {
           "diverging": [
            [
             0,
             "#8e0152"
            ],
            [
             0.1,
             "#c51b7d"
            ],
            [
             0.2,
             "#de77ae"
            ],
            [
             0.3,
             "#f1b6da"
            ],
            [
             0.4,
             "#fde0ef"
            ],
            [
             0.5,
             "#f7f7f7"
            ],
            [
             0.6,
             "#e6f5d0"
            ],
            [
             0.7,
             "#b8e186"
            ],
            [
             0.8,
             "#7fbc41"
            ],
            [
             0.9,
             "#4d9221"
            ],
            [
             1,
             "#276419"
            ]
           ],
           "sequential": [
            [
             0,
             "#0d0887"
            ],
            [
             0.1111111111111111,
             "#46039f"
            ],
            [
             0.2222222222222222,
             "#7201a8"
            ],
            [
             0.3333333333333333,
             "#9c179e"
            ],
            [
             0.4444444444444444,
             "#bd3786"
            ],
            [
             0.5555555555555556,
             "#d8576b"
            ],
            [
             0.6666666666666666,
             "#ed7953"
            ],
            [
             0.7777777777777778,
             "#fb9f3a"
            ],
            [
             0.8888888888888888,
             "#fdca26"
            ],
            [
             1,
             "#f0f921"
            ]
           ],
           "sequentialminus": [
            [
             0,
             "#0d0887"
            ],
            [
             0.1111111111111111,
             "#46039f"
            ],
            [
             0.2222222222222222,
             "#7201a8"
            ],
            [
             0.3333333333333333,
             "#9c179e"
            ],
            [
             0.4444444444444444,
             "#bd3786"
            ],
            [
             0.5555555555555556,
             "#d8576b"
            ],
            [
             0.6666666666666666,
             "#ed7953"
            ],
            [
             0.7777777777777778,
             "#fb9f3a"
            ],
            [
             0.8888888888888888,
             "#fdca26"
            ],
            [
             1,
             "#f0f921"
            ]
           ]
          },
          "colorway": [
           "#636efa",
           "#EF553B",
           "#00cc96",
           "#ab63fa",
           "#FFA15A",
           "#19d3f3",
           "#FF6692",
           "#B6E880",
           "#FF97FF",
           "#FECB52"
          ],
          "font": {
           "color": "#2a3f5f"
          },
          "geo": {
           "bgcolor": "white",
           "lakecolor": "white",
           "landcolor": "#E5ECF6",
           "showlakes": true,
           "showland": true,
           "subunitcolor": "white"
          },
          "hoverlabel": {
           "align": "left"
          },
          "hovermode": "closest",
          "mapbox": {
           "style": "light"
          },
          "paper_bgcolor": "white",
          "plot_bgcolor": "#E5ECF6",
          "polar": {
           "angularaxis": {
            "gridcolor": "white",
            "linecolor": "white",
            "ticks": ""
           },
           "bgcolor": "#E5ECF6",
           "radialaxis": {
            "gridcolor": "white",
            "linecolor": "white",
            "ticks": ""
           }
          },
          "scene": {
           "xaxis": {
            "backgroundcolor": "#E5ECF6",
            "gridcolor": "white",
            "gridwidth": 2,
            "linecolor": "white",
            "showbackground": true,
            "ticks": "",
            "zerolinecolor": "white"
           },
           "yaxis": {
            "backgroundcolor": "#E5ECF6",
            "gridcolor": "white",
            "gridwidth": 2,
            "linecolor": "white",
            "showbackground": true,
            "ticks": "",
            "zerolinecolor": "white"
           },
           "zaxis": {
            "backgroundcolor": "#E5ECF6",
            "gridcolor": "white",
            "gridwidth": 2,
            "linecolor": "white",
            "showbackground": true,
            "ticks": "",
            "zerolinecolor": "white"
           }
          },
          "shapedefaults": {
           "line": {
            "color": "#2a3f5f"
           }
          },
          "ternary": {
           "aaxis": {
            "gridcolor": "white",
            "linecolor": "white",
            "ticks": ""
           },
           "baxis": {
            "gridcolor": "white",
            "linecolor": "white",
            "ticks": ""
           },
           "bgcolor": "#E5ECF6",
           "caxis": {
            "gridcolor": "white",
            "linecolor": "white",
            "ticks": ""
           }
          },
          "title": {
           "x": 0.05
          },
          "xaxis": {
           "automargin": true,
           "gridcolor": "white",
           "linecolor": "white",
           "ticks": "",
           "title": {
            "standoff": 15
           },
           "zerolinecolor": "white",
           "zerolinewidth": 2
          },
          "yaxis": {
           "automargin": true,
           "gridcolor": "white",
           "linecolor": "white",
           "ticks": "",
           "title": {
            "standoff": 15
           },
           "zerolinecolor": "white",
           "zerolinewidth": 2
          }
         }
        },
        "title": {
         "text": "Сумма дефолтных платежей"
        },
        "xaxis": {
         "anchor": "y",
         "autorange": true,
         "domain": [
          0,
          1
         ],
         "range": [
          -0.5,
          11.5
         ],
         "title": {
          "text": "Месяц"
         },
         "type": "category"
        },
        "yaxis": {
         "anchor": "x",
         "autorange": true,
         "domain": [
          0,
          1
         ],
         "range": [
          0,
          278751219.2526315
         ],
         "title": {
          "text": "Сумма"
         },
         "type": "linear"
        }
       }
      },
      "image/png": "[encoded data removed]",
      "text/html": [
       "<div>                            <div id=\"22cd0e47-b9a7-4b53-bee0-c90ae474222c\" class=\"plotly-graph-div\" style=\"height:525px; width:100%;\"></div>            <script type=\"text/javascript\">                require([\"plotly\"], function(Plotly) {                    window.PLOTLYENV=window.PLOTLYENV || {};                                    if (document.getElementById(\"22cd0e47-b9a7-4b53-bee0-c90ae474222c\")) {                    Plotly.newPlot(                        \"22cd0e47-b9a7-4b53-bee0-c90ae474222c\",                        [{\"alignmentgroup\":\"True\",\"hovertemplate\":\"month=%{x}<br>amount=%{y}<extra></extra>\",\"legendgroup\":\"\",\"marker\":{\"color\":\"#636efa\",\"pattern\":{\"shape\":\"\"}},\"name\":\"\",\"offsetgroup\":\"\",\"orientation\":\"v\",\"showlegend\":false,\"textposition\":\"outside\",\"x\":[\"January\",\"February\",\"March\",\"April\",\"May\",\"June\",\"July\",\"August\",\"September\",\"October\",\"November\",\"December\"],\"xaxis\":\"x\",\"y\":[17640902.17,30366952.79,55898343.629999995,82369877.14999999,104734793.14999999,148297898.14999998,172175623.18999997,204900215.28999996,222892205.48999995,237507410.08999994,258514816.28999993,264813658.28999993],\"yaxis\":\"y\",\"type\":\"bar\",\"text\":[17640902.17,30366952.79,55898343.63,82369877.15,104734793.15,148297898.15,172175623.19,204900215.29,222892205.49,237507410.09,258514816.29,264813658.29]}],                        {\"template\":{\"data\":{\"histogram2dcontour\":[{\"type\":\"histogram2dcontour\",\"colorbar\":{\"outlinewidth\":0,\"ticks\":\"\"},\"colorscale\":[[0.0,\"#0d0887\"],[0.1111111111111111,\"#46039f\"],[0.2222222222222222,\"#7201a8\"],[0.3333333333333333,\"#9c179e\"],[0.4444444444444444,\"#bd3786\"],[0.5555555555555556,\"#d8576b\"],[0.6666666666666666,\"#ed7953\"],[0.7777777777777778,\"#fb9f3a\"],[0.8888888888888888,\"#fdca26\"],[1.0,\"#f0f921\"]]}],\"choropleth\":[{\"type\":\"choropleth\",\"colorbar\":{\"outlinewidth\":0,\"ticks\":\"\"}}],\"histogram2d\":[{\"type\":\"histogram2d\",\"colorbar\":{\"outlinewidth\":0,\"ticks\":\"\"},\"colorscale\":[[0.0,\"#0d0887\"],[0.1111111111111111,\"#46039f\"],[0.2222222222222222,\"#7201a8\"],[0.3333333333333333,\"#9c179e\"],[0.4444444444444444,\"#bd3786\"],[0.5555555555555556,\"#d8576b\"],[0.6666666666666666,\"#ed7953\"],[0.7777777777777778,\"#fb9f3a\"],[0.8888888888888888,\"#fdca26\"],[1.0,\"#f0f921\"]]}],\"heatmap\":[{\"type\":\"heatmap\",\"colorbar\":{\"outlinewidth\":0,\"ticks\":\"\"},\"colorscale\":[[0.0,\"#0d0887\"],[0.1111111111111111,\"#46039f\"],[0.2222222222222222,\"#7201a8\"],[0.3333333333333333,\"#9c179e\"],[0.4444444444444444,\"#bd3786\"],[0.5555555555555556,\"#d8576b\"],[0.6666666666666666,\"#ed7953\"],[0.7777777777777778,\"#fb9f3a\"],[0.8888888888888888,\"#fdca26\"],[1.0,\"#f0f921\"]]}],\"heatmapgl\":[{\"type\":\"heatmapgl\",\"colorbar\":{\"outlinewidth\":0,\"ticks\":\"\"},\"colorscale\":[[0.0,\"#0d0887\"],[0.1111111111111111,\"#46039f\"],[0.2222222222222222,\"#7201a8\"],[0.3333333333333333,\"#9c179e\"],[0.4444444444444444,\"#bd3786\"],[0.5555555555555556,\"#d8576b\"],[0.6666666666666666,\"#ed7953\"],[0.7777777777777778,\"#fb9f3a\"],[0.8888888888888888,\"#fdca26\"],[1.0,\"#f0f921\"]]}],\"contourcarpet\":[{\"type\":\"contourcarpet\",\"colorbar\":{\"outlinewidth\":0,\"ticks\":\"\"}}],\"contour\":[{\"type\":\"contour\",\"colorbar\":{\"outlinewidth\":0,\"ticks\":\"\"},\"colorscale\":[[0.0,\"#0d0887\"],[0.1111111111111111,\"#46039f\"],[0.2222222222222222,\"#7201a8\"],[0.3333333333333333,\"#9c179e\"],[0.4444444444444444,\"#bd3786\"],[0.5555555555555556,\"#d8576b\"],[0.6666666666666666,\"#ed7953\"],[0.7777777777777778,\"#fb9f3a\"],[0.8888888888888888,\"#fdca26\"],[1.0,\"#f0f921\"]]}],\"surface\":[{\"type\":\"surface\",\"colorbar\":{\"outlinewidth\":0,\"ticks\":\"\"},\"colorscale\":[[0.0,\"#0d0887\"],[0.1111111111111111,\"#46039f\"],[0.2222222222222222,\"#7201a8\"],[0.3333333333333333,\"#9c179e\"],[0.4444444444444444,\"#bd3786\"],[0.5555555555555556,\"#d8576b\"],[0.6666666666666666,\"#ed7953\"],[0.7777777777777778,\"#fb9f3a\"],[0.8888888888888888,\"#fdca26\"],[1.0,\"#f0f921\"]]}],\"mesh3d\":[{\"type\":\"mesh3d\",\"colorbar\":{\"outlinewidth\":0,\"ticks\":\"\"}}],\"scatter\":[{\"fillpattern\":{\"fillmode\":\"overlay\",\"size\":10,\"solidity\":0.2},\"type\":\"scatter\"}],\"parcoords\":[{\"type\":\"parcoords\",\"line\":{\"colorbar\":{\"outlinewidth\":0,\"ticks\":\"\"}}}],\"scatterpolargl\":[{\"type\":\"scatterpolargl\",\"marker\":{\"colorbar\":{\"outlinewidth\":0,\"ticks\":\"\"}}}],\"bar\":[{\"error_x\":{\"color\":\"#2a3f5f\"},\"error_y\":{\"color\":\"#2a3f5f\"},\"marker\":{\"line\":{\"color\":\"#E5ECF6\",\"width\":0.5},\"pattern\":{\"fillmode\":\"overlay\",\"size\":10,\"solidity\":0.2}},\"type\":\"bar\"}],\"scattergeo\":[{\"type\":\"scattergeo\",\"marker\":{\"colorbar\":{\"outlinewidth\":0,\"ticks\":\"\"}}}],\"scatterpolar\":[{\"type\":\"scatterpolar\",\"marker\":{\"colorbar\":{\"outlinewidth\":0,\"ticks\":\"\"}}}],\"histogram\":[{\"marker\":{\"pattern\":{\"fillmode\":\"overlay\",\"size\":10,\"solidity\":0.2}},\"type\":\"histogram\"}],\"scattergl\":[{\"type\":\"scattergl\",\"marker\":{\"colorbar\":{\"outlinewidth\":0,\"ticks\":\"\"}}}],\"scatter3d\":[{\"type\":\"scatter3d\",\"line\":{\"colorbar\":{\"outlinewidth\":0,\"ticks\":\"\"}},\"marker\":{\"colorbar\":{\"outlinewidth\":0,\"ticks\":\"\"}}}],\"scattermapbox\":[{\"type\":\"scattermapbox\",\"marker\":{\"colorbar\":{\"outlinewidth\":0,\"ticks\":\"\"}}}],\"scatterternary\":[{\"type\":\"scatterternary\",\"marker\":{\"colorbar\":{\"outlinewidth\":0,\"ticks\":\"\"}}}],\"scattercarpet\":[{\"type\":\"scattercarpet\",\"marker\":{\"colorbar\":{\"outlinewidth\":0,\"ticks\":\"\"}}}],\"carpet\":[{\"aaxis\":{\"endlinecolor\":\"#2a3f5f\",\"gridcolor\":\"white\",\"linecolor\":\"white\",\"minorgridcolor\":\"white\",\"startlinecolor\":\"#2a3f5f\"},\"baxis\":{\"endlinecolor\":\"#2a3f5f\",\"gridcolor\":\"white\",\"linecolor\":\"white\",\"minorgridcolor\":\"white\",\"startlinecolor\":\"#2a3f5f\"},\"type\":\"carpet\"}],\"table\":[{\"cells\":{\"fill\":{\"color\":\"#EBF0F8\"},\"line\":{\"color\":\"white\"}},\"header\":{\"fill\":{\"color\":\"#C8D4E3\"},\"line\":{\"color\":\"white\"}},\"type\":\"table\"}],\"barpolar\":[{\"marker\":{\"line\":{\"color\":\"#E5ECF6\",\"width\":0.5},\"pattern\":{\"fillmode\":\"overlay\",\"size\":10,\"solidity\":0.2}},\"type\":\"barpolar\"}],\"pie\":[{\"automargin\":true,\"type\":\"pie\"}]},\"layout\":{\"autotypenumbers\":\"strict\",\"colorway\":[\"#636efa\",\"#EF553B\",\"#00cc96\",\"#ab63fa\",\"#FFA15A\",\"#19d3f3\",\"#FF6692\",\"#B6E880\",\"#FF97FF\",\"#FECB52\"],\"font\":{\"color\":\"#2a3f5f\"},\"hovermode\":\"closest\",\"hoverlabel\":{\"align\":\"left\"},\"paper_bgcolor\":\"white\",\"plot_bgcolor\":\"#E5ECF6\",\"polar\":{\"bgcolor\":\"#E5ECF6\",\"angularaxis\":{\"gridcolor\":\"white\",\"linecolor\":\"white\",\"ticks\":\"\"},\"radialaxis\":{\"gridcolor\":\"white\",\"linecolor\":\"white\",\"ticks\":\"\"}},\"ternary\":{\"bgcolor\":\"#E5ECF6\",\"aaxis\":{\"gridcolor\":\"white\",\"linecolor\":\"white\",\"ticks\":\"\"},\"baxis\":{\"gridcolor\":\"white\",\"linecolor\":\"white\",\"ticks\":\"\"},\"caxis\":{\"gridcolor\":\"white\",\"linecolor\":\"white\",\"ticks\":\"\"}},\"coloraxis\":{\"colorbar\":{\"outlinewidth\":0,\"ticks\":\"\"}},\"colorscale\":{\"sequential\":[[0.0,\"#0d0887\"],[0.1111111111111111,\"#46039f\"],[0.2222222222222222,\"#7201a8\"],[0.3333333333333333,\"#9c179e\"],[0.4444444444444444,\"#bd3786\"],[0.5555555555555556,\"#d8576b\"],[0.6666666666666666,\"#ed7953\"],[0.7777777777777778,\"#fb9f3a\"],[0.8888888888888888,\"#fdca26\"],[1.0,\"#f0f921\"]],\"sequentialminus\":[[0.0,\"#0d0887\"],[0.1111111111111111,\"#46039f\"],[0.2222222222222222,\"#7201a8\"],[0.3333333333333333,\"#9c179e\"],[0.4444444444444444,\"#bd3786\"],[0.5555555555555556,\"#d8576b\"],[0.6666666666666666,\"#ed7953\"],[0.7777777777777778,\"#fb9f3a\"],[0.8888888888888888,\"#fdca26\"],[1.0,\"#f0f921\"]],\"diverging\":[[0,\"#8e0152\"],[0.1,\"#c51b7d\"],[0.2,\"#de77ae\"],[0.3,\"#f1b6da\"],[0.4,\"#fde0ef\"],[0.5,\"#f7f7f7\"],[0.6,\"#e6f5d0\"],[0.7,\"#b8e186\"],[0.8,\"#7fbc41\"],[0.9,\"#4d9221\"],[1,\"#276419\"]]},\"xaxis\":{\"gridcolor\":\"white\",\"linecolor\":\"white\",\"ticks\":\"\",\"title\":{\"standoff\":15},\"zerolinecolor\":\"white\",\"automargin\":true,\"zerolinewidth\":2},\"yaxis\":{\"gridcolor\":\"white\",\"linecolor\":\"white\",\"ticks\":\"\",\"title\":{\"standoff\":15},\"zerolinecolor\":\"white\",\"automargin\":true,\"zerolinewidth\":2},\"scene\":{\"xaxis\":{\"backgroundcolor\":\"#E5ECF6\",\"gridcolor\":\"white\",\"linecolor\":\"white\",\"showbackground\":true,\"ticks\":\"\",\"zerolinecolor\":\"white\",\"gridwidth\":2},\"yaxis\":{\"backgroundcolor\":\"#E5ECF6\",\"gridcolor\":\"white\",\"linecolor\":\"white\",\"showbackground\":true,\"ticks\":\"\",\"zerolinecolor\":\"white\",\"gridwidth\":2},\"zaxis\":{\"backgroundcolor\":\"#E5ECF6\",\"gridcolor\":\"white\",\"linecolor\":\"white\",\"showbackground\":true,\"ticks\":\"\",\"zerolinecolor\":\"white\",\"gridwidth\":2}},\"shapedefaults\":{\"line\":{\"color\":\"#2a3f5f\"}},\"annotationdefaults\":{\"arrowcolor\":\"#2a3f5f\",\"arrowhead\":0,\"arrowwidth\":1},\"geo\":{\"bgcolor\":\"white\",\"landcolor\":\"#E5ECF6\",\"subunitcolor\":\"white\",\"showland\":true,\"showlakes\":true,\"lakecolor\":\"white\"},\"title\":{\"x\":0.05},\"mapbox\":{\"style\":\"light\"}}},\"xaxis\":{\"anchor\":\"y\",\"domain\":[0.0,1.0],\"title\":{\"text\":\"\\u041c\\u0435\\u0441\\u044f\\u0446\"}},\"yaxis\":{\"anchor\":\"x\",\"domain\":[0.0,1.0],\"title\":{\"text\":\"\\u0421\\u0443\\u043c\\u043c\\u0430\"}},\"legend\":{\"tracegroupgap\":0},\"title\":{\"text\":\"\\u0421\\u0443\\u043c\\u043c\\u0430 \\u0434\\u0435\\u0444\\u043e\\u043b\\u0442\\u043d\\u044b\\u0445 \\u043f\\u043b\\u0430\\u0442\\u0435\\u0436\\u0435\\u0439\"},\"barmode\":\"relative\"},                        {\"responsive\": true}                    ).then(function(){\n",
       "                            \n",
       "var gd = document.getElementById('22cd0e47-b9a7-4b53-bee0-c90ae474222c');\n",
       "var x = new MutationObserver(function (mutations, observer) {{\n",
       "        var display = window.getComputedStyle(gd).display;\n",
       "        if (!display || display === 'none') {{\n",
       "            console.log([gd, 'removed!']);\n",
       "            Plotly.purge(gd);\n",
       "            observer.disconnect();\n",
       "        }}\n",
       "}});\n",
       "\n",
       "// Listen for the removal of the full notebook cells\n",
       "var notebookContainer = gd.closest('#notebook-container');\n",
       "if (notebookContainer) {{\n",
       "    x.observe(notebookContainer, {childList: true});\n",
       "}}\n",
       "\n",
       "// Listen for the clearing of the current output cell\n",
       "var outputEl = gd.closest('.output');\n",
       "if (outputEl) {{\n",
       "    x.observe(outputEl, {childList: true});\n",
       "}}\n",
       "\n",
       "                        })                };                });            </script>        </div>"
      ]
     },
     "metadata": {},
     "output_type": "display_data"
    }
   ],
   "source": [
    "df['month'] = df['start_date'].dt.to_period('M')\n",
    "\n",
    "defaulted_df = df.loc[df['status'] == 'defaulted'].copy()\n",
    "\n",
    "default_sum = defaulted_df.groupby('month')['amount'].sum().cumsum().reset_index()\n",
    "\n",
    "# Заменим на названия месяца для наглядности\n",
    "default_sum['month'] = default_sum['month'].astype(str)\n",
    "default_sum['month'] = default_sum['month'].apply(lambda x: calendar.month_name[int(x.split('-')[1])])\n",
    "\n",
    "fig = px.bar(default_sum, x='month', y='amount', title='Сумма дефолтных платежей')\n",
    "\n",
    "# Подпись осей\n",
    "fig.update_xaxes(title_text='Месяц')\n",
    "fig.update_yaxes(title_text='Сумма')\n",
    "\n",
    "# Вывод значений на график\n",
    "fig.update_traces(text=default_sum['amount'].round(2), textposition='outside')\n",
    "\n",
    "# Отображение графика\n",
    "fig.show()\n"
   ]
  },
  {
   "cell_type": "markdown",
   "id": "9deb2d9f-86fb-4ce0-a80f-67ea2cea4b59",
   "metadata": {},
   "source": [
    "По общей сумме дефолтных платежей с накоплением в разрезе по месяцам видно, что:\n",
    "1. На конец года сумма достигает 264,8 млн\n",
    "2. В целом сумма растет довольно стабильно"
   ]
  },
  {
   "cell_type": "code",
   "execution_count": 37,
   "id": "e8a4166a-a4a9-4aa9-960d-269e1df4c6ab",
   "metadata": {},
   "outputs": [
    {
     "data": {
      "image/png": "[encoded data removed]",
      "text/plain": [
       "<Figure size 1000x600 with 1 Axes>"
      ]
     },
     "metadata": {},
     "output_type": "display_data"
    }
   ],
   "source": [
    "# Группировка и суммирование для каждого значения cnt_number\n",
    "default_sum_1 = df.query(\"cnt_number == 'мало' and status == 'defaulted'\").groupby('month')['amount'].sum().cumsum().reset_index()\n",
    "default_sum_2 = df.query(\"cnt_number == 'средне' and status == 'defaulted'\").groupby('month')['amount'].sum().cumsum().reset_index()\n",
    "default_sum_3 = df.query(\"cnt_number == 'много' and status == 'defaulted'\").groupby('month')['amount'].sum().cumsum().reset_index()\n",
    "\n",
    "# Преобразуем столбец month в индекс\n",
    "default_sum_1.set_index('month', inplace=True)\n",
    "default_sum_2.set_index('month', inplace=True)\n",
    "default_sum_3.set_index('month', inplace=True)\n",
    "\n",
    "# Объединяем индексы всех кадров данных\n",
    "idx = default_sum_1.index.union(default_sum_2.index).union(default_sum_3.index)\n",
    "\n",
    "# Переиндексируем все кадры данных, заполняя отсутствующие значения нулями\n",
    "default_sum_1 = default_sum_1.reindex(idx, fill_value=0)\n",
    "default_sum_2 = default_sum_2.reindex(idx, fill_value=0)\n",
    "default_sum_3 = default_sum_3.reindex(idx, fill_value=0)\n",
    "\n",
    "# Сбросим индекс для возврата 'month' в столбец\n",
    "default_sum_1.reset_index(inplace=True)\n",
    "default_sum_2.reset_index(inplace=True)\n",
    "default_sum_3.reset_index(inplace=True)\n",
    "\n",
    "# Замена на названия месяца для наглядности\n",
    "default_sum_1['month'] = default_sum_1['month'].astype(str).apply(lambda x: calendar.month_name[int(x.split('-')[1])])\n",
    "default_sum_2['month'] = default_sum_2['month'].astype(str).apply(lambda x: calendar.month_name[int(x.split('-')[1])])\n",
    "default_sum_3['month'] = default_sum_3['month'].astype(str).apply(lambda x: calendar.month_name[int(x.split('-')[1])])\n",
    "\n",
    "# Создание графика\n",
    "plt.figure(figsize=(10, 6))\n",
    "\n",
    "# Слияние данных\n",
    "merged_data = default_sum_1.merge(default_sum_2, on='month', suffixes=('_мало', '_средне')).merge(default_sum_3, on='month')\n",
    "\n",
    "# Построение линий для каждого значения cnt_number\n",
    "plt.plot(merged_data['month'], merged_data['amount_мало'], label='Мало')\n",
    "plt.plot(merged_data['month'], merged_data['amount_средне'], label='Средне')\n",
    "plt.plot(merged_data['month'], merged_data['amount'], label='Много')\n",
    "\n",
    "# Настройка осей и легенды\n",
    "plt.xlabel('Месяц')\n",
    "plt.ylabel('Сумма')\n",
    "plt.title('Сумма дефолтных платежей')\n",
    "plt.legend()\n",
    "\n",
    "# Поворот названий месяцев на оси x\n",
    "plt.xticks(rotation=45)\n",
    "\n",
    "# Отображение графика\n",
    "plt.grid(True)\n",
    "plt.show()\n"
   ]
  },
  {
   "cell_type": "markdown",
   "id": "f0d2babb-2129-483f-a10b-18dac70d220b",
   "metadata": {},
   "source": [
    "По общей сумме дефолтных платежей с накоплением в разрезе по месяцам и с разделением на когорты видно, что:\n",
    "\n",
    "1. В зависимости от количества дефолтных платежей, увеличивается и их общая сумма, что логично.\n",
    "2. В некоторые месяцы отсутствуют платежы и групп.\n",
    "3. Займы с высоким и среднем количеством платежей стабильно растут по общей сумме, когда займы с малым количеством на протяжении нескольких месяцев стоят на месте и в целом не показывают большого роста."
   ]
  },
  {
   "cell_type": "code",
   "execution_count": 38,
   "id": "46fa029e-aca3-482f-ad2c-da133007f05a",
   "metadata": {},
   "outputs": [
    {
     "data": {
      "image/png": "[encoded data removed]",
      "text/plain": [
       "<Figure size 1000x600 with 1 Axes>"
      ]
     },
     "metadata": {},
     "output_type": "display_data"
    },
    {
     "data": {
      "image/png": "[encoded data removed]",
      "text/plain": [
       "<Figure size 1000x600 with 1 Axes>"
      ]
     },
     "metadata": {},
     "output_type": "display_data"
    },
    {
     "data": {
      "image/png": "[encoded data removed]",
      "text/plain": [
       "<Figure size 1000x600 with 1 Axes>"
      ]
     },
     "metadata": {},
     "output_type": "display_data"
    }
   ],
   "source": [
    "def plot_default_sum(df, cnt_number_values):\n",
    "    for cnt_number in cnt_number_values:\n",
    "        default_sum = df.query(f\"cnt_number == '{cnt_number}' and status == 'defaulted'\").groupby('month')['amount'].sum().cumsum().reset_index()\n",
    "        default_sum.set_index('month', inplace=True)\n",
    "        idx = default_sum.index.union(default_sum.index)\n",
    "        default_sum = default_sum.reindex(idx, fill_value=0)\n",
    "        default_sum.reset_index(inplace=True)\n",
    "        default_sum['month'] = default_sum['month'].astype(str).apply(lambda x: calendar.month_name[int(x.split('-')[1])])\n",
    "\n",
    "        plt.figure(figsize=(10, 6))\n",
    "        plt.plot(default_sum['month'], default_sum['amount'], label=cnt_number)\n",
    "        plt.xlabel('Месяц')\n",
    "        plt.ylabel('Сумма')\n",
    "        plt.title(f'Сумма дефолтных платежей для \"{cnt_number}\"')\n",
    "        plt.legend()\n",
    "        plt.xticks(rotation=45)\n",
    "        plt.grid(True)\n",
    "        plt.show()\n",
    "\n",
    "# Пример использования функции\n",
    "plot_default_sum(df, ['мало', 'средне', 'много'])"
   ]
  },
  {
   "cell_type": "markdown",
   "id": "6479774b-7378-4318-8b6a-2f39bbec436e",
   "metadata": {},
   "source": [
    "1. У займов с малым количеством платежей отсутствуют дефолтные платежы в некоторые месяцы, а именно: Февраль, Март, Август, Сентябрь, Октябрь, Декабрь.\n",
    "2. У средних платежей с августа по сентябрь наблюдается заметная остановка в росте суммы. Стоит обратить на это внимание.\n",
    "3. Займы с большим количеством заказов на графике показывают наиболее стабильный рост.\n",
    "4. У займов с большим количеством заказов отсутствуют дефолтные платежи за декабрь, на что нужно обратить внимание."
   ]
  },
  {
   "cell_type": "markdown",
   "id": "972b48ba-6486-49ce-8646-a9737ef08e16",
   "metadata": {},
   "source": [
    "###  Промежуточный вывод"
   ]
  },
  {
   "cell_type": "markdown",
   "id": "a4386277-d33d-4092-a1ef-f04e4b4e2293",
   "metadata": {},
   "source": [
    "Анализ количества платежей показывает, что большинство займов имеют от 1 до около 10 платежей, а также в районе 20-25. Это может указывать на типичные сроки погашения займов.\n",
    "Разбивка на когорты по количеству платежей позволяет выделить категории займов: малое количество платежей (до 10), среднее количество платежей (11-20) и большое количество платежей (21 и более). Общее количество займов в этих категориях примерно одинаково.\n",
    "Общая сумма дефолтных платежей увеличивается со временем, причём рост довольно стабильный. Это может свидетельствовать о нарастающих проблемах с возвратом займов.\n",
    "Разбивка общей суммы дефолтных платежей на когорты по количеству платежей показывает, что с увеличением количества платежей растёт и общая сумма дефолтных платежей, что логично.\n",
    "Заметно, что в некоторые месяцы отсутствуют дефолтные платежи в определенных когортах займов. Это может свидетельствовать о специфических факторах, влияющих на возврат займов в эти периоды.\n",
    "Стоит обратить внимание на замедление роста суммы дефолтных платежей у займов среднего количества платежей в период с августа по сентябрь.\n",
    "Займы с большим количеством платежей показывают более стабильный рост по сравнению с другими категориями займов, однако следует обратить внимание на отсутствие дефолтных платежей в декабре в этой категории, возможно произошел сбой в системе или просто отсутствуют данные."
   ]
  },
  {
   "cell_type": "markdown",
   "id": "47ce9062-28e6-40ba-af84-4f28b8610b8b",
   "metadata": {},
   "source": [
    "## 4. Общий вывод"
   ]
  },
  {
   "cell_type": "markdown",
   "id": "8a7de365-f3b8-48b9-9928-e3e4869bbb81",
   "metadata": {},
   "source": [
    "\n",
    "На основе предоставленной информации о выполненной аналитической работе по разведочному анализу данных о займах за 2023 год можно сделать следующие выводы:\n",
    "\n",
    "Главный вывод:\n",
    "Займы с различным рейтингом демонстрируют значительные различия в динамике и поведении дефолтов. Займы с высоким рейтингом преобладают по количеству, но имеют наименьшие общие суммы платежей. Это может указывать на более консервативный подход к выдаче займов с высоким рейтингом и более низкую вероятность дефолта. Наблюдаемая обратная зависимость между рейтингом и суммой платежей подчеркивает, что более высокий рейтинг может коррелировать с более низкими рисками для кредитора.\n",
    "\n",
    "Дополнительный вывод 1:\n",
    "Исследование просроченных займов показывает временные пики в определенные даты, такие как 30 октября и 30 августа. Эти даты могут указывать на внешние или внутренние факторы, влияющие на способность заемщиков выполнять платежи, такие как экономические изменения или политики кредитования. Анализ этих дат может помочь кредиторам предпринять меры для уменьшения риска дефолта, возможно, путем изменения условий кредитования или даты выплаты.\n",
    "\n",
    "Дополнительный вывод 2:\n",
    "Когортный анализ дефолтности по месяцам выдачи показал, что общее количество дефолтных платежей растет со временем, что может свидетельствовать о нарастающих проблемах с возвратом займов. При этом, анализ показал, замедление роста дефолтов у займов средней категории в период с августа по сентябрь, в то время как займы с большим количеством платежей демонстрировали более стабильный рост. Наличие месяцев без дефолтных платежей в определенных категориях может указывать на специфические факторы, влияющие на возврат займов в эти периоды. Важно также обратить внимание на отсутствие дефолтных платежей в декабре среди займов с большим количеством платежей, что может свидетельствовать о возможном сбое в системе или недостатке данных.\n",
    "\n",
    "Общие рекомендации:\n",
    "На основе проведенного анализа рекомендуется внимательно отслеживать займы с различными рейтингами и адаптировать свои стратегии управления рисками исходя из обнаруженных зависимостей. Анализ дат пиковых просрочек может помочь в оптимизации даты выплат и улучшении коммуникации с заемщиками. Кроме того, периодический когортный анализ может предоставить дополнительную информацию по некоторым временным отрезкам для предотвращения дефолтов и улучшения финансовых результатов."
   ]
  },
  {
   "cell_type": "code",
   "execution_count": null,
   "id": "c7a3baf6-6f1c-4039-a395-33b3799c77c6",
   "metadata": {},
   "outputs": [],
   "source": []
  }
 ],
 "metadata": {
  "kernelspec": {
   "display_name": "Python 3 (ipykernel)",
   "language": "python",
   "name": "python3"
  },
  "language_info": {
   "codemirror_mode": {
    "name": "ipython",
    "version": 3
   },
   "file_extension": ".py",
   "mimetype": "text/x-python",
   "name": "python",
   "nbconvert_exporter": "python",
   "pygments_lexer": "ipython3",
   "version": "3.11.7"
  }
 },
 "nbformat": 4,
 "nbformat_minor": 5
}
